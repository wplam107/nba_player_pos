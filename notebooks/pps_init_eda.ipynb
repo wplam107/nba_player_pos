{
 "cells": [
  {
   "cell_type": "markdown",
   "metadata": {},
   "source": [
    "# Initial EDA for Points per Shot\n",
    "Shooting data analysis for the 2017-18, 2018-19, and 2019-2020 NBA seasons"
   ]
  },
  {
   "cell_type": "code",
   "execution_count": 83,
   "metadata": {},
   "outputs": [],
   "source": [
    "import numpy as np\n",
    "import pandas as pd\n",
    "import matplotlib.pyplot as plt\n",
    "import seaborn as sns\n",
    "\n",
    "import nba_api.stats.endpoints as endpoints\n",
    "from nba_api.stats.static import teams\n",
    "from nba_api.stats.static import players\n",
    "\n",
    "from sklearn.linear_model import LinearRegression"
   ]
  },
  {
   "cell_type": "code",
   "execution_count": 2,
   "metadata": {},
   "outputs": [],
   "source": [
    "pd.set_option('display.max_columns', None)"
   ]
  },
  {
   "cell_type": "code",
   "execution_count": 3,
   "metadata": {},
   "outputs": [],
   "source": [
    "teams = teams.get_teams()\n",
    "players = players.get_players()"
   ]
  },
  {
   "cell_type": "code",
   "execution_count": 6,
   "metadata": {},
   "outputs": [],
   "source": [
    "team_ids_dict = { team['abbreviation']: team['id'] for team in teams }"
   ]
  },
  {
   "cell_type": "markdown",
   "metadata": {},
   "source": [
    "## API codes and dataset organization\n",
    "- **Season IDs**:\n",
    "    - 1st Digit: 1 = Preseason, 2 = Regular season, 4 = Playoffs\n",
    "    - Last 4 Digits: Start year of season\n",
    "    \n",
    "- **PlayerDashPtShots datasets from resultSets**:\n",
    "    - 0: Overall Shooting\n",
    "    - 1: General Shooting\n",
    "    - 2: Shot Clock Shooting\n",
    "    - 3: Dribble Shooting\n",
    "    - 4: Closest Defender Shooting\n",
    "    - 5: Closest Defender 10 feet+ Shooting (mid-range+)\n",
    "    - 6: Touch Time Shooting"
   ]
  },
  {
   "cell_type": "code",
   "execution_count": 16,
   "metadata": {},
   "outputs": [],
   "source": [
    "# Get player shooting from mid-range plus from 2017-18, 2018-19, and 2019-20 seasons\n",
    "results = [\n",
    "    endpoints.playerdashptshots.PlayerDashPtShots(team_id=0, player_id=0, season=season).get_data_frames()[5]\n",
    "    for season in ['2017-18', '2018-19', '2019-20']\n",
    "]"
   ]
  },
  {
   "cell_type": "code",
   "execution_count": 53,
   "metadata": {},
   "outputs": [],
   "source": [
    "# Concat all data\n",
    "df = pd.concat([ result for result in results ])"
   ]
  },
  {
   "cell_type": "code",
   "execution_count": 60,
   "metadata": {},
   "outputs": [
    {
     "data": {
      "text/html": [
       "<div>\n",
       "<style scoped>\n",
       "    .dataframe tbody tr th:only-of-type {\n",
       "        vertical-align: middle;\n",
       "    }\n",
       "\n",
       "    .dataframe tbody tr th {\n",
       "        vertical-align: top;\n",
       "    }\n",
       "\n",
       "    .dataframe thead th {\n",
       "        text-align: right;\n",
       "    }\n",
       "</style>\n",
       "<table border=\"1\" class=\"dataframe\">\n",
       "  <thead>\n",
       "    <tr style=\"text-align: right;\">\n",
       "      <th></th>\n",
       "      <th>PLAYER_ID</th>\n",
       "      <th>PLAYER_NAME_LAST_FIRST</th>\n",
       "      <th>SORT_ORDER</th>\n",
       "      <th>GP</th>\n",
       "      <th>G</th>\n",
       "      <th>CLOSE_DEF_DIST_RANGE</th>\n",
       "      <th>FGA_FREQUENCY</th>\n",
       "      <th>FGM</th>\n",
       "      <th>FGA</th>\n",
       "      <th>FG_PCT</th>\n",
       "      <th>EFG_PCT</th>\n",
       "      <th>FG2A_FREQUENCY</th>\n",
       "      <th>FG2M</th>\n",
       "      <th>FG2A</th>\n",
       "      <th>FG2_PCT</th>\n",
       "      <th>FG3A_FREQUENCY</th>\n",
       "      <th>FG3M</th>\n",
       "      <th>FG3A</th>\n",
       "      <th>FG3_PCT</th>\n",
       "    </tr>\n",
       "  </thead>\n",
       "  <tbody>\n",
       "    <tr>\n",
       "      <th>0</th>\n",
       "      <td>1627820</td>\n",
       "      <td>Wallace, Tyrone</td>\n",
       "      <td>1</td>\n",
       "      <td>1222</td>\n",
       "      <td>1</td>\n",
       "      <td>0-2 Feet - Very Tight</td>\n",
       "      <td>0.0</td>\n",
       "      <td>0</td>\n",
       "      <td>1</td>\n",
       "      <td>0.000</td>\n",
       "      <td>0.000</td>\n",
       "      <td>0.0</td>\n",
       "      <td>0</td>\n",
       "      <td>1</td>\n",
       "      <td>0.000</td>\n",
       "      <td>0.0</td>\n",
       "      <td>0</td>\n",
       "      <td>0</td>\n",
       "      <td>NaN</td>\n",
       "    </tr>\n",
       "    <tr>\n",
       "      <th>1</th>\n",
       "      <td>2200</td>\n",
       "      <td>Gasol, Pau</td>\n",
       "      <td>1</td>\n",
       "      <td>1222</td>\n",
       "      <td>5</td>\n",
       "      <td>0-2 Feet - Very Tight</td>\n",
       "      <td>0.0</td>\n",
       "      <td>2</td>\n",
       "      <td>5</td>\n",
       "      <td>0.400</td>\n",
       "      <td>0.400</td>\n",
       "      <td>0.0</td>\n",
       "      <td>2</td>\n",
       "      <td>5</td>\n",
       "      <td>0.400</td>\n",
       "      <td>0.0</td>\n",
       "      <td>0</td>\n",
       "      <td>0</td>\n",
       "      <td>NaN</td>\n",
       "    </tr>\n",
       "    <tr>\n",
       "      <th>2</th>\n",
       "      <td>201196</td>\n",
       "      <td>Sessions, Ramon</td>\n",
       "      <td>1</td>\n",
       "      <td>1222</td>\n",
       "      <td>3</td>\n",
       "      <td>0-2 Feet - Very Tight</td>\n",
       "      <td>0.0</td>\n",
       "      <td>0</td>\n",
       "      <td>3</td>\n",
       "      <td>0.000</td>\n",
       "      <td>0.000</td>\n",
       "      <td>0.0</td>\n",
       "      <td>0</td>\n",
       "      <td>3</td>\n",
       "      <td>0.000</td>\n",
       "      <td>0.0</td>\n",
       "      <td>0</td>\n",
       "      <td>0</td>\n",
       "      <td>NaN</td>\n",
       "    </tr>\n",
       "    <tr>\n",
       "      <th>3</th>\n",
       "      <td>201596</td>\n",
       "      <td>Chalmers, Mario</td>\n",
       "      <td>1</td>\n",
       "      <td>1222</td>\n",
       "      <td>7</td>\n",
       "      <td>0-2 Feet - Very Tight</td>\n",
       "      <td>0.0</td>\n",
       "      <td>3</td>\n",
       "      <td>9</td>\n",
       "      <td>0.333</td>\n",
       "      <td>0.333</td>\n",
       "      <td>0.0</td>\n",
       "      <td>3</td>\n",
       "      <td>7</td>\n",
       "      <td>0.429</td>\n",
       "      <td>0.0</td>\n",
       "      <td>0</td>\n",
       "      <td>2</td>\n",
       "      <td>0.0</td>\n",
       "    </tr>\n",
       "    <tr>\n",
       "      <th>4</th>\n",
       "      <td>1628502</td>\n",
       "      <td>Hayes, Nigel</td>\n",
       "      <td>1</td>\n",
       "      <td>1222</td>\n",
       "      <td>1</td>\n",
       "      <td>0-2 Feet - Very Tight</td>\n",
       "      <td>0.0</td>\n",
       "      <td>0</td>\n",
       "      <td>1</td>\n",
       "      <td>0.000</td>\n",
       "      <td>0.000</td>\n",
       "      <td>0.0</td>\n",
       "      <td>0</td>\n",
       "      <td>1</td>\n",
       "      <td>0.000</td>\n",
       "      <td>0.0</td>\n",
       "      <td>0</td>\n",
       "      <td>0</td>\n",
       "      <td>NaN</td>\n",
       "    </tr>\n",
       "  </tbody>\n",
       "</table>\n",
       "</div>"
      ],
      "text/plain": [
       "   PLAYER_ID PLAYER_NAME_LAST_FIRST  SORT_ORDER    GP  G  \\\n",
       "0    1627820        Wallace, Tyrone           1  1222  1   \n",
       "1       2200             Gasol, Pau           1  1222  5   \n",
       "2     201196        Sessions, Ramon           1  1222  3   \n",
       "3     201596        Chalmers, Mario           1  1222  7   \n",
       "4    1628502           Hayes, Nigel           1  1222  1   \n",
       "\n",
       "    CLOSE_DEF_DIST_RANGE  FGA_FREQUENCY  FGM  FGA  FG_PCT  EFG_PCT  \\\n",
       "0  0-2 Feet - Very Tight            0.0    0    1   0.000    0.000   \n",
       "1  0-2 Feet - Very Tight            0.0    2    5   0.400    0.400   \n",
       "2  0-2 Feet - Very Tight            0.0    0    3   0.000    0.000   \n",
       "3  0-2 Feet - Very Tight            0.0    3    9   0.333    0.333   \n",
       "4  0-2 Feet - Very Tight            0.0    0    1   0.000    0.000   \n",
       "\n",
       "   FG2A_FREQUENCY  FG2M  FG2A  FG2_PCT  FG3A_FREQUENCY  FG3M  FG3A  FG3_PCT  \n",
       "0             0.0     0     1    0.000             0.0     0     0      NaN  \n",
       "1             0.0     2     5    0.400             0.0     0     0      NaN  \n",
       "2             0.0     0     3    0.000             0.0     0     0      NaN  \n",
       "3             0.0     3     7    0.429             0.0     0     2      0.0  \n",
       "4             0.0     0     1    0.000             0.0     0     0      NaN  "
      ]
     },
     "execution_count": 60,
     "metadata": {},
     "output_type": "execute_result"
    }
   ],
   "source": [
    "df.head()"
   ]
  },
  {
   "cell_type": "markdown",
   "metadata": {},
   "source": [
    "## If and when is a midrange shot better than a 3?\n",
    "### Relation between closest defender distance and points per shot (PPS)\n",
    "There appears to be an almost linear relationship between defender distance and PPS.  Additionally, there does not appear to be a spike in PPS in the 6+ feet category.  This could indicate at some point greater than 6 feet the closest defender distance does not contribute heavily to PPS.\n",
    "\n",
    "Here we can see that over the 3 seasons analyzed a midrange shot is generally worse with respect to points per shot when \"all things are equal\"; however, there are times when a midrange shot is a better shot than a 3 pointer.  Midrange shots that are open (closest defender within 4-6ft) are better than very tightly guarded (0-2ft) 3 pointers and wide open (6+ft) midrange shots are better than 3 point shots where the defenders are within 4ft of the shooter."
   ]
  },
  {
   "cell_type": "code",
   "execution_count": 269,
   "metadata": {},
   "outputs": [],
   "source": [
    "# Points per shot by closest defender\n",
    "data = {'Defender Distance': [], 'Midrange PPS': [], 'Three PPS': []}\n",
    "for i in df['CLOSE_DEF_DIST_RANGE'].unique():\n",
    "    temp = df.loc[df['CLOSE_DEF_DIST_RANGE'] == i]\n",
    "    midrange = round(temp['FG2M'].sum() / temp['FG2A'].sum() * 2, 4)\n",
    "    three = round(temp['FG3M'].sum() / temp['FG3A'].sum() * 3, 4)\n",
    "    data['Defender Distance'].append(i)\n",
    "    data['Midrange PPS'].append(midrange)\n",
    "    data['Three PPS'].append(three)"
   ]
  },
  {
   "cell_type": "code",
   "execution_count": 270,
   "metadata": {},
   "outputs": [
    {
     "data": {
      "text/html": [
       "<div>\n",
       "<style scoped>\n",
       "    .dataframe tbody tr th:only-of-type {\n",
       "        vertical-align: middle;\n",
       "    }\n",
       "\n",
       "    .dataframe tbody tr th {\n",
       "        vertical-align: top;\n",
       "    }\n",
       "\n",
       "    .dataframe thead th {\n",
       "        text-align: right;\n",
       "    }\n",
       "</style>\n",
       "<table border=\"1\" class=\"dataframe\">\n",
       "  <thead>\n",
       "    <tr style=\"text-align: right;\">\n",
       "      <th></th>\n",
       "      <th>Midrange PPS</th>\n",
       "      <th>Three PPS</th>\n",
       "    </tr>\n",
       "    <tr>\n",
       "      <th>Defender Distance</th>\n",
       "      <th></th>\n",
       "      <th></th>\n",
       "    </tr>\n",
       "  </thead>\n",
       "  <tbody>\n",
       "    <tr>\n",
       "      <th>0-2 Feet - Very Tight</th>\n",
       "      <td>0.7249</td>\n",
       "      <td>0.7963</td>\n",
       "    </tr>\n",
       "    <tr>\n",
       "      <th>2-4 Feet - Tight</th>\n",
       "      <td>0.7696</td>\n",
       "      <td>0.9051</td>\n",
       "    </tr>\n",
       "    <tr>\n",
       "      <th>4-6 Feet - Open</th>\n",
       "      <td>0.8436</td>\n",
       "      <td>1.0337</td>\n",
       "    </tr>\n",
       "    <tr>\n",
       "      <th>6+ Feet - Wide Open</th>\n",
       "      <td>0.9057</td>\n",
       "      <td>1.1518</td>\n",
       "    </tr>\n",
       "  </tbody>\n",
       "</table>\n",
       "</div>"
      ],
      "text/plain": [
       "                       Midrange PPS  Three PPS\n",
       "Defender Distance                             \n",
       "0-2 Feet - Very Tight        0.7249     0.7963\n",
       "2-4 Feet - Tight             0.7696     0.9051\n",
       "4-6 Feet - Open              0.8436     1.0337\n",
       "6+ Feet - Wide Open          0.9057     1.1518"
      ]
     },
     "execution_count": 270,
     "metadata": {},
     "output_type": "execute_result"
    }
   ],
   "source": [
    "df_dd = pd.DataFrame(data).set_index('Defender Distance')\n",
    "df_dd"
   ]
  },
  {
   "cell_type": "code",
   "execution_count": 266,
   "metadata": {},
   "outputs": [],
   "source": [
    "dfp = pd.DataFrame(df_dd.unstack()).reset_index()"
   ]
  },
  {
   "cell_type": "code",
   "execution_count": 267,
   "metadata": {
    "scrolled": true
   },
   "outputs": [
    {
     "data": {
      "image/png": "[encoded data removed]",
      "text/plain": [
       "<Figure size 720x360 with 1 Axes>"
      ]
     },
     "metadata": {
      "needs_background": "light"
     },
     "output_type": "display_data"
    }
   ],
   "source": [
    "plt.figure(figsize=(10,5))\n",
    "sns.barplot(data=dfp, x='Defender Distance', y=0, hue='level_0')\n",
    "plt.ylabel('Points per Shot')\n",
    "plt.legend(title='Shot Type')\n",
    "plt.show()"
   ]
  },
  {
   "cell_type": "markdown",
   "metadata": {},
   "source": [
    "## Who are the most prolific midrange shooters?"
   ]
  },
  {
   "cell_type": "code",
   "execution_count": 275,
   "metadata": {},
   "outputs": [
    {
     "data": {
      "text/plain": [
       "count     755.000000\n",
       "mean      164.638411\n",
       "std       249.012752\n",
       "min         0.000000\n",
       "25%         8.500000\n",
       "50%        60.000000\n",
       "75%       214.500000\n",
       "max      1797.000000\n",
       "Name: FG2A, dtype: float64"
      ]
     },
     "execution_count": 275,
     "metadata": {},
     "output_type": "execute_result"
    }
   ],
   "source": [
    "# Find the prolific (75th percentile) midrange shooters\n",
    "df.groupby(['PLAYER_NAME_LAST_FIRST'])['FG2A'].sum().describe()"
   ]
  },
  {
   "cell_type": "code",
   "execution_count": 288,
   "metadata": {},
   "outputs": [
    {
     "name": "stderr",
     "output_type": "stream",
     "text": [
      "/Users/waynelam/nba/nba_player_pos/nba_venv/lib/python3.7/site-packages/ipykernel_launcher.py:2: FutureWarning: Indexing with multiple keys (implicitly converted to a tuple of keys) will be deprecated, use a list instead.\n",
      "  \n"
     ]
    }
   ],
   "source": [
    "# Get all shooters with >214 midrange shots over the 3 seasons\n",
    "a = df.groupby(['PLAYER_NAME_LAST_FIRST'])['FG2M', 'FG2A', 'FG3M', 'FG3A'].sum()\n",
    "prolific = [ name for name in np.where(a['FG2A'] > 214, a.index, 0) if name != 0 ]"
   ]
  },
  {
   "cell_type": "code",
   "execution_count": 289,
   "metadata": {},
   "outputs": [
    {
     "data": {
      "text/plain": [
       "189"
      ]
     },
     "execution_count": 289,
     "metadata": {},
     "output_type": "execute_result"
    }
   ],
   "source": [
    "len(prolific)"
   ]
  },
  {
   "cell_type": "code",
   "execution_count": 300,
   "metadata": {},
   "outputs": [
    {
     "name": "stderr",
     "output_type": "stream",
     "text": [
      "/Users/waynelam/nba/nba_player_pos/nba_venv/lib/python3.7/site-packages/ipykernel_launcher.py:3: FutureWarning: Indexing with multiple keys (implicitly converted to a tuple of keys) will be deprecated, use a list instead.\n",
      "  This is separate from the ipykernel package so we can avoid doing imports until\n"
     ]
    }
   ],
   "source": [
    "df2 = df.loc[df['PLAYER_NAME_LAST_FIRST'].isin(prolific)].groupby(['PLAYER_NAME_LAST_FIRST', 'CLOSE_DEF_DIST_RANGE'])['FG2M', 'FG2A', 'FG3M', 'FG3A'].sum().reset_index()"
   ]
  },
  {
   "cell_type": "code",
   "execution_count": 366,
   "metadata": {},
   "outputs": [],
   "source": [
    "def shooter_data(name):\n",
    "    temp = df2.loc[df2['PLAYER_NAME_LAST_FIRST'] == name].copy()\n",
    "    temp['FG2PPS'] = temp['FG2M'] / temp['FG2A'] * 2\n",
    "    temp['FG3PPS'] = temp['FG3M'] / temp['FG3A'] * 3\n",
    "\n",
    "    temp['FG2PPS'] = np.where(temp['FG2PPS'].isna(), 0, temp['FG2PPS'])\n",
    "    temp['FG3PPS'] = np.where(temp['FG3PPS'].isna(), 0, temp['FG3PPS'])\n",
    "    temp.drop(columns=['FG2M', 'FG2A', 'FG3M', 'FG3A', 'PLAYER_NAME_LAST_FIRST'], inplace=True)\n",
    "    temp.set_index('CLOSE_DEF_DIST_RANGE', inplace=True)\n",
    "    temp = temp.stack().reset_index()\n",
    "    temp.columns = ['Closest Defender (feet)', 'Shot Type', 'PPS']\n",
    "    temp['Shot Type'] = np.select(\n",
    "        [temp['Shot Type'] == 'FG2PPS', temp['Shot Type'] == 'FG3PPS'],\n",
    "        ['Midrange', 'Three']\n",
    "    )\n",
    "    \n",
    "    plt.figure(figsize=(10,5))\n",
    "    sns.barplot(data=temp, x='Closest Defender (feet)', y='PPS', hue='Shot Type')\n",
    "    plt.xlabel('Closest Defender (feet)')\n",
    "    plt.ylabel('Points per Shot')\n",
    "    plt.title(f'{name}')\n",
    "    \n",
    "    return plt.show()"
   ]
  },
  {
   "cell_type": "code",
   "execution_count": 369,
   "metadata": {},
   "outputs": [
    {
     "data": {
      "image/png": "[encoded data removed]",
      "text/plain": [
       "<Figure size 720x360 with 1 Axes>"
      ]
     },
     "metadata": {
      "needs_background": "light"
     },
     "output_type": "display_data"
    }
   ],
   "source": [
    "name = 'Durant, Kevin'\n",
    "shooter_data(name)"
   ]
  },
  {
   "cell_type": "markdown",
   "metadata": {},
   "source": [
    "## Additional Estimations - Linear Regression"
   ]
  },
  {
   "cell_type": "code",
   "execution_count": 217,
   "metadata": {},
   "outputs": [
    {
     "name": "stdout",
     "output_type": "stream",
     "text": [
      "Midrange Regression R-Squared: 0.9916\n",
      "Three Regression R-Squared: 0.9991\n"
     ]
    }
   ],
   "source": [
    "# Map bins to defender distances (>6ft -> 7 for consistency) and create linear regression\n",
    "reg_mid = LinearRegression()\n",
    "reg_three = LinearRegression()\n",
    "X_mid = np.array([1, 3, 5, 7]).reshape((4,1))\n",
    "X_three = np.array([1, 3, 5, 7]).reshape((4,1))\n",
    "y_mid = np.array(df_plot['Midrange PPS']).reshape((4,1))\n",
    "y_three = np.array(df_plot['Three PPS']).reshape((4,1))\n",
    "reg_mid.fit(X_mid, y_mid)\n",
    "reg_three.fit(X_three, y_three)\n",
    "\n",
    "# R-squared\n",
    "print('Midrange Regression R-Squared:', round(reg_mid.score(X_mid, y_mid), 4))\n",
    "print('Three Regression R-Squared:', round(reg_three.score(X_three, y_three), 4))"
   ]
  },
  {
   "cell_type": "code",
   "execution_count": 218,
   "metadata": {},
   "outputs": [],
   "source": [
    "mid_zero = reg_mid.predict([[0]])\n",
    "mid_six = reg_mid.predict([[6]])\n",
    "three_zero = reg_three.predict([[0]])\n",
    "three_six = reg_three.predict([[6]])"
   ]
  },
  {
   "cell_type": "code",
   "execution_count": 219,
   "metadata": {},
   "outputs": [],
   "source": [
    "mid_slope = float(np.round((mid_six - mid_zero) / 6, 4))\n",
    "three_slope = float(np.round((three_six - three_zero) / 6, 4))"
   ]
  },
  {
   "cell_type": "code",
   "execution_count": 220,
   "metadata": {},
   "outputs": [
    {
     "name": "stdout",
     "output_type": "stream",
     "text": [
      "PPS increase with each foot of closest defender distance:\n",
      "---------------------------------------------------------\n",
      "Midrange: 0.0308\n",
      "Three: 0.0598\n"
     ]
    }
   ],
   "source": [
    "# Estimate PPS increase per foot\n",
    "s = 'PPS increase with each foot of closest defender distance:'\n",
    "print(s)\n",
    "print('-' * len(s))\n",
    "print('Midrange:', mid_slope)\n",
    "print('Three:', three_slope)"
   ]
  },
  {
   "cell_type": "code",
   "execution_count": 221,
   "metadata": {},
   "outputs": [],
   "source": [
    "# Create x, y coordinates for lines\n",
    "x = np.linspace(0, 7, 100)\n",
    "y1 = mid_slope*x + float(mid_zero)\n",
    "y2 = three_slope*x + float(three_zero)"
   ]
  },
  {
   "cell_type": "code",
   "execution_count": 222,
   "metadata": {},
   "outputs": [
    {
     "data": {
      "image/png": "[encoded data removed]",
      "text/plain": [
       "<Figure size 432x288 with 1 Axes>"
      ]
     },
     "metadata": {
      "needs_background": "light"
     },
     "output_type": "display_data"
    }
   ],
   "source": [
    "# Plot estimators\n",
    "plt.plot(x, y1, label='Midrange')\n",
    "plt.plot(x, y2, label='Three')\n",
    "plt.title('Estimated PPS by Closest Defender Distance')\n",
    "plt.xlabel('Closest Defender (feet)')\n",
    "plt.ylabel('Points per Shot')\n",
    "plt.legend()\n",
    "plt.show()"
   ]
  },
  {
   "cell_type": "code",
   "execution_count": 223,
   "metadata": {},
   "outputs": [],
   "source": [
    "def line_func(x, slope=three_slope, intercept=three_zero):\n",
    "    return round(float(slope)*x + float(intercept), 4)"
   ]
  },
  {
   "cell_type": "code",
   "execution_count": 224,
   "metadata": {},
   "outputs": [],
   "source": [
    "def return_x(y, slope=three_slope, intercept=three_zero):\n",
    "    return round((y - float(intercept)) / slope, 4)"
   ]
  },
  {
   "cell_type": "code",
   "execution_count": 237,
   "metadata": {},
   "outputs": [
    {
     "name": "stdout",
     "output_type": "stream",
     "text": [
      "Closest Defender: 2'10\"\n"
     ]
    }
   ],
   "source": [
    "# Maximum PPS for midrange\n",
    "mid_max = line_func(7, mid_slope, mid_zero)\n",
    "\n",
    "# Equivalent closest defender distance for 3s\n",
    "equiv = return_x(mid_max)\n",
    "feet = round(equiv // 1)\n",
    "inches = round(equiv * 12 % 12)\n",
    "print('Closest Defender:', f\"{feet}'\" + f'{inches}\"')"
   ]
  },
  {
   "cell_type": "code",
   "execution_count": null,
   "metadata": {},
   "outputs": [],
   "source": []
  }
 ],
 "metadata": {
  "kernelspec": {
   "display_name": "nba_venv",
   "language": "python",
   "name": "nba_venv"
  },
  "language_info": {
   "codemirror_mode": {
    "name": "ipython",
    "version": 3
   },
   "file_extension": ".py",
   "mimetype": "text/x-python",
   "name": "python",
   "nbconvert_exporter": "python",
   "pygments_lexer": "ipython3",
   "version": "3.7.7"
  }
 },
 "nbformat": 4,
 "nbformat_minor": 4
}
