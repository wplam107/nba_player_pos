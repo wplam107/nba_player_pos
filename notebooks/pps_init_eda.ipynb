{
 "cells": [
  {
   "cell_type": "markdown",
   "metadata": {},
   "source": [
    "# Initial EDA for Points per Shot\n",
    "Shooting data analysis for 2013-14 through 2019-2020 NBA seasons"
   ]
  },
  {
   "cell_type": "code",
   "execution_count": 68,
   "metadata": {
    "ExecuteTime": {
     "end_time": "2020-10-06T21:32:49.480142Z",
     "start_time": "2020-10-06T21:32:49.476605Z"
    }
   },
   "outputs": [],
   "source": [
    "import numpy as np\n",
    "import pandas as pd\n",
    "import math\n",
    "import scipy\n",
    "import matplotlib.pyplot as plt\n",
    "import seaborn as sns\n",
    "\n",
    "import nba_api.stats.endpoints as endpoints\n",
    "from nba_api.stats.static import players"
   ]
  },
  {
   "cell_type": "code",
   "execution_count": 2,
   "metadata": {
    "ExecuteTime": {
     "end_time": "2020-10-06T20:16:52.258132Z",
     "start_time": "2020-10-06T20:16:52.254402Z"
    }
   },
   "outputs": [],
   "source": [
    "pd.set_option('display.max_columns', None)"
   ]
  },
  {
   "cell_type": "code",
   "execution_count": 3,
   "metadata": {
    "ExecuteTime": {
     "end_time": "2020-10-06T20:16:53.783992Z",
     "start_time": "2020-10-06T20:16:53.775235Z"
    }
   },
   "outputs": [],
   "source": [
    "all_players = players.get_players()"
   ]
  },
  {
   "cell_type": "code",
   "execution_count": 4,
   "metadata": {
    "ExecuteTime": {
     "end_time": "2020-10-06T20:16:54.419126Z",
     "start_time": "2020-10-06T20:16:54.414674Z"
    }
   },
   "outputs": [],
   "source": [
    "active_players = [\n",
    "    f\"{player['last_name']}, {player['first_name']}\" for player in all_players if player['is_active'] == True\n",
    "]"
   ]
  },
  {
   "cell_type": "markdown",
   "metadata": {},
   "source": [
    "## API codes and dataset organization\n",
    "- **Season IDs**:\n",
    "    - 1st Digit: 1 = Preseason, 2 = Regular season, 4 = Playoffs\n",
    "    - Last 4 Digits: Start year of season\n",
    "    - Data available from 2013-14 through 2019-20 seasons\n",
    "    \n",
    "- **PlayerDashPtShots datasets from resultSets**:\n",
    "    - 0: Overall Shooting\n",
    "    - 1: General Shooting\n",
    "    - 2: Shot Clock Shooting\n",
    "    - 3: Dribble Shooting\n",
    "    - 4: Closest Defender Shooting\n",
    "    - 5: Closest Defender 10 feet+ Shooting (mid-range+)\n",
    "    - 6: Touch Time Shooting\n",
    "\n",
    "- **Additional Parameters**:\n",
    "    - team_id: set to 0 for all teams\n",
    "    - player_id: set to 0 for all players"
   ]
  },
  {
   "cell_type": "code",
   "execution_count": 5,
   "metadata": {
    "ExecuteTime": {
     "end_time": "2020-10-06T20:17:09.043611Z",
     "start_time": "2020-10-06T20:17:09.029688Z"
    }
   },
   "outputs": [
    {
     "data": {
      "text/plain": [
       "['2013-14', '2014-15', '2015-16', '2016-17', '2017-18', '2018-19', '2019-20']"
      ]
     },
     "execution_count": 5,
     "metadata": {},
     "output_type": "execute_result"
    }
   ],
   "source": [
    "# Set seasons from 2013-14 through 2019-20 seasons\n",
    "seasons = [ f'20{i}-{i+1}' for i in range(13, 20) ]\n",
    "seasons"
   ]
  },
  {
   "cell_type": "code",
   "execution_count": 6,
   "metadata": {
    "ExecuteTime": {
     "end_time": "2020-10-06T20:18:19.692201Z",
     "start_time": "2020-10-06T20:17:42.365675Z"
    }
   },
   "outputs": [],
   "source": [
    "# Get player shooting from 10+ feet\n",
    "results = [\n",
    "    endpoints.playerdashptshots.PlayerDashPtShots(team_id=0, player_id=0, season=season).get_data_frames()[5]\n",
    "    for season in seasons\n",
    "]"
   ]
  },
  {
   "cell_type": "code",
   "execution_count": 7,
   "metadata": {
    "ExecuteTime": {
     "end_time": "2020-10-06T20:18:19.702159Z",
     "start_time": "2020-10-06T20:18:19.694456Z"
    }
   },
   "outputs": [],
   "source": [
    "# Add season to DataFrames\n",
    "for i in range(len(seasons)):\n",
    "    results[i]['season'] = seasons[i]"
   ]
  },
  {
   "cell_type": "code",
   "execution_count": 8,
   "metadata": {
    "ExecuteTime": {
     "end_time": "2020-10-06T20:18:21.978614Z",
     "start_time": "2020-10-06T20:18:21.956011Z"
    }
   },
   "outputs": [],
   "source": [
    "# Concat all results\n",
    "df = pd.concat([ result for result in results ])"
   ]
  },
  {
   "cell_type": "code",
   "execution_count": 9,
   "metadata": {
    "ExecuteTime": {
     "end_time": "2020-10-06T20:18:22.915964Z",
     "start_time": "2020-10-06T20:18:22.887554Z"
    }
   },
   "outputs": [
    {
     "data": {
      "text/html": [
       "<div>\n",
       "<style scoped>\n",
       "    .dataframe tbody tr th:only-of-type {\n",
       "        vertical-align: middle;\n",
       "    }\n",
       "\n",
       "    .dataframe tbody tr th {\n",
       "        vertical-align: top;\n",
       "    }\n",
       "\n",
       "    .dataframe thead th {\n",
       "        text-align: right;\n",
       "    }\n",
       "</style>\n",
       "<table border=\"1\" class=\"dataframe\">\n",
       "  <thead>\n",
       "    <tr style=\"text-align: right;\">\n",
       "      <th></th>\n",
       "      <th>PLAYER_ID</th>\n",
       "      <th>PLAYER_NAME_LAST_FIRST</th>\n",
       "      <th>SORT_ORDER</th>\n",
       "      <th>GP</th>\n",
       "      <th>G</th>\n",
       "      <th>CLOSE_DEF_DIST_RANGE</th>\n",
       "      <th>FGA_FREQUENCY</th>\n",
       "      <th>FGM</th>\n",
       "      <th>FGA</th>\n",
       "      <th>FG_PCT</th>\n",
       "      <th>EFG_PCT</th>\n",
       "      <th>FG2A_FREQUENCY</th>\n",
       "      <th>FG2M</th>\n",
       "      <th>FG2A</th>\n",
       "      <th>FG2_PCT</th>\n",
       "      <th>FG3A_FREQUENCY</th>\n",
       "      <th>FG3M</th>\n",
       "      <th>FG3A</th>\n",
       "      <th>FG3_PCT</th>\n",
       "      <th>season</th>\n",
       "    </tr>\n",
       "  </thead>\n",
       "  <tbody>\n",
       "    <tr>\n",
       "      <th>0</th>\n",
       "      <td>201563</td>\n",
       "      <td>Beasley, Michael</td>\n",
       "      <td>1</td>\n",
       "      <td>1226</td>\n",
       "      <td>6</td>\n",
       "      <td>0-2 Feet - Very Tight</td>\n",
       "      <td>0.0</td>\n",
       "      <td>1</td>\n",
       "      <td>7</td>\n",
       "      <td>0.143</td>\n",
       "      <td>0.143</td>\n",
       "      <td>0.0</td>\n",
       "      <td>1</td>\n",
       "      <td>7</td>\n",
       "      <td>0.143</td>\n",
       "      <td>0.0</td>\n",
       "      <td>0</td>\n",
       "      <td>0</td>\n",
       "      <td>NaN</td>\n",
       "      <td>2013-14</td>\n",
       "    </tr>\n",
       "    <tr>\n",
       "      <th>1</th>\n",
       "      <td>203506</td>\n",
       "      <td>Oladipo, Victor</td>\n",
       "      <td>1</td>\n",
       "      <td>1226</td>\n",
       "      <td>22</td>\n",
       "      <td>0-2 Feet - Very Tight</td>\n",
       "      <td>0.0</td>\n",
       "      <td>9</td>\n",
       "      <td>28</td>\n",
       "      <td>0.321</td>\n",
       "      <td>0.321</td>\n",
       "      <td>0.0</td>\n",
       "      <td>9</td>\n",
       "      <td>26</td>\n",
       "      <td>0.346</td>\n",
       "      <td>0.0</td>\n",
       "      <td>0</td>\n",
       "      <td>2</td>\n",
       "      <td>0.000</td>\n",
       "      <td>2013-14</td>\n",
       "    </tr>\n",
       "    <tr>\n",
       "      <th>2</th>\n",
       "      <td>202083</td>\n",
       "      <td>Matthews, Wesley</td>\n",
       "      <td>1</td>\n",
       "      <td>1226</td>\n",
       "      <td>23</td>\n",
       "      <td>0-2 Feet - Very Tight</td>\n",
       "      <td>0.0</td>\n",
       "      <td>10</td>\n",
       "      <td>26</td>\n",
       "      <td>0.385</td>\n",
       "      <td>0.423</td>\n",
       "      <td>0.0</td>\n",
       "      <td>8</td>\n",
       "      <td>16</td>\n",
       "      <td>0.500</td>\n",
       "      <td>0.0</td>\n",
       "      <td>2</td>\n",
       "      <td>10</td>\n",
       "      <td>0.200</td>\n",
       "      <td>2013-14</td>\n",
       "    </tr>\n",
       "    <tr>\n",
       "      <th>3</th>\n",
       "      <td>201589</td>\n",
       "      <td>Arthur, Darrell</td>\n",
       "      <td>1</td>\n",
       "      <td>1226</td>\n",
       "      <td>4</td>\n",
       "      <td>0-2 Feet - Very Tight</td>\n",
       "      <td>0.0</td>\n",
       "      <td>3</td>\n",
       "      <td>5</td>\n",
       "      <td>0.600</td>\n",
       "      <td>0.600</td>\n",
       "      <td>0.0</td>\n",
       "      <td>3</td>\n",
       "      <td>5</td>\n",
       "      <td>0.600</td>\n",
       "      <td>0.0</td>\n",
       "      <td>0</td>\n",
       "      <td>0</td>\n",
       "      <td>NaN</td>\n",
       "      <td>2013-14</td>\n",
       "    </tr>\n",
       "    <tr>\n",
       "      <th>4</th>\n",
       "      <td>965</td>\n",
       "      <td>Fisher, Derek</td>\n",
       "      <td>1</td>\n",
       "      <td>1226</td>\n",
       "      <td>20</td>\n",
       "      <td>0-2 Feet - Very Tight</td>\n",
       "      <td>0.0</td>\n",
       "      <td>9</td>\n",
       "      <td>26</td>\n",
       "      <td>0.346</td>\n",
       "      <td>0.423</td>\n",
       "      <td>0.0</td>\n",
       "      <td>5</td>\n",
       "      <td>15</td>\n",
       "      <td>0.333</td>\n",
       "      <td>0.0</td>\n",
       "      <td>4</td>\n",
       "      <td>11</td>\n",
       "      <td>0.364</td>\n",
       "      <td>2013-14</td>\n",
       "    </tr>\n",
       "  </tbody>\n",
       "</table>\n",
       "</div>"
      ],
      "text/plain": [
       "   PLAYER_ID PLAYER_NAME_LAST_FIRST  SORT_ORDER    GP   G  \\\n",
       "0     201563       Beasley, Michael           1  1226   6   \n",
       "1     203506        Oladipo, Victor           1  1226  22   \n",
       "2     202083       Matthews, Wesley           1  1226  23   \n",
       "3     201589        Arthur, Darrell           1  1226   4   \n",
       "4        965          Fisher, Derek           1  1226  20   \n",
       "\n",
       "    CLOSE_DEF_DIST_RANGE  FGA_FREQUENCY  FGM  FGA  FG_PCT  EFG_PCT  \\\n",
       "0  0-2 Feet - Very Tight            0.0    1    7   0.143    0.143   \n",
       "1  0-2 Feet - Very Tight            0.0    9   28   0.321    0.321   \n",
       "2  0-2 Feet - Very Tight            0.0   10   26   0.385    0.423   \n",
       "3  0-2 Feet - Very Tight            0.0    3    5   0.600    0.600   \n",
       "4  0-2 Feet - Very Tight            0.0    9   26   0.346    0.423   \n",
       "\n",
       "   FG2A_FREQUENCY  FG2M  FG2A  FG2_PCT  FG3A_FREQUENCY  FG3M  FG3A  FG3_PCT  \\\n",
       "0             0.0     1     7    0.143             0.0     0     0      NaN   \n",
       "1             0.0     9    26    0.346             0.0     0     2    0.000   \n",
       "2             0.0     8    16    0.500             0.0     2    10    0.200   \n",
       "3             0.0     3     5    0.600             0.0     0     0      NaN   \n",
       "4             0.0     5    15    0.333             0.0     4    11    0.364   \n",
       "\n",
       "    season  \n",
       "0  2013-14  \n",
       "1  2013-14  \n",
       "2  2013-14  \n",
       "3  2013-14  \n",
       "4  2013-14  "
      ]
     },
     "execution_count": 9,
     "metadata": {},
     "output_type": "execute_result"
    }
   ],
   "source": [
    "df.head()"
   ]
  },
  {
   "cell_type": "code",
   "execution_count": 10,
   "metadata": {
    "ExecuteTime": {
     "end_time": "2020-10-06T20:21:11.580369Z",
     "start_time": "2020-10-06T20:21:11.573187Z"
    }
   },
   "outputs": [
    {
     "name": "stdout",
     "output_type": "stream",
     "text": [
      "Midrange FG%: 0.4113839253831541\n",
      "3-Pointer FG% 0.35829125594635935\n"
     ]
    }
   ],
   "source": [
    "midrange_pct = df['FG2M'].sum() / df['FG2A'].sum()\n",
    "three_pct = df['FG3M'].sum() / df['FG3A'].sum()\n",
    "print('Midrange FG%:', midrange_pct)\n",
    "print('3-Pointer FG%', three_pct)"
   ]
  },
  {
   "cell_type": "markdown",
   "metadata": {},
   "source": [
    "## Shot Selection by Season"
   ]
  },
  {
   "cell_type": "code",
   "execution_count": 77,
   "metadata": {
    "ExecuteTime": {
     "end_time": "2020-10-06T21:40:03.473414Z",
     "start_time": "2020-10-06T21:40:03.449627Z"
    }
   },
   "outputs": [
    {
     "name": "stderr",
     "output_type": "stream",
     "text": [
      "/Users/waynelam/nba/nba_player_pos/nba_venv/lib/python3.7/site-packages/ipykernel_launcher.py:2: FutureWarning: Indexing with multiple keys (implicitly converted to a tuple of keys) will be deprecated, use a list instead.\n",
      "  \n"
     ]
    }
   ],
   "source": [
    "# Group by season\n",
    "data = df.groupby(['season', 'CLOSE_DEF_DIST_RANGE'])['FG2M', 'FG2A', 'FG3M', 'FG3A'].sum().reset_index()\n",
    "\n",
    "# Unpivot DataFrame from wide to long\n",
    "data = pd.melt(\n",
    "    data,\n",
    "    id_vars=['season', 'CLOSE_DEF_DIST_RANGE'],\n",
    "    value_vars=['FG2A', 'FG3A'],\n",
    "    var_name='Shot Type',\n",
    "    value_name='Attempts',\n",
    ")\n",
    "\n",
    "# Rename columns\n",
    "data = data.rename(columns={\n",
    "    'CLOSE_DEF_DIST_RANGE': 'Closest Defender',\n",
    "    'season': 'Season'\n",
    "})"
   ]
  },
  {
   "cell_type": "code",
   "execution_count": 78,
   "metadata": {
    "ExecuteTime": {
     "end_time": "2020-10-06T21:40:04.310085Z",
     "start_time": "2020-10-06T21:40:04.300463Z"
    }
   },
   "outputs": [
    {
     "data": {
      "text/html": [
       "<div>\n",
       "<style scoped>\n",
       "    .dataframe tbody tr th:only-of-type {\n",
       "        vertical-align: middle;\n",
       "    }\n",
       "\n",
       "    .dataframe tbody tr th {\n",
       "        vertical-align: top;\n",
       "    }\n",
       "\n",
       "    .dataframe thead th {\n",
       "        text-align: right;\n",
       "    }\n",
       "</style>\n",
       "<table border=\"1\" class=\"dataframe\">\n",
       "  <thead>\n",
       "    <tr style=\"text-align: right;\">\n",
       "      <th></th>\n",
       "      <th>Season</th>\n",
       "      <th>Closest Defender</th>\n",
       "      <th>Shot Type</th>\n",
       "      <th>Attempts</th>\n",
       "    </tr>\n",
       "  </thead>\n",
       "  <tbody>\n",
       "    <tr>\n",
       "      <th>0</th>\n",
       "      <td>2013-14</td>\n",
       "      <td>0-2 Feet - Very Tight</td>\n",
       "      <td>FG2A</td>\n",
       "      <td>3625</td>\n",
       "    </tr>\n",
       "    <tr>\n",
       "      <th>1</th>\n",
       "      <td>2013-14</td>\n",
       "      <td>2-4 Feet - Tight</td>\n",
       "      <td>FG2A</td>\n",
       "      <td>19539</td>\n",
       "    </tr>\n",
       "    <tr>\n",
       "      <th>2</th>\n",
       "      <td>2013-14</td>\n",
       "      <td>4-6 Feet - Open</td>\n",
       "      <td>FG2A</td>\n",
       "      <td>23009</td>\n",
       "    </tr>\n",
       "    <tr>\n",
       "      <th>3</th>\n",
       "      <td>2013-14</td>\n",
       "      <td>6+ Feet - Wide Open</td>\n",
       "      <td>FG2A</td>\n",
       "      <td>13071</td>\n",
       "    </tr>\n",
       "    <tr>\n",
       "      <th>4</th>\n",
       "      <td>2014-15</td>\n",
       "      <td>0-2 Feet - Very Tight</td>\n",
       "      <td>FG2A</td>\n",
       "      <td>3471</td>\n",
       "    </tr>\n",
       "  </tbody>\n",
       "</table>\n",
       "</div>"
      ],
      "text/plain": [
       "    Season       Closest Defender Shot Type  Attempts\n",
       "0  2013-14  0-2 Feet - Very Tight      FG2A      3625\n",
       "1  2013-14       2-4 Feet - Tight      FG2A     19539\n",
       "2  2013-14        4-6 Feet - Open      FG2A     23009\n",
       "3  2013-14    6+ Feet - Wide Open      FG2A     13071\n",
       "4  2014-15  0-2 Feet - Very Tight      FG2A      3471"
      ]
     },
     "execution_count": 78,
     "metadata": {},
     "output_type": "execute_result"
    }
   ],
   "source": [
    "data.head()"
   ]
  },
  {
   "cell_type": "code",
   "execution_count": 83,
   "metadata": {
    "ExecuteTime": {
     "end_time": "2020-10-06T21:41:51.880454Z",
     "start_time": "2020-10-06T21:41:50.647754Z"
    }
   },
   "outputs": [
    {
     "data": {
      "image/png": "[encoded data removed]",
      "text/plain": [
       "<Figure size 782.75x720 with 4 Axes>"
      ]
     },
     "metadata": {
      "needs_background": "light"
     },
     "output_type": "display_data"
    }
   ],
   "source": [
    "g = sns.FacetGrid(data, col='Closest Defender', hue='Shot Type', col_wrap=2, height=5)\n",
    "g.map(sns.lineplot, 'Season', 'Attempts', err_style=None)\n",
    "g.add_legend()\n",
    "plt.show()"
   ]
  },
  {
   "cell_type": "code",
   "execution_count": 89,
   "metadata": {
    "ExecuteTime": {
     "end_time": "2020-10-06T21:45:45.746104Z",
     "start_time": "2020-10-06T21:45:45.472673Z"
    }
   },
   "outputs": [
    {
     "data": {
      "image/png": "[encoded data removed]",
      "text/plain": [
       "<Figure size 432x288 with 1 Axes>"
      ]
     },
     "metadata": {
      "needs_background": "light"
     },
     "output_type": "display_data"
    }
   ],
   "source": [
    "pdata = data.groupby(['Season', 'Shot Type'])['Attempts'].sum().reset_index()\n",
    "sns.lineplot(data=pdata, x='Season', y='Attempts', hue='Shot Type', err_style=None)\n",
    "plt.title(f'Field Goal Attempts by Season')\n",
    "\n",
    "plt.show()"
   ]
  },
  {
   "cell_type": "code",
   "execution_count": 90,
   "metadata": {
    "ExecuteTime": {
     "end_time": "2020-10-06T22:47:32.842662Z",
     "start_time": "2020-10-06T22:47:32.799803Z"
    }
   },
   "outputs": [
    {
     "name": "stderr",
     "output_type": "stream",
     "text": [
      "/Users/waynelam/nba/nba_player_pos/nba_venv/lib/python3.7/site-packages/ipykernel_launcher.py:2: FutureWarning: Indexing with multiple keys (implicitly converted to a tuple of keys) will be deprecated, use a list instead.\n",
      "  \n"
     ]
    }
   ],
   "source": [
    "# Group by closest defender distance\n",
    "data = df.groupby(['CLOSE_DEF_DIST_RANGE'])['FG2M', 'FG2A', 'FG3M', 'FG3A'].sum().reset_index()\n",
    "\n",
    "# Unpivot DataFrame from wide to long\n",
    "data = pd.melt(\n",
    "    data,\n",
    "    id_vars=['CLOSE_DEF_DIST_RANGE'],\n",
    "    value_vars=['FG2A', 'FG3A'],\n",
    "    var_name='Shot Type',\n",
    "    value_name='Attempts',\n",
    ")\n",
    "\n",
    "# Rename column\n",
    "data = data.rename(columns={\n",
    "    'CLOSE_DEF_DIST_RANGE': 'Closest Defender',\n",
    "})"
   ]
  },
  {
   "cell_type": "code",
   "execution_count": 91,
   "metadata": {
    "ExecuteTime": {
     "end_time": "2020-10-06T22:47:33.682415Z",
     "start_time": "2020-10-06T22:47:33.668726Z"
    }
   },
   "outputs": [
    {
     "data": {
      "text/html": [
       "<div>\n",
       "<style scoped>\n",
       "    .dataframe tbody tr th:only-of-type {\n",
       "        vertical-align: middle;\n",
       "    }\n",
       "\n",
       "    .dataframe tbody tr th {\n",
       "        vertical-align: top;\n",
       "    }\n",
       "\n",
       "    .dataframe thead th {\n",
       "        text-align: right;\n",
       "    }\n",
       "</style>\n",
       "<table border=\"1\" class=\"dataframe\">\n",
       "  <thead>\n",
       "    <tr style=\"text-align: right;\">\n",
       "      <th></th>\n",
       "      <th>Closest Defender</th>\n",
       "      <th>Shot Type</th>\n",
       "      <th>Attempts</th>\n",
       "    </tr>\n",
       "  </thead>\n",
       "  <tbody>\n",
       "    <tr>\n",
       "      <th>0</th>\n",
       "      <td>0-2 Feet - Very Tight</td>\n",
       "      <td>FG2A</td>\n",
       "      <td>18589</td>\n",
       "    </tr>\n",
       "    <tr>\n",
       "      <th>1</th>\n",
       "      <td>2-4 Feet - Tight</td>\n",
       "      <td>FG2A</td>\n",
       "      <td>118929</td>\n",
       "    </tr>\n",
       "    <tr>\n",
       "      <th>2</th>\n",
       "      <td>4-6 Feet - Open</td>\n",
       "      <td>FG2A</td>\n",
       "      <td>143700</td>\n",
       "    </tr>\n",
       "    <tr>\n",
       "      <th>3</th>\n",
       "      <td>6+ Feet - Wide Open</td>\n",
       "      <td>FG2A</td>\n",
       "      <td>68837</td>\n",
       "    </tr>\n",
       "    <tr>\n",
       "      <th>4</th>\n",
       "      <td>0-2 Feet - Very Tight</td>\n",
       "      <td>FG3A</td>\n",
       "      <td>5422</td>\n",
       "    </tr>\n",
       "  </tbody>\n",
       "</table>\n",
       "</div>"
      ],
      "text/plain": [
       "        Closest Defender Shot Type  Attempts\n",
       "0  0-2 Feet - Very Tight      FG2A     18589\n",
       "1       2-4 Feet - Tight      FG2A    118929\n",
       "2        4-6 Feet - Open      FG2A    143700\n",
       "3    6+ Feet - Wide Open      FG2A     68837\n",
       "4  0-2 Feet - Very Tight      FG3A      5422"
      ]
     },
     "execution_count": 91,
     "metadata": {},
     "output_type": "execute_result"
    }
   ],
   "source": [
    "data.head()"
   ]
  },
  {
   "cell_type": "code",
   "execution_count": 92,
   "metadata": {
    "ExecuteTime": {
     "end_time": "2020-10-06T22:47:34.837588Z",
     "start_time": "2020-10-06T22:47:34.532255Z"
    }
   },
   "outputs": [
    {
     "data": {
      "image/png": "[encoded data removed]",
      "text/plain": [
       "<Figure size 720x360 with 1 Axes>"
      ]
     },
     "metadata": {
      "needs_background": "light"
     },
     "output_type": "display_data"
    }
   ],
   "source": [
    "plt.figure(figsize=(10,5))\n",
    "sns.barplot(data=data, x='Closest Defender', y='Attempts', hue='Shot Type')\n",
    "plt.title('Field Goal Attempts by Defender Distance')\n",
    "plt.show()"
   ]
  },
  {
   "cell_type": "markdown",
   "metadata": {},
   "source": [
    "## Points per Shot (PPS) Evaluation"
   ]
  },
  {
   "cell_type": "markdown",
   "metadata": {},
   "source": [
    "### Relation between closest defender distance and PPS"
   ]
  },
  {
   "cell_type": "code",
   "execution_count": 93,
   "metadata": {
    "ExecuteTime": {
     "end_time": "2020-10-06T22:47:36.826125Z",
     "start_time": "2020-10-06T22:47:36.796156Z"
    }
   },
   "outputs": [
    {
     "name": "stderr",
     "output_type": "stream",
     "text": [
      "/Users/waynelam/nba/nba_player_pos/nba_venv/lib/python3.7/site-packages/ipykernel_launcher.py:2: FutureWarning: Indexing with multiple keys (implicitly converted to a tuple of keys) will be deprecated, use a list instead.\n",
      "  \n"
     ]
    },
    {
     "data": {
      "text/html": [
       "<div>\n",
       "<style scoped>\n",
       "    .dataframe tbody tr th:only-of-type {\n",
       "        vertical-align: middle;\n",
       "    }\n",
       "\n",
       "    .dataframe tbody tr th {\n",
       "        vertical-align: top;\n",
       "    }\n",
       "\n",
       "    .dataframe thead th {\n",
       "        text-align: right;\n",
       "    }\n",
       "</style>\n",
       "<table border=\"1\" class=\"dataframe\">\n",
       "  <thead>\n",
       "    <tr style=\"text-align: right;\">\n",
       "      <th></th>\n",
       "      <th>CLOSE_DEF_DIST_RANGE</th>\n",
       "      <th>FG2M</th>\n",
       "      <th>FG2A</th>\n",
       "      <th>FG3M</th>\n",
       "      <th>FG3A</th>\n",
       "      <th>mid</th>\n",
       "      <th>three</th>\n",
       "      <th>tenplus</th>\n",
       "    </tr>\n",
       "  </thead>\n",
       "  <tbody>\n",
       "    <tr>\n",
       "      <th>0</th>\n",
       "      <td>0-2 Feet - Very Tight</td>\n",
       "      <td>7273</td>\n",
       "      <td>18589</td>\n",
       "      <td>1389</td>\n",
       "      <td>5422</td>\n",
       "      <td>0.782506</td>\n",
       "      <td>0.768536</td>\n",
       "      <td>0.779351</td>\n",
       "    </tr>\n",
       "    <tr>\n",
       "      <th>1</th>\n",
       "      <td>2-4 Feet - Tight</td>\n",
       "      <td>45892</td>\n",
       "      <td>118929</td>\n",
       "      <td>15709</td>\n",
       "      <td>52698</td>\n",
       "      <td>0.771755</td>\n",
       "      <td>0.894284</td>\n",
       "      <td>0.809377</td>\n",
       "    </tr>\n",
       "    <tr>\n",
       "      <th>2</th>\n",
       "      <td>4-6 Feet - Open</td>\n",
       "      <td>60227</td>\n",
       "      <td>143700</td>\n",
       "      <td>57050</td>\n",
       "      <td>165443</td>\n",
       "      <td>0.838232</td>\n",
       "      <td>1.034495</td>\n",
       "      <td>0.943266</td>\n",
       "    </tr>\n",
       "    <tr>\n",
       "      <th>3</th>\n",
       "      <td>6+ Feet - Wide Open</td>\n",
       "      <td>30615</td>\n",
       "      <td>68837</td>\n",
       "      <td>87709</td>\n",
       "      <td>228184</td>\n",
       "      <td>0.889493</td>\n",
       "      <td>1.153135</td>\n",
       "      <td>1.092034</td>\n",
       "    </tr>\n",
       "  </tbody>\n",
       "</table>\n",
       "</div>"
      ],
      "text/plain": [
       "    CLOSE_DEF_DIST_RANGE   FG2M    FG2A   FG3M    FG3A       mid     three  \\\n",
       "0  0-2 Feet - Very Tight   7273   18589   1389    5422  0.782506  0.768536   \n",
       "1       2-4 Feet - Tight  45892  118929  15709   52698  0.771755  0.894284   \n",
       "2        4-6 Feet - Open  60227  143700  57050  165443  0.838232  1.034495   \n",
       "3    6+ Feet - Wide Open  30615   68837  87709  228184  0.889493  1.153135   \n",
       "\n",
       "    tenplus  \n",
       "0  0.779351  \n",
       "1  0.809377  \n",
       "2  0.943266  \n",
       "3  1.092034  "
      ]
     },
     "execution_count": 93,
     "metadata": {},
     "output_type": "execute_result"
    }
   ],
   "source": [
    "# Group shooting PPS by defender distance\n",
    "data = df.groupby('CLOSE_DEF_DIST_RANGE')['FG2M', 'FG2A', 'FG3M', 'FG3A'].sum()\n",
    "data['mid'] = data['FG2M'] / data['FG2A'] * 2\n",
    "data['three'] = data['FG3M'] / data['FG3A'] * 3\n",
    "data['tenplus'] = (data['FG2M']*2 + data['FG3M']*3) / (data['FG2A'] + data['FG3A'])\n",
    "data.reset_index(inplace=True)\n",
    "data"
   ]
  },
  {
   "cell_type": "code",
   "execution_count": 94,
   "metadata": {
    "ExecuteTime": {
     "end_time": "2020-10-06T22:47:37.650273Z",
     "start_time": "2020-10-06T22:47:37.643996Z"
    }
   },
   "outputs": [
    {
     "name": "stdout",
     "output_type": "stream",
     "text": [
      "Midrange PPS: 0.8227678507663082\n",
      "3-Pointer PPS: 1.074873767839078\n"
     ]
    }
   ],
   "source": [
    "mid_pps = data['FG2M'].sum() / data['FG2A'].sum() * 2\n",
    "three_pps = data['FG3M'].sum() / data['FG3A'].sum() * 3\n",
    "print(f'Midrange PPS: {mid_pps}')\n",
    "print(f'3-Pointer PPS: {three_pps}')"
   ]
  },
  {
   "cell_type": "code",
   "execution_count": 95,
   "metadata": {
    "ExecuteTime": {
     "end_time": "2020-10-06T22:47:38.190341Z",
     "start_time": "2020-10-06T22:47:38.173138Z"
    }
   },
   "outputs": [
    {
     "data": {
      "text/html": [
       "<div>\n",
       "<style scoped>\n",
       "    .dataframe tbody tr th:only-of-type {\n",
       "        vertical-align: middle;\n",
       "    }\n",
       "\n",
       "    .dataframe tbody tr th {\n",
       "        vertical-align: top;\n",
       "    }\n",
       "\n",
       "    .dataframe thead th {\n",
       "        text-align: right;\n",
       "    }\n",
       "</style>\n",
       "<table border=\"1\" class=\"dataframe\">\n",
       "  <thead>\n",
       "    <tr style=\"text-align: right;\">\n",
       "      <th></th>\n",
       "      <th>Defender Distance</th>\n",
       "      <th>Shot Type</th>\n",
       "      <th>PPS</th>\n",
       "    </tr>\n",
       "  </thead>\n",
       "  <tbody>\n",
       "    <tr>\n",
       "      <th>0</th>\n",
       "      <td>0-2 Feet - Very Tight</td>\n",
       "      <td>mid</td>\n",
       "      <td>0.782506</td>\n",
       "    </tr>\n",
       "    <tr>\n",
       "      <th>1</th>\n",
       "      <td>2-4 Feet - Tight</td>\n",
       "      <td>mid</td>\n",
       "      <td>0.771755</td>\n",
       "    </tr>\n",
       "    <tr>\n",
       "      <th>2</th>\n",
       "      <td>4-6 Feet - Open</td>\n",
       "      <td>mid</td>\n",
       "      <td>0.838232</td>\n",
       "    </tr>\n",
       "    <tr>\n",
       "      <th>3</th>\n",
       "      <td>6+ Feet - Wide Open</td>\n",
       "      <td>mid</td>\n",
       "      <td>0.889493</td>\n",
       "    </tr>\n",
       "    <tr>\n",
       "      <th>4</th>\n",
       "      <td>0-2 Feet - Very Tight</td>\n",
       "      <td>three</td>\n",
       "      <td>0.768536</td>\n",
       "    </tr>\n",
       "    <tr>\n",
       "      <th>5</th>\n",
       "      <td>2-4 Feet - Tight</td>\n",
       "      <td>three</td>\n",
       "      <td>0.894284</td>\n",
       "    </tr>\n",
       "    <tr>\n",
       "      <th>6</th>\n",
       "      <td>4-6 Feet - Open</td>\n",
       "      <td>three</td>\n",
       "      <td>1.034495</td>\n",
       "    </tr>\n",
       "    <tr>\n",
       "      <th>7</th>\n",
       "      <td>6+ Feet - Wide Open</td>\n",
       "      <td>three</td>\n",
       "      <td>1.153135</td>\n",
       "    </tr>\n",
       "    <tr>\n",
       "      <th>8</th>\n",
       "      <td>0-2 Feet - Very Tight</td>\n",
       "      <td>tenplus</td>\n",
       "      <td>0.779351</td>\n",
       "    </tr>\n",
       "    <tr>\n",
       "      <th>9</th>\n",
       "      <td>2-4 Feet - Tight</td>\n",
       "      <td>tenplus</td>\n",
       "      <td>0.809377</td>\n",
       "    </tr>\n",
       "    <tr>\n",
       "      <th>10</th>\n",
       "      <td>4-6 Feet - Open</td>\n",
       "      <td>tenplus</td>\n",
       "      <td>0.943266</td>\n",
       "    </tr>\n",
       "    <tr>\n",
       "      <th>11</th>\n",
       "      <td>6+ Feet - Wide Open</td>\n",
       "      <td>tenplus</td>\n",
       "      <td>1.092034</td>\n",
       "    </tr>\n",
       "  </tbody>\n",
       "</table>\n",
       "</div>"
      ],
      "text/plain": [
       "        Defender Distance Shot Type       PPS\n",
       "0   0-2 Feet - Very Tight       mid  0.782506\n",
       "1        2-4 Feet - Tight       mid  0.771755\n",
       "2         4-6 Feet - Open       mid  0.838232\n",
       "3     6+ Feet - Wide Open       mid  0.889493\n",
       "4   0-2 Feet - Very Tight     three  0.768536\n",
       "5        2-4 Feet - Tight     three  0.894284\n",
       "6         4-6 Feet - Open     three  1.034495\n",
       "7     6+ Feet - Wide Open     three  1.153135\n",
       "8   0-2 Feet - Very Tight   tenplus  0.779351\n",
       "9        2-4 Feet - Tight   tenplus  0.809377\n",
       "10        4-6 Feet - Open   tenplus  0.943266\n",
       "11    6+ Feet - Wide Open   tenplus  1.092034"
      ]
     },
     "execution_count": 95,
     "metadata": {},
     "output_type": "execute_result"
    }
   ],
   "source": [
    "# Unpivot data from wide to long\n",
    "pps = pd.melt(\n",
    "    data,\n",
    "    id_vars='CLOSE_DEF_DIST_RANGE',\n",
    "    value_vars=['mid', 'three', 'tenplus'],\n",
    "    var_name='Shot Type',\n",
    "    value_name='PPS',\n",
    ")\n",
    "\n",
    "# Rename column\n",
    "pps.rename(columns={'CLOSE_DEF_DIST_RANGE': 'Defender Distance'}, inplace=True)\n",
    "pps"
   ]
  },
  {
   "cell_type": "code",
   "execution_count": 96,
   "metadata": {
    "ExecuteTime": {
     "end_time": "2020-10-06T22:47:39.077575Z",
     "start_time": "2020-10-06T22:47:38.764216Z"
    },
    "scrolled": true
   },
   "outputs": [
    {
     "data": {
      "image/png": "[encoded data removed]",
      "text/plain": [
       "<Figure size 720x360 with 1 Axes>"
      ]
     },
     "metadata": {
      "needs_background": "light"
     },
     "output_type": "display_data"
    }
   ],
   "source": [
    "plt.figure(figsize=(10,5))\n",
    "sns.lineplot(data=pps, x='Defender Distance', y='PPS', hue='Shot Type')\n",
    "plt.ylabel('Points per Shot')\n",
    "plt.legend(title='Shot Type')\n",
    "plt.title('Points per Shot by Defender Distance')\n",
    "plt.show()"
   ]
  },
  {
   "cell_type": "markdown",
   "metadata": {},
   "source": [
    "#### Is there a difference between shooting percentages of midrange shots with closest defender tightly guarding or very tightly guarding shooter?\n",
    "\n",
    "- $p_1=$ proportion of shots made (very tightly guarded)\n",
    "- $p_2=$ proportion of shots made (tightly guarded)\n",
    "- $\\alpha=0.05$\n",
    "- $H_0: p_1-p_2=0$ \n",
    "- $H_a: p_1-p_2\\neq0$"
   ]
  },
  {
   "cell_type": "code",
   "execution_count": 97,
   "metadata": {
    "ExecuteTime": {
     "end_time": "2020-10-06T22:47:45.536018Z",
     "start_time": "2020-10-06T22:47:45.524776Z"
    }
   },
   "outputs": [
    {
     "name": "stdout",
     "output_type": "stream",
     "text": [
      "Not statistically significant: p-value=0.16162176052057942\n"
     ]
    }
   ],
   "source": [
    "x_a = data['FG2M'][0]\n",
    "x_b = data['FG2M'][1]\n",
    "n_a = data['FG2A'][0]\n",
    "n_b = data['FG2A'][1]\n",
    "p_a = x_a / n_a\n",
    "p_b = x_b / n_b\n",
    "p_c = (x_a + x_b) / (n_a + n_b)\n",
    "\n",
    "se = np.sqrt(p_c * (1 - p_c) * (1/n_a + 1/n_b))\n",
    "z = (p_a - p_b) / se\n",
    "\n",
    "# 2-tailed\n",
    "alpha = 0.05\n",
    "p = scipy.stats.norm.sf(abs(z)) * 2\n",
    "if p < alpha:\n",
    "    print(f'Statistically significant: p-value={p}')\n",
    "else:\n",
    "    print(f'Not statistically significant: p-value={p}')"
   ]
  },
  {
   "cell_type": "markdown",
   "metadata": {},
   "source": [
    "### Player PPS by Shot Type"
   ]
  },
  {
   "cell_type": "code",
   "execution_count": 98,
   "metadata": {
    "ExecuteTime": {
     "end_time": "2020-10-06T22:47:52.044345Z",
     "start_time": "2020-10-06T22:47:52.021821Z"
    }
   },
   "outputs": [
    {
     "name": "stderr",
     "output_type": "stream",
     "text": [
      "/Users/waynelam/nba/nba_player_pos/nba_venv/lib/python3.7/site-packages/ipykernel_launcher.py:2: FutureWarning: Indexing with multiple keys (implicitly converted to a tuple of keys) will be deprecated, use a list instead.\n",
      "  \n"
     ]
    }
   ],
   "source": [
    "# Group by season and player\n",
    "data = df.groupby(['PLAYER_NAME_LAST_FIRST', 'season'])['FG2M', 'FG2A', 'FG3M', 'FG3A'].sum()\n",
    "data.reset_index(inplace=True)\n",
    "\n",
    "# Create PPS features\n",
    "data['mid'] = data['FG2M'] / data['FG2A'] * 2\n",
    "data['three'] = data['FG3M'] / data['FG3A'] * 3\n",
    "\n",
    "# Convert NaN values\n",
    "for cat in ['mid', 'three']:\n",
    "    data[cat] = np.where(data[cat].isna(), 0, data[cat])"
   ]
  },
  {
   "cell_type": "code",
   "execution_count": 99,
   "metadata": {
    "ExecuteTime": {
     "end_time": "2020-10-06T22:47:55.993956Z",
     "start_time": "2020-10-06T22:47:55.980237Z"
    }
   },
   "outputs": [
    {
     "name": "stderr",
     "output_type": "stream",
     "text": [
      "/Users/waynelam/nba/nba_player_pos/nba_venv/lib/python3.7/site-packages/ipykernel_launcher.py:2: FutureWarning: Indexing with multiple keys (implicitly converted to a tuple of keys) will be deprecated, use a list instead.\n",
      "  \n"
     ]
    }
   ],
   "source": [
    "# By player DataFrame\n",
    "by_player = data.groupby('PLAYER_NAME_LAST_FIRST')['FG2M', 'FG2A', 'FG3M', 'FG3A'].sum().reset_index()\n",
    "by_player['mid'] = by_player['FG2M'] / by_player['FG2A'] * 2\n",
    "by_player['three'] = by_player['FG3M'] / by_player['FG3A'] * 3\n",
    "for cat in ['mid', 'three']:\n",
    "    by_player[cat] = np.where(by_player[cat].isna(), 0, by_player[cat])"
   ]
  },
  {
   "cell_type": "code",
   "execution_count": 100,
   "metadata": {
    "ExecuteTime": {
     "end_time": "2020-10-06T22:47:56.858251Z",
     "start_time": "2020-10-06T22:47:56.842558Z"
    }
   },
   "outputs": [],
   "source": [
    "# Limit to active players\n",
    "active = by_player.loc[by_player['PLAYER_NAME_LAST_FIRST'].isin(active_players)]\n",
    "\n",
    "# Limit to players who have taken midrange 2s and 3s\n",
    "active = active.loc[(active['FG2A'] != 0) &(active['FG3A'] != 0)]"
   ]
  },
  {
   "cell_type": "code",
   "execution_count": 101,
   "metadata": {
    "ExecuteTime": {
     "end_time": "2020-10-06T22:47:57.999593Z",
     "start_time": "2020-10-06T22:47:57.994918Z"
    }
   },
   "outputs": [
    {
     "data": {
      "text/plain": [
       "494"
      ]
     },
     "execution_count": 101,
     "metadata": {},
     "output_type": "execute_result"
    }
   ],
   "source": [
    "# All active players who have taken midrange 2s and 3s\n",
    "len(active)"
   ]
  },
  {
   "cell_type": "code",
   "execution_count": 102,
   "metadata": {
    "ExecuteTime": {
     "end_time": "2020-10-06T22:47:58.865091Z",
     "start_time": "2020-10-06T22:47:58.859104Z"
    }
   },
   "outputs": [
    {
     "data": {
      "text/plain": [
       "73"
      ]
     },
     "execution_count": 102,
     "metadata": {},
     "output_type": "execute_result"
    }
   ],
   "source": [
    "# Subset of players who generate equal or greater PPS from midrange 2s\n",
    "mid_better = active.loc[active['mid'] >= active['three']]['PLAYER_NAME_LAST_FIRST']\n",
    "len(mid_better)"
   ]
  },
  {
   "cell_type": "code",
   "execution_count": 114,
   "metadata": {
    "ExecuteTime": {
     "end_time": "2020-10-06T22:55:00.446662Z",
     "start_time": "2020-10-06T22:55:00.434987Z"
    }
   },
   "outputs": [
    {
     "name": "stderr",
     "output_type": "stream",
     "text": [
      "/Users/waynelam/nba/nba_player_pos/nba_venv/lib/python3.7/site-packages/ipykernel_launcher.py:2: FutureWarning: Indexing with multiple keys (implicitly converted to a tuple of keys) will be deprecated, use a list instead.\n",
      "  \n"
     ]
    }
   ],
   "source": [
    "# Seasonal shooting data by mid_better subset\n",
    "mb = data.loc[data['PLAYER_NAME_LAST_FIRST'].isin(mid_better)].groupby('season')['FG2M', 'FG2A', 'FG3M', 'FG3A'].sum()\n",
    "mb.reset_index(inplace=True)\n",
    "\n",
    "# Make totals\n",
    "mb['FGA'] = mb['FG2A'] + mb['FG3A']"
   ]
  },
  {
   "cell_type": "code",
   "execution_count": 115,
   "metadata": {
    "ExecuteTime": {
     "end_time": "2020-10-06T22:55:01.075920Z",
     "start_time": "2020-10-06T22:55:01.065394Z"
    }
   },
   "outputs": [
    {
     "data": {
      "text/html": [
       "<div>\n",
       "<style scoped>\n",
       "    .dataframe tbody tr th:only-of-type {\n",
       "        vertical-align: middle;\n",
       "    }\n",
       "\n",
       "    .dataframe tbody tr th {\n",
       "        vertical-align: top;\n",
       "    }\n",
       "\n",
       "    .dataframe thead th {\n",
       "        text-align: right;\n",
       "    }\n",
       "</style>\n",
       "<table border=\"1\" class=\"dataframe\">\n",
       "  <thead>\n",
       "    <tr style=\"text-align: right;\">\n",
       "      <th></th>\n",
       "      <th>season</th>\n",
       "      <th>FG2M</th>\n",
       "      <th>FG2A</th>\n",
       "      <th>FG3M</th>\n",
       "      <th>FG3A</th>\n",
       "      <th>FGA</th>\n",
       "    </tr>\n",
       "  </thead>\n",
       "  <tbody>\n",
       "    <tr>\n",
       "      <th>0</th>\n",
       "      <td>2013-14</td>\n",
       "      <td>565</td>\n",
       "      <td>1408</td>\n",
       "      <td>50</td>\n",
       "      <td>171</td>\n",
       "      <td>1579</td>\n",
       "    </tr>\n",
       "    <tr>\n",
       "      <th>1</th>\n",
       "      <td>2014-15</td>\n",
       "      <td>455</td>\n",
       "      <td>1187</td>\n",
       "      <td>49</td>\n",
       "      <td>191</td>\n",
       "      <td>1378</td>\n",
       "    </tr>\n",
       "    <tr>\n",
       "      <th>2</th>\n",
       "      <td>2015-16</td>\n",
       "      <td>664</td>\n",
       "      <td>1694</td>\n",
       "      <td>42</td>\n",
       "      <td>213</td>\n",
       "      <td>1907</td>\n",
       "    </tr>\n",
       "    <tr>\n",
       "      <th>3</th>\n",
       "      <td>2016-17</td>\n",
       "      <td>632</td>\n",
       "      <td>1694</td>\n",
       "      <td>86</td>\n",
       "      <td>352</td>\n",
       "      <td>2046</td>\n",
       "    </tr>\n",
       "    <tr>\n",
       "      <th>4</th>\n",
       "      <td>2017-18</td>\n",
       "      <td>831</td>\n",
       "      <td>2084</td>\n",
       "      <td>120</td>\n",
       "      <td>528</td>\n",
       "      <td>2612</td>\n",
       "    </tr>\n",
       "    <tr>\n",
       "      <th>5</th>\n",
       "      <td>2018-19</td>\n",
       "      <td>758</td>\n",
       "      <td>2041</td>\n",
       "      <td>144</td>\n",
       "      <td>715</td>\n",
       "      <td>2756</td>\n",
       "    </tr>\n",
       "    <tr>\n",
       "      <th>6</th>\n",
       "      <td>2019-20</td>\n",
       "      <td>607</td>\n",
       "      <td>1552</td>\n",
       "      <td>304</td>\n",
       "      <td>1259</td>\n",
       "      <td>2811</td>\n",
       "    </tr>\n",
       "  </tbody>\n",
       "</table>\n",
       "</div>"
      ],
      "text/plain": [
       "    season  FG2M  FG2A  FG3M  FG3A   FGA\n",
       "0  2013-14   565  1408    50   171  1579\n",
       "1  2014-15   455  1187    49   191  1378\n",
       "2  2015-16   664  1694    42   213  1907\n",
       "3  2016-17   632  1694    86   352  2046\n",
       "4  2017-18   831  2084   120   528  2612\n",
       "5  2018-19   758  2041   144   715  2756\n",
       "6  2019-20   607  1552   304  1259  2811"
      ]
     },
     "execution_count": 115,
     "metadata": {},
     "output_type": "execute_result"
    }
   ],
   "source": [
    "mb"
   ]
  },
  {
   "cell_type": "code",
   "execution_count": 116,
   "metadata": {
    "ExecuteTime": {
     "end_time": "2020-10-06T22:55:03.002531Z",
     "start_time": "2020-10-06T22:55:02.993812Z"
    }
   },
   "outputs": [],
   "source": [
    "# Wide to long\n",
    "mb_plot = pd.melt(\n",
    "    mb,\n",
    "    id_vars='season',\n",
    "    value_vars=['FG2A', 'FG3A', 'FGA'],\n",
    "    var_name='Shot Type',\n",
    "    value_name='Attempts',\n",
    ")"
   ]
  },
  {
   "cell_type": "code",
   "execution_count": 117,
   "metadata": {
    "ExecuteTime": {
     "end_time": "2020-10-06T22:55:03.999974Z",
     "start_time": "2020-10-06T22:55:03.489612Z"
    }
   },
   "outputs": [
    {
     "data": {
      "image/png": "[encoded data removed]",
      "text/plain": [
       "<Figure size 720x360 with 1 Axes>"
      ]
     },
     "metadata": {
      "needs_background": "light"
     },
     "output_type": "display_data"
    }
   ],
   "source": [
    "plt.figure(figsize=(10,5))\n",
    "sns.lineplot(data=mb_plot, x='season', y='Attempts', hue='Shot Type')\n",
    "plt.title('Player Shot Attempts by Season')\n",
    "plt.show()"
   ]
  },
  {
   "cell_type": "code",
   "execution_count": 118,
   "metadata": {
    "ExecuteTime": {
     "end_time": "2020-10-06T22:55:29.002382Z",
     "start_time": "2020-10-06T22:55:28.997200Z"
    }
   },
   "outputs": [],
   "source": [
    "# Proportion of shots taken by type\n",
    "mb['Midrange Proportion'] = mb['FG2A'] / mb['FGA']\n",
    "mb['3-Pointer Proportion'] = mb['FG3A'] / mb['FGA']"
   ]
  },
  {
   "cell_type": "code",
   "execution_count": 119,
   "metadata": {
    "ExecuteTime": {
     "end_time": "2020-10-06T22:55:29.662102Z",
     "start_time": "2020-10-06T22:55:29.650001Z"
    }
   },
   "outputs": [
    {
     "data": {
      "text/html": [
       "<div>\n",
       "<style scoped>\n",
       "    .dataframe tbody tr th:only-of-type {\n",
       "        vertical-align: middle;\n",
       "    }\n",
       "\n",
       "    .dataframe tbody tr th {\n",
       "        vertical-align: top;\n",
       "    }\n",
       "\n",
       "    .dataframe thead th {\n",
       "        text-align: right;\n",
       "    }\n",
       "</style>\n",
       "<table border=\"1\" class=\"dataframe\">\n",
       "  <thead>\n",
       "    <tr style=\"text-align: right;\">\n",
       "      <th></th>\n",
       "      <th>season</th>\n",
       "      <th>FG2M</th>\n",
       "      <th>FG2A</th>\n",
       "      <th>FG3M</th>\n",
       "      <th>FG3A</th>\n",
       "      <th>FGA</th>\n",
       "      <th>Midrange Proportion</th>\n",
       "      <th>3-Pointer Proportion</th>\n",
       "    </tr>\n",
       "  </thead>\n",
       "  <tbody>\n",
       "    <tr>\n",
       "      <th>0</th>\n",
       "      <td>2013-14</td>\n",
       "      <td>565</td>\n",
       "      <td>1408</td>\n",
       "      <td>50</td>\n",
       "      <td>171</td>\n",
       "      <td>1579</td>\n",
       "      <td>0.891704</td>\n",
       "      <td>0.108296</td>\n",
       "    </tr>\n",
       "    <tr>\n",
       "      <th>1</th>\n",
       "      <td>2014-15</td>\n",
       "      <td>455</td>\n",
       "      <td>1187</td>\n",
       "      <td>49</td>\n",
       "      <td>191</td>\n",
       "      <td>1378</td>\n",
       "      <td>0.861393</td>\n",
       "      <td>0.138607</td>\n",
       "    </tr>\n",
       "    <tr>\n",
       "      <th>2</th>\n",
       "      <td>2015-16</td>\n",
       "      <td>664</td>\n",
       "      <td>1694</td>\n",
       "      <td>42</td>\n",
       "      <td>213</td>\n",
       "      <td>1907</td>\n",
       "      <td>0.888306</td>\n",
       "      <td>0.111694</td>\n",
       "    </tr>\n",
       "    <tr>\n",
       "      <th>3</th>\n",
       "      <td>2016-17</td>\n",
       "      <td>632</td>\n",
       "      <td>1694</td>\n",
       "      <td>86</td>\n",
       "      <td>352</td>\n",
       "      <td>2046</td>\n",
       "      <td>0.827957</td>\n",
       "      <td>0.172043</td>\n",
       "    </tr>\n",
       "    <tr>\n",
       "      <th>4</th>\n",
       "      <td>2017-18</td>\n",
       "      <td>831</td>\n",
       "      <td>2084</td>\n",
       "      <td>120</td>\n",
       "      <td>528</td>\n",
       "      <td>2612</td>\n",
       "      <td>0.797856</td>\n",
       "      <td>0.202144</td>\n",
       "    </tr>\n",
       "    <tr>\n",
       "      <th>5</th>\n",
       "      <td>2018-19</td>\n",
       "      <td>758</td>\n",
       "      <td>2041</td>\n",
       "      <td>144</td>\n",
       "      <td>715</td>\n",
       "      <td>2756</td>\n",
       "      <td>0.740566</td>\n",
       "      <td>0.259434</td>\n",
       "    </tr>\n",
       "    <tr>\n",
       "      <th>6</th>\n",
       "      <td>2019-20</td>\n",
       "      <td>607</td>\n",
       "      <td>1552</td>\n",
       "      <td>304</td>\n",
       "      <td>1259</td>\n",
       "      <td>2811</td>\n",
       "      <td>0.552117</td>\n",
       "      <td>0.447883</td>\n",
       "    </tr>\n",
       "  </tbody>\n",
       "</table>\n",
       "</div>"
      ],
      "text/plain": [
       "    season  FG2M  FG2A  FG3M  FG3A   FGA  Midrange Proportion  \\\n",
       "0  2013-14   565  1408    50   171  1579             0.891704   \n",
       "1  2014-15   455  1187    49   191  1378             0.861393   \n",
       "2  2015-16   664  1694    42   213  1907             0.888306   \n",
       "3  2016-17   632  1694    86   352  2046             0.827957   \n",
       "4  2017-18   831  2084   120   528  2612             0.797856   \n",
       "5  2018-19   758  2041   144   715  2756             0.740566   \n",
       "6  2019-20   607  1552   304  1259  2811             0.552117   \n",
       "\n",
       "   3-Pointer Proportion  \n",
       "0              0.108296  \n",
       "1              0.138607  \n",
       "2              0.111694  \n",
       "3              0.172043  \n",
       "4              0.202144  \n",
       "5              0.259434  \n",
       "6              0.447883  "
      ]
     },
     "execution_count": 119,
     "metadata": {},
     "output_type": "execute_result"
    }
   ],
   "source": [
    "mb"
   ]
  },
  {
   "cell_type": "code",
   "execution_count": 120,
   "metadata": {
    "ExecuteTime": {
     "end_time": "2020-10-06T22:55:47.232967Z",
     "start_time": "2020-10-06T22:55:47.224799Z"
    }
   },
   "outputs": [],
   "source": [
    "mb_plot = pd.melt(\n",
    "    mb,\n",
    "    id_vars='season',\n",
    "    value_vars=['Midrange Proportion', '3-Pointer Proportion'],\n",
    "    var_name='Shot Type',\n",
    "    value_name='Proportion',\n",
    ")"
   ]
  },
  {
   "cell_type": "code",
   "execution_count": 121,
   "metadata": {
    "ExecuteTime": {
     "end_time": "2020-10-06T22:55:48.520665Z",
     "start_time": "2020-10-06T22:55:48.222073Z"
    }
   },
   "outputs": [
    {
     "data": {
      "image/png": "[encoded data removed]",
      "text/plain": [
       "<Figure size 720x360 with 1 Axes>"
      ]
     },
     "metadata": {
      "needs_background": "light"
     },
     "output_type": "display_data"
    }
   ],
   "source": [
    "plt.figure(figsize=(10,5))\n",
    "sns.lineplot(data=mb_plot, x='season', y='Proportion', hue='Shot Type')\n",
    "plt.title('Proportion of Shots')\n",
    "plt.show()"
   ]
  },
  {
   "cell_type": "code",
   "execution_count": 236,
   "metadata": {},
   "outputs": [],
   "source": [
    "# PPS feature\n",
    "mb['mid'] = mb['FG2M'] / mb['FG2A'] * 2\n",
    "mb['three'] = mb['FG3M'] / mb['FG3A'] * 3"
   ]
  },
  {
   "cell_type": "code",
   "execution_count": 238,
   "metadata": {},
   "outputs": [],
   "source": [
    "# Wide to long\n",
    "mb_plot = pd.melt(\n",
    "    mb,\n",
    "    id_vars='season',\n",
    "    value_vars=['mid', 'three'],\n",
    "    var_name='Shot Type',\n",
    "    value_name='PPS',\n",
    ")"
   ]
  },
  {
   "cell_type": "code",
   "execution_count": 239,
   "metadata": {},
   "outputs": [
    {
     "data": {
      "image/png": "[encoded data removed]",
      "text/plain": [
       "<Figure size 720x360 with 1 Axes>"
      ]
     },
     "metadata": {
      "needs_background": "light"
     },
     "output_type": "display_data"
    }
   ],
   "source": [
    "plt.figure(figsize=(10,5))\n",
    "sns.lineplot(data=mb_plot, x='season', y='PPS', hue='Shot Type')\n",
    "plt.title('PPS by Season')\n",
    "plt.show()"
   ]
  },
  {
   "cell_type": "code",
   "execution_count": null,
   "metadata": {},
   "outputs": [],
   "source": []
  }
 ],
 "metadata": {
  "kernelspec": {
   "display_name": "nba_venv",
   "language": "python",
   "name": "nba_venv"
  },
  "language_info": {
   "codemirror_mode": {
    "name": "ipython",
    "version": 3
   },
   "file_extension": ".py",
   "mimetype": "text/x-python",
   "name": "python",
   "nbconvert_exporter": "python",
   "pygments_lexer": "ipython3",
   "version": "3.7.7"
  },
  "toc": {
   "base_numbering": 1,
   "nav_menu": {},
   "number_sections": true,
   "sideBar": true,
   "skip_h1_title": false,
   "title_cell": "Table of Contents",
   "title_sidebar": "Contents",
   "toc_cell": false,
   "toc_position": {},
   "toc_section_display": true,
   "toc_window_display": false
  }
 },
 "nbformat": 4,
 "nbformat_minor": 4
}
