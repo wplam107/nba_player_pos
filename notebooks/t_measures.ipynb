{
 "cells": [
  {
   "cell_type": "markdown",
   "metadata": {},
   "source": [
    "# Thickness Above Adjusted Replacement (TAAR) and Percent Thickness Above Adjusted Replacement (PTAAR)"
   ]
  },
  {
   "cell_type": "code",
   "execution_count": 255,
   "metadata": {
    "ExecuteTime": {
     "end_time": "2020-10-19T19:35:27.419905Z",
     "start_time": "2020-10-19T19:35:27.406303Z"
    }
   },
   "outputs": [],
   "source": [
    "import numpy as np\n",
    "import pandas as pd\n",
    "import matplotlib.pyplot as plt\n",
    "\n",
    "from sklearn.linear_model import LinearRegression\n",
    "from sklearn.preprocessing import PolynomialFeatures\n",
    "\n",
    "from nba_api.stats.endpoints import LeagueDashPlayerBioStats"
   ]
  },
  {
   "cell_type": "markdown",
   "metadata": {},
   "source": [
    "## Motivation\n",
    "Reddit [post](https://www.reddit.com/r/nba/comments/jckli9/the_cleveland_cavaliers_are_thick_as_hell/) by u/cgilbert0812"
   ]
  },
  {
   "cell_type": "code",
   "execution_count": 276,
   "metadata": {
    "ExecuteTime": {
     "end_time": "2020-10-19T19:37:19.696275Z",
     "start_time": "2020-10-19T19:37:19.586943Z"
    }
   },
   "outputs": [],
   "source": [
    "bio = LeagueDashPlayerBioStats(season='2019-20').get_data_frames()[0]"
   ]
  },
  {
   "cell_type": "code",
   "execution_count": 321,
   "metadata": {
    "ExecuteTime": {
     "end_time": "2020-10-19T19:42:42.494250Z",
     "start_time": "2020-10-19T19:42:42.487926Z"
    },
    "scrolled": true
   },
   "outputs": [],
   "source": [
    "df = bio[['PLAYER_NAME', 'TEAM_ABBREVIATION', 'PLAYER_HEIGHT_INCHES', 'PLAYER_WEIGHT']].copy()\n",
    "df.columns = [ col.lower() for col in df.columns ]"
   ]
  },
  {
   "cell_type": "code",
   "execution_count": 322,
   "metadata": {
    "ExecuteTime": {
     "end_time": "2020-10-19T19:42:42.764496Z",
     "start_time": "2020-10-19T19:42:42.754300Z"
    }
   },
   "outputs": [
    {
     "data": {
      "text/html": [
       "<div>\n",
       "<style scoped>\n",
       "    .dataframe tbody tr th:only-of-type {\n",
       "        vertical-align: middle;\n",
       "    }\n",
       "\n",
       "    .dataframe tbody tr th {\n",
       "        vertical-align: top;\n",
       "    }\n",
       "\n",
       "    .dataframe thead th {\n",
       "        text-align: right;\n",
       "    }\n",
       "</style>\n",
       "<table border=\"1\" class=\"dataframe\">\n",
       "  <thead>\n",
       "    <tr style=\"text-align: right;\">\n",
       "      <th></th>\n",
       "      <th>player_name</th>\n",
       "      <th>team_abbreviation</th>\n",
       "      <th>player_height_inches</th>\n",
       "      <th>player_weight</th>\n",
       "    </tr>\n",
       "  </thead>\n",
       "  <tbody>\n",
       "    <tr>\n",
       "      <th>0</th>\n",
       "      <td>Aaron Gordon</td>\n",
       "      <td>ORL</td>\n",
       "      <td>80</td>\n",
       "      <td>235</td>\n",
       "    </tr>\n",
       "    <tr>\n",
       "      <th>1</th>\n",
       "      <td>Aaron Holiday</td>\n",
       "      <td>IND</td>\n",
       "      <td>72</td>\n",
       "      <td>185</td>\n",
       "    </tr>\n",
       "    <tr>\n",
       "      <th>2</th>\n",
       "      <td>Abdel Nader</td>\n",
       "      <td>OKC</td>\n",
       "      <td>77</td>\n",
       "      <td>225</td>\n",
       "    </tr>\n",
       "    <tr>\n",
       "      <th>3</th>\n",
       "      <td>Adam Mokoka</td>\n",
       "      <td>CHI</td>\n",
       "      <td>77</td>\n",
       "      <td>190</td>\n",
       "    </tr>\n",
       "    <tr>\n",
       "      <th>4</th>\n",
       "      <td>Admiral Schofield</td>\n",
       "      <td>WAS</td>\n",
       "      <td>77</td>\n",
       "      <td>241</td>\n",
       "    </tr>\n",
       "  </tbody>\n",
       "</table>\n",
       "</div>"
      ],
      "text/plain": [
       "         player_name team_abbreviation  player_height_inches player_weight\n",
       "0       Aaron Gordon               ORL                    80           235\n",
       "1      Aaron Holiday               IND                    72           185\n",
       "2        Abdel Nader               OKC                    77           225\n",
       "3        Adam Mokoka               CHI                    77           190\n",
       "4  Admiral Schofield               WAS                    77           241"
      ]
     },
     "execution_count": 322,
     "metadata": {},
     "output_type": "execute_result"
    }
   ],
   "source": [
    "df.head()"
   ]
  },
  {
   "cell_type": "code",
   "execution_count": 324,
   "metadata": {
    "ExecuteTime": {
     "end_time": "2020-10-19T19:42:43.527748Z",
     "start_time": "2020-10-19T19:42:43.523474Z"
    }
   },
   "outputs": [],
   "source": [
    "# Convert weight column to integers\n",
    "df['player_weight'] = df['player_weight'].astype('int')"
   ]
  },
  {
   "cell_type": "code",
   "execution_count": 325,
   "metadata": {
    "ExecuteTime": {
     "end_time": "2020-10-19T19:42:43.918365Z",
     "start_time": "2020-10-19T19:42:43.914326Z"
    }
   },
   "outputs": [],
   "source": [
    "# Height range\n",
    "h_range = np.arange(x.min(), x.max() + 1).reshape((-1,1))"
   ]
  },
  {
   "cell_type": "code",
   "execution_count": 326,
   "metadata": {
    "ExecuteTime": {
     "end_time": "2020-10-19T19:42:44.390712Z",
     "start_time": "2020-10-19T19:42:44.387079Z"
    },
    "scrolled": true
   },
   "outputs": [],
   "source": [
    "# Function to get average weight at each height value\n",
    "def get_avg(x):\n",
    "    average = df['player_weight'].loc[np.where(df['player_height_inches'] == x)].mean()\n",
    "    return average"
   ]
  },
  {
   "cell_type": "code",
   "execution_count": 344,
   "metadata": {
    "ExecuteTime": {
     "end_time": "2020-10-19T19:50:58.813878Z",
     "start_time": "2020-10-19T19:50:58.795712Z"
    }
   },
   "outputs": [],
   "source": [
    "# Dictionary for mapping player height -> average weight\n",
    "avg_weight = { int(h_range[i]): get_avg(int(h_range[i])) for i in range(len(h_range)) }"
   ]
  },
  {
   "cell_type": "code",
   "execution_count": 345,
   "metadata": {
    "ExecuteTime": {
     "end_time": "2020-10-19T19:50:59.211780Z",
     "start_time": "2020-10-19T19:50:59.205468Z"
    }
   },
   "outputs": [],
   "source": [
    "# Map dictionary\n",
    "df['avg_weight'] = df['player_height_inches'].map(avg_weight)\n",
    "\n",
    "# Add TAR column\n",
    "df['TAR'] = df['player_weight'] - df['avg_weight']"
   ]
  },
  {
   "cell_type": "markdown",
   "metadata": {},
   "source": [
    "## TAR vs. TAAR\n",
    "Issue: Average player weight is not increasing as a function of height.  This could be a result of small sample size at each height.\n",
    "\n",
    "Solution: Adjusted average based on polynomial linear regression."
   ]
  },
  {
   "cell_type": "code",
   "execution_count": 389,
   "metadata": {
    "ExecuteTime": {
     "end_time": "2020-10-19T20:10:06.252776Z",
     "start_time": "2020-10-19T20:10:06.007728Z"
    }
   },
   "outputs": [
    {
     "data": {
      "image/png": "[encoded data removed]",
      "text/plain": [
       "<Figure size 432x288 with 1 Axes>"
      ]
     },
     "metadata": {
      "needs_background": "light"
     },
     "output_type": "display_data"
    }
   ],
   "source": [
    "plt.plot(h_range, avg_weight.values())\n",
    "plt.title('Simple Average')\n",
    "plt.show()"
   ]
  },
  {
   "cell_type": "code",
   "execution_count": 360,
   "metadata": {
    "ExecuteTime": {
     "end_time": "2020-10-19T19:52:32.450268Z",
     "start_time": "2020-10-19T19:52:32.446902Z"
    }
   },
   "outputs": [],
   "source": [
    "x = np.array(df['player_height_inches']).reshape((-1,1))\n",
    "y = df['player_weight']"
   ]
  },
  {
   "cell_type": "code",
   "execution_count": 379,
   "metadata": {
    "ExecuteTime": {
     "end_time": "2020-10-19T20:05:11.381611Z",
     "start_time": "2020-10-19T20:05:11.377814Z"
    }
   },
   "outputs": [],
   "source": [
    "# Simple linear model of weight as a function of height\n",
    "model = LinearRegression().fit(x, y)"
   ]
  },
  {
   "cell_type": "code",
   "execution_count": 380,
   "metadata": {
    "ExecuteTime": {
     "end_time": "2020-10-19T20:05:11.862879Z",
     "start_time": "2020-10-19T20:05:11.631847Z"
    }
   },
   "outputs": [
    {
     "data": {
      "image/png": "[encoded data removed]",
      "text/plain": [
       "<Figure size 432x288 with 1 Axes>"
      ]
     },
     "metadata": {
      "needs_background": "light"
     },
     "output_type": "display_data"
    }
   ],
   "source": [
    "preds = model.predict(h_range)\n",
    "plt.plot(h_range, preds)\n",
    "plt.title('Standard Linear Regression')\n",
    "plt.show()"
   ]
  },
  {
   "cell_type": "code",
   "execution_count": 381,
   "metadata": {
    "ExecuteTime": {
     "end_time": "2020-10-19T20:05:15.381996Z",
     "start_time": "2020-10-19T20:05:15.378123Z"
    }
   },
   "outputs": [],
   "source": [
    "transformer = PolynomialFeatures(degree=2)\n",
    "X = transformer.fit_transform(x)"
   ]
  },
  {
   "cell_type": "code",
   "execution_count": 382,
   "metadata": {
    "ExecuteTime": {
     "end_time": "2020-10-19T20:05:15.779954Z",
     "start_time": "2020-10-19T20:05:15.775659Z"
    }
   },
   "outputs": [],
   "source": [
    "# Polynomial model\n",
    "model = LinearRegression().fit(X, y)"
   ]
  },
  {
   "cell_type": "code",
   "execution_count": 383,
   "metadata": {
    "ExecuteTime": {
     "end_time": "2020-10-19T20:05:16.297672Z",
     "start_time": "2020-10-19T20:05:16.293959Z"
    }
   },
   "outputs": [],
   "source": [
    "X_ = transformer.transform(h_range.reshape((-1,1)))\n",
    "preds = model.predict(X_)"
   ]
  },
  {
   "cell_type": "code",
   "execution_count": 384,
   "metadata": {
    "ExecuteTime": {
     "end_time": "2020-10-19T20:05:28.404976Z",
     "start_time": "2020-10-19T20:05:28.184048Z"
    }
   },
   "outputs": [
    {
     "data": {
      "image/png": "[encoded data removed]",
      "text/plain": [
       "<Figure size 432x288 with 1 Axes>"
      ]
     },
     "metadata": {
      "needs_background": "light"
     },
     "output_type": "display_data"
    }
   ],
   "source": [
    "plt.plot(h_range, preds)\n",
    "plt.title('Polynomial Regression')\n",
    "plt.show()"
   ]
  },
  {
   "cell_type": "code",
   "execution_count": 385,
   "metadata": {
    "ExecuteTime": {
     "end_time": "2020-10-19T20:05:30.440203Z",
     "start_time": "2020-10-19T20:05:30.436836Z"
    }
   },
   "outputs": [],
   "source": [
    "# Creating dictionary from polynomial model\n",
    "reg = { int(h_range[i]): preds[i] for i in range(len(h_range)) }"
   ]
  },
  {
   "cell_type": "code",
   "execution_count": 386,
   "metadata": {
    "ExecuteTime": {
     "end_time": "2020-10-19T20:05:30.805010Z",
     "start_time": "2020-10-19T20:05:30.798738Z"
    }
   },
   "outputs": [],
   "source": [
    "# Create a predicted weight\n",
    "df['predicted_weight'] = df['player_height_inches'].map(lambda x: reg[x])\n",
    "\n",
    "# Add column for difference between \"adjusted average\"\n",
    "df['TAAR'] = df['player_weight'] - df['predicted_weight']"
   ]
  },
  {
   "cell_type": "code",
   "execution_count": 387,
   "metadata": {
    "ExecuteTime": {
     "end_time": "2020-10-19T20:05:31.401780Z",
     "start_time": "2020-10-19T20:05:31.389307Z"
    }
   },
   "outputs": [
    {
     "data": {
      "text/html": [
       "<div>\n",
       "<style scoped>\n",
       "    .dataframe tbody tr th:only-of-type {\n",
       "        vertical-align: middle;\n",
       "    }\n",
       "\n",
       "    .dataframe tbody tr th {\n",
       "        vertical-align: top;\n",
       "    }\n",
       "\n",
       "    .dataframe thead th {\n",
       "        text-align: right;\n",
       "    }\n",
       "</style>\n",
       "<table border=\"1\" class=\"dataframe\">\n",
       "  <thead>\n",
       "    <tr style=\"text-align: right;\">\n",
       "      <th></th>\n",
       "      <th>player_name</th>\n",
       "      <th>team_abbreviation</th>\n",
       "      <th>player_height_inches</th>\n",
       "      <th>player_weight</th>\n",
       "      <th>avg_weight</th>\n",
       "      <th>TAR</th>\n",
       "      <th>predicted_weight</th>\n",
       "      <th>TAAR</th>\n",
       "    </tr>\n",
       "  </thead>\n",
       "  <tbody>\n",
       "    <tr>\n",
       "      <th>0</th>\n",
       "      <td>Aaron Gordon</td>\n",
       "      <td>ORL</td>\n",
       "      <td>80</td>\n",
       "      <td>235</td>\n",
       "      <td>226.568966</td>\n",
       "      <td>8.431034</td>\n",
       "      <td>225.834053</td>\n",
       "      <td>9.165947</td>\n",
       "    </tr>\n",
       "    <tr>\n",
       "      <th>1</th>\n",
       "      <td>Aaron Holiday</td>\n",
       "      <td>IND</td>\n",
       "      <td>72</td>\n",
       "      <td>185</td>\n",
       "      <td>182.428571</td>\n",
       "      <td>2.571429</td>\n",
       "      <td>184.390905</td>\n",
       "      <td>0.609095</td>\n",
       "    </tr>\n",
       "    <tr>\n",
       "      <th>2</th>\n",
       "      <td>Abdel Nader</td>\n",
       "      <td>OKC</td>\n",
       "      <td>77</td>\n",
       "      <td>225</td>\n",
       "      <td>209.079365</td>\n",
       "      <td>15.920635</td>\n",
       "      <td>209.198190</td>\n",
       "      <td>15.801810</td>\n",
       "    </tr>\n",
       "    <tr>\n",
       "      <th>3</th>\n",
       "      <td>Adam Mokoka</td>\n",
       "      <td>CHI</td>\n",
       "      <td>77</td>\n",
       "      <td>190</td>\n",
       "      <td>209.079365</td>\n",
       "      <td>-19.079365</td>\n",
       "      <td>209.198190</td>\n",
       "      <td>-19.198190</td>\n",
       "    </tr>\n",
       "    <tr>\n",
       "      <th>4</th>\n",
       "      <td>Admiral Schofield</td>\n",
       "      <td>WAS</td>\n",
       "      <td>77</td>\n",
       "      <td>241</td>\n",
       "      <td>209.079365</td>\n",
       "      <td>31.920635</td>\n",
       "      <td>209.198190</td>\n",
       "      <td>31.801810</td>\n",
       "    </tr>\n",
       "  </tbody>\n",
       "</table>\n",
       "</div>"
      ],
      "text/plain": [
       "         player_name team_abbreviation  player_height_inches  player_weight  \\\n",
       "0       Aaron Gordon               ORL                    80            235   \n",
       "1      Aaron Holiday               IND                    72            185   \n",
       "2        Abdel Nader               OKC                    77            225   \n",
       "3        Adam Mokoka               CHI                    77            190   \n",
       "4  Admiral Schofield               WAS                    77            241   \n",
       "\n",
       "   avg_weight        TAR  predicted_weight       TAAR  \n",
       "0  226.568966   8.431034        225.834053   9.165947  \n",
       "1  182.428571   2.571429        184.390905   0.609095  \n",
       "2  209.079365  15.920635        209.198190  15.801810  \n",
       "3  209.079365 -19.079365        209.198190 -19.198190  \n",
       "4  209.079365  31.920635        209.198190  31.801810  "
      ]
     },
     "execution_count": 387,
     "metadata": {},
     "output_type": "execute_result"
    }
   ],
   "source": [
    "df.head()"
   ]
  },
  {
   "cell_type": "code",
   "execution_count": 388,
   "metadata": {
    "ExecuteTime": {
     "end_time": "2020-10-19T20:05:36.094244Z",
     "start_time": "2020-10-19T20:05:35.815154Z"
    }
   },
   "outputs": [
    {
     "data": {
      "image/png": "[encoded data removed]",
      "text/plain": [
       "<Figure size 432x288 with 1 Axes>"
      ]
     },
     "metadata": {
      "needs_background": "light"
     },
     "output_type": "display_data"
    }
   ],
   "source": [
    "plt.plot(h_range, avg_weight.values(), h_range, preds)\n",
    "plt.title('Average (A) vs. Adjusted Average (AA)')\n",
    "plt.xlabel('Height (inches)')\n",
    "plt.ylabel('Weight (lbs.)')\n",
    "\n",
    "labels = ['A', 'AA']\n",
    "plt.legend(labels)\n",
    "\n",
    "plt.show()"
   ]
  },
  {
   "cell_type": "markdown",
   "metadata": {},
   "source": [
    "#### Note:\n",
    "Small sample size under/over penalized players at certain heights"
   ]
  },
  {
   "cell_type": "code",
   "execution_count": 399,
   "metadata": {
    "ExecuteTime": {
     "end_time": "2020-10-19T20:25:51.749687Z",
     "start_time": "2020-10-19T20:25:51.735986Z"
    }
   },
   "outputs": [
    {
     "data": {
      "text/html": [
       "<div>\n",
       "<style scoped>\n",
       "    .dataframe tbody tr th:only-of-type {\n",
       "        vertical-align: middle;\n",
       "    }\n",
       "\n",
       "    .dataframe tbody tr th {\n",
       "        vertical-align: top;\n",
       "    }\n",
       "\n",
       "    .dataframe thead th {\n",
       "        text-align: right;\n",
       "    }\n",
       "</style>\n",
       "<table border=\"1\" class=\"dataframe\">\n",
       "  <thead>\n",
       "    <tr style=\"text-align: right;\">\n",
       "      <th></th>\n",
       "      <th>player_name</th>\n",
       "      <th>team_abbreviation</th>\n",
       "      <th>player_height_inches</th>\n",
       "      <th>player_weight</th>\n",
       "      <th>avg_weight</th>\n",
       "      <th>TAR</th>\n",
       "      <th>predicted_weight</th>\n",
       "      <th>TAAR</th>\n",
       "    </tr>\n",
       "  </thead>\n",
       "  <tbody>\n",
       "    <tr>\n",
       "      <th>213</th>\n",
       "      <td>Jakob Poeltl</td>\n",
       "      <td>SAS</td>\n",
       "      <td>85</td>\n",
       "      <td>245</td>\n",
       "      <td>251.5</td>\n",
       "      <td>-6.5</td>\n",
       "      <td>256.479642</td>\n",
       "      <td>-11.479642</td>\n",
       "    </tr>\n",
       "    <tr>\n",
       "      <th>436</th>\n",
       "      <td>Rudy Gobert</td>\n",
       "      <td>UTA</td>\n",
       "      <td>85</td>\n",
       "      <td>258</td>\n",
       "      <td>251.5</td>\n",
       "      <td>6.5</td>\n",
       "      <td>256.479642</td>\n",
       "      <td>1.520358</td>\n",
       "    </tr>\n",
       "  </tbody>\n",
       "</table>\n",
       "</div>"
      ],
      "text/plain": [
       "      player_name team_abbreviation  player_height_inches  player_weight  \\\n",
       "213  Jakob Poeltl               SAS                    85            245   \n",
       "436   Rudy Gobert               UTA                    85            258   \n",
       "\n",
       "     avg_weight  TAR  predicted_weight       TAAR  \n",
       "213       251.5 -6.5        256.479642 -11.479642  \n",
       "436       251.5  6.5        256.479642   1.520358  "
      ]
     },
     "execution_count": 399,
     "metadata": {},
     "output_type": "execute_result"
    }
   ],
   "source": [
    "df.loc[df['player_height_inches'] == 85]"
   ]
  },
  {
   "cell_type": "code",
   "execution_count": 398,
   "metadata": {
    "ExecuteTime": {
     "end_time": "2020-10-19T20:23:40.533220Z",
     "start_time": "2020-10-19T20:23:40.518228Z"
    }
   },
   "outputs": [
    {
     "data": {
      "text/html": [
       "<div>\n",
       "<style scoped>\n",
       "    .dataframe tbody tr th:only-of-type {\n",
       "        vertical-align: middle;\n",
       "    }\n",
       "\n",
       "    .dataframe tbody tr th {\n",
       "        vertical-align: top;\n",
       "    }\n",
       "\n",
       "    .dataframe thead th {\n",
       "        text-align: right;\n",
       "    }\n",
       "</style>\n",
       "<table border=\"1\" class=\"dataframe\">\n",
       "  <thead>\n",
       "    <tr style=\"text-align: right;\">\n",
       "      <th></th>\n",
       "      <th>player_name</th>\n",
       "      <th>team_abbreviation</th>\n",
       "      <th>player_height_inches</th>\n",
       "      <th>player_weight</th>\n",
       "      <th>avg_weight</th>\n",
       "      <th>TAR</th>\n",
       "      <th>predicted_weight</th>\n",
       "      <th>TAAR</th>\n",
       "    </tr>\n",
       "  </thead>\n",
       "  <tbody>\n",
       "    <tr>\n",
       "      <th>26</th>\n",
       "      <td>Anzejs Pasecniks</td>\n",
       "      <td>WAS</td>\n",
       "      <td>86</td>\n",
       "      <td>229</td>\n",
       "      <td>236.0</td>\n",
       "      <td>-7.0</td>\n",
       "      <td>263.046632</td>\n",
       "      <td>-34.046632</td>\n",
       "    </tr>\n",
       "    <tr>\n",
       "      <th>40</th>\n",
       "      <td>Bol Bol</td>\n",
       "      <td>DEN</td>\n",
       "      <td>86</td>\n",
       "      <td>220</td>\n",
       "      <td>236.0</td>\n",
       "      <td>-16.0</td>\n",
       "      <td>263.046632</td>\n",
       "      <td>-43.046632</td>\n",
       "    </tr>\n",
       "    <tr>\n",
       "      <th>337</th>\n",
       "      <td>Luke Kornet</td>\n",
       "      <td>CHI</td>\n",
       "      <td>86</td>\n",
       "      <td>250</td>\n",
       "      <td>236.0</td>\n",
       "      <td>14.0</td>\n",
       "      <td>263.046632</td>\n",
       "      <td>-13.046632</td>\n",
       "    </tr>\n",
       "    <tr>\n",
       "      <th>382</th>\n",
       "      <td>Moses Brown</td>\n",
       "      <td>POR</td>\n",
       "      <td>86</td>\n",
       "      <td>245</td>\n",
       "      <td>236.0</td>\n",
       "      <td>9.0</td>\n",
       "      <td>263.046632</td>\n",
       "      <td>-18.046632</td>\n",
       "    </tr>\n",
       "  </tbody>\n",
       "</table>\n",
       "</div>"
      ],
      "text/plain": [
       "          player_name team_abbreviation  player_height_inches  player_weight  \\\n",
       "26   Anzejs Pasecniks               WAS                    86            229   \n",
       "40            Bol Bol               DEN                    86            220   \n",
       "337       Luke Kornet               CHI                    86            250   \n",
       "382       Moses Brown               POR                    86            245   \n",
       "\n",
       "     avg_weight   TAR  predicted_weight       TAAR  \n",
       "26        236.0  -7.0        263.046632 -34.046632  \n",
       "40        236.0 -16.0        263.046632 -43.046632  \n",
       "337       236.0  14.0        263.046632 -13.046632  \n",
       "382       236.0   9.0        263.046632 -18.046632  "
      ]
     },
     "execution_count": 398,
     "metadata": {},
     "output_type": "execute_result"
    }
   ],
   "source": [
    "df.loc[df['player_height_inches'] == 86]"
   ]
  },
  {
   "cell_type": "markdown",
   "metadata": {
    "ExecuteTime": {
     "end_time": "2020-10-19T20:33:26.922377Z",
     "start_time": "2020-10-19T20:33:26.902751Z"
    }
   },
   "source": [
    "## PTAAR"
   ]
  },
  {
   "cell_type": "code",
   "execution_count": 414,
   "metadata": {
    "ExecuteTime": {
     "end_time": "2020-10-19T20:40:14.584307Z",
     "start_time": "2020-10-19T20:40:14.571104Z"
    }
   },
   "outputs": [],
   "source": [
    "df['PTAAR'] = df['TAAR'] / df['predicted_weight']"
   ]
  },
  {
   "cell_type": "code",
   "execution_count": 392,
   "metadata": {
    "ExecuteTime": {
     "end_time": "2020-10-19T20:18:02.721181Z",
     "start_time": "2020-10-19T20:18:02.705280Z"
    }
   },
   "outputs": [
    {
     "data": {
      "text/html": [
       "<div>\n",
       "<style scoped>\n",
       "    .dataframe tbody tr th:only-of-type {\n",
       "        vertical-align: middle;\n",
       "    }\n",
       "\n",
       "    .dataframe tbody tr th {\n",
       "        vertical-align: top;\n",
       "    }\n",
       "\n",
       "    .dataframe thead th {\n",
       "        text-align: right;\n",
       "    }\n",
       "</style>\n",
       "<table border=\"1\" class=\"dataframe\">\n",
       "  <thead>\n",
       "    <tr style=\"text-align: right;\">\n",
       "      <th></th>\n",
       "      <th>player_name</th>\n",
       "      <th>team_abbreviation</th>\n",
       "      <th>player_height_inches</th>\n",
       "      <th>player_weight</th>\n",
       "      <th>avg_weight</th>\n",
       "      <th>TAR</th>\n",
       "      <th>predicted_weight</th>\n",
       "      <th>TAAR</th>\n",
       "    </tr>\n",
       "  </thead>\n",
       "  <tbody>\n",
       "    <tr>\n",
       "      <th>527</th>\n",
       "      <td>Zion Williamson</td>\n",
       "      <td>NOP</td>\n",
       "      <td>78</td>\n",
       "      <td>284</td>\n",
       "      <td>216.839286</td>\n",
       "      <td>67.160714</td>\n",
       "      <td>214.597520</td>\n",
       "      <td>69.402480</td>\n",
       "    </tr>\n",
       "    <tr>\n",
       "      <th>17</th>\n",
       "      <td>Andre Drummond</td>\n",
       "      <td>CLE</td>\n",
       "      <td>82</td>\n",
       "      <td>279</td>\n",
       "      <td>237.804878</td>\n",
       "      <td>41.195122</td>\n",
       "      <td>237.654415</td>\n",
       "      <td>41.345585</td>\n",
       "    </tr>\n",
       "    <tr>\n",
       "      <th>226</th>\n",
       "      <td>Jarrell Brantley</td>\n",
       "      <td>UTA</td>\n",
       "      <td>77</td>\n",
       "      <td>250</td>\n",
       "      <td>209.079365</td>\n",
       "      <td>40.920635</td>\n",
       "      <td>209.198190</td>\n",
       "      <td>40.801810</td>\n",
       "    </tr>\n",
       "    <tr>\n",
       "      <th>414</th>\n",
       "      <td>Paul Millsap</td>\n",
       "      <td>DEN</td>\n",
       "      <td>79</td>\n",
       "      <td>257</td>\n",
       "      <td>216.274510</td>\n",
       "      <td>40.725490</td>\n",
       "      <td>220.142808</td>\n",
       "      <td>36.857192</td>\n",
       "    </tr>\n",
       "    <tr>\n",
       "      <th>159</th>\n",
       "      <td>Eric Paschall</td>\n",
       "      <td>GSW</td>\n",
       "      <td>78</td>\n",
       "      <td>255</td>\n",
       "      <td>216.839286</td>\n",
       "      <td>38.160714</td>\n",
       "      <td>214.597520</td>\n",
       "      <td>40.402480</td>\n",
       "    </tr>\n",
       "    <tr>\n",
       "      <th>284</th>\n",
       "      <td>Jusuf Nurkic</td>\n",
       "      <td>POR</td>\n",
       "      <td>84</td>\n",
       "      <td>290</td>\n",
       "      <td>252.304348</td>\n",
       "      <td>37.695652</td>\n",
       "      <td>250.058609</td>\n",
       "      <td>39.941391</td>\n",
       "    </tr>\n",
       "    <tr>\n",
       "      <th>512</th>\n",
       "      <td>Wendell Carter Jr.</td>\n",
       "      <td>CHI</td>\n",
       "      <td>81</td>\n",
       "      <td>270</td>\n",
       "      <td>233.093023</td>\n",
       "      <td>36.906977</td>\n",
       "      <td>231.671255</td>\n",
       "      <td>38.328745</td>\n",
       "    </tr>\n",
       "    <tr>\n",
       "      <th>120</th>\n",
       "      <td>Deonte Burton</td>\n",
       "      <td>OKC</td>\n",
       "      <td>76</td>\n",
       "      <td>240</td>\n",
       "      <td>203.833333</td>\n",
       "      <td>36.166667</td>\n",
       "      <td>203.944818</td>\n",
       "      <td>36.055182</td>\n",
       "    </tr>\n",
       "    <tr>\n",
       "      <th>404</th>\n",
       "      <td>P.J. Tucker</td>\n",
       "      <td>HOU</td>\n",
       "      <td>77</td>\n",
       "      <td>245</td>\n",
       "      <td>209.079365</td>\n",
       "      <td>35.920635</td>\n",
       "      <td>209.198190</td>\n",
       "      <td>35.801810</td>\n",
       "    </tr>\n",
       "    <tr>\n",
       "      <th>211</th>\n",
       "      <td>Jahlil Okafor</td>\n",
       "      <td>NOP</td>\n",
       "      <td>82</td>\n",
       "      <td>270</td>\n",
       "      <td>237.804878</td>\n",
       "      <td>32.195122</td>\n",
       "      <td>237.654415</td>\n",
       "      <td>32.345585</td>\n",
       "    </tr>\n",
       "  </tbody>\n",
       "</table>\n",
       "</div>"
      ],
      "text/plain": [
       "            player_name team_abbreviation  player_height_inches  \\\n",
       "527     Zion Williamson               NOP                    78   \n",
       "17       Andre Drummond               CLE                    82   \n",
       "226    Jarrell Brantley               UTA                    77   \n",
       "414        Paul Millsap               DEN                    79   \n",
       "159       Eric Paschall               GSW                    78   \n",
       "284        Jusuf Nurkic               POR                    84   \n",
       "512  Wendell Carter Jr.               CHI                    81   \n",
       "120       Deonte Burton               OKC                    76   \n",
       "404         P.J. Tucker               HOU                    77   \n",
       "211       Jahlil Okafor               NOP                    82   \n",
       "\n",
       "     player_weight  avg_weight        TAR  predicted_weight       TAAR  \n",
       "527            284  216.839286  67.160714        214.597520  69.402480  \n",
       "17             279  237.804878  41.195122        237.654415  41.345585  \n",
       "226            250  209.079365  40.920635        209.198190  40.801810  \n",
       "414            257  216.274510  40.725490        220.142808  36.857192  \n",
       "159            255  216.839286  38.160714        214.597520  40.402480  \n",
       "284            290  252.304348  37.695652        250.058609  39.941391  \n",
       "512            270  233.093023  36.906977        231.671255  38.328745  \n",
       "120            240  203.833333  36.166667        203.944818  36.055182  \n",
       "404            245  209.079365  35.920635        209.198190  35.801810  \n",
       "211            270  237.804878  32.195122        237.654415  32.345585  "
      ]
     },
     "execution_count": 392,
     "metadata": {},
     "output_type": "execute_result"
    }
   ],
   "source": [
    "df.sort_values('TAR', ascending=False).head(10)"
   ]
  },
  {
   "cell_type": "code",
   "execution_count": 393,
   "metadata": {
    "ExecuteTime": {
     "end_time": "2020-10-19T20:18:25.124136Z",
     "start_time": "2020-10-19T20:18:25.108046Z"
    }
   },
   "outputs": [
    {
     "data": {
      "text/html": [
       "<div>\n",
       "<style scoped>\n",
       "    .dataframe tbody tr th:only-of-type {\n",
       "        vertical-align: middle;\n",
       "    }\n",
       "\n",
       "    .dataframe tbody tr th {\n",
       "        vertical-align: top;\n",
       "    }\n",
       "\n",
       "    .dataframe thead th {\n",
       "        text-align: right;\n",
       "    }\n",
       "</style>\n",
       "<table border=\"1\" class=\"dataframe\">\n",
       "  <thead>\n",
       "    <tr style=\"text-align: right;\">\n",
       "      <th></th>\n",
       "      <th>player_name</th>\n",
       "      <th>team_abbreviation</th>\n",
       "      <th>player_height_inches</th>\n",
       "      <th>player_weight</th>\n",
       "      <th>avg_weight</th>\n",
       "      <th>TAR</th>\n",
       "      <th>predicted_weight</th>\n",
       "      <th>TAAR</th>\n",
       "    </tr>\n",
       "  </thead>\n",
       "  <tbody>\n",
       "    <tr>\n",
       "      <th>527</th>\n",
       "      <td>Zion Williamson</td>\n",
       "      <td>NOP</td>\n",
       "      <td>78</td>\n",
       "      <td>284</td>\n",
       "      <td>216.839286</td>\n",
       "      <td>67.160714</td>\n",
       "      <td>214.597520</td>\n",
       "      <td>69.402480</td>\n",
       "    </tr>\n",
       "    <tr>\n",
       "      <th>17</th>\n",
       "      <td>Andre Drummond</td>\n",
       "      <td>CLE</td>\n",
       "      <td>82</td>\n",
       "      <td>279</td>\n",
       "      <td>237.804878</td>\n",
       "      <td>41.195122</td>\n",
       "      <td>237.654415</td>\n",
       "      <td>41.345585</td>\n",
       "    </tr>\n",
       "    <tr>\n",
       "      <th>226</th>\n",
       "      <td>Jarrell Brantley</td>\n",
       "      <td>UTA</td>\n",
       "      <td>77</td>\n",
       "      <td>250</td>\n",
       "      <td>209.079365</td>\n",
       "      <td>40.920635</td>\n",
       "      <td>209.198190</td>\n",
       "      <td>40.801810</td>\n",
       "    </tr>\n",
       "    <tr>\n",
       "      <th>159</th>\n",
       "      <td>Eric Paschall</td>\n",
       "      <td>GSW</td>\n",
       "      <td>78</td>\n",
       "      <td>255</td>\n",
       "      <td>216.839286</td>\n",
       "      <td>38.160714</td>\n",
       "      <td>214.597520</td>\n",
       "      <td>40.402480</td>\n",
       "    </tr>\n",
       "    <tr>\n",
       "      <th>284</th>\n",
       "      <td>Jusuf Nurkic</td>\n",
       "      <td>POR</td>\n",
       "      <td>84</td>\n",
       "      <td>290</td>\n",
       "      <td>252.304348</td>\n",
       "      <td>37.695652</td>\n",
       "      <td>250.058609</td>\n",
       "      <td>39.941391</td>\n",
       "    </tr>\n",
       "    <tr>\n",
       "      <th>512</th>\n",
       "      <td>Wendell Carter Jr.</td>\n",
       "      <td>CHI</td>\n",
       "      <td>81</td>\n",
       "      <td>270</td>\n",
       "      <td>233.093023</td>\n",
       "      <td>36.906977</td>\n",
       "      <td>231.671255</td>\n",
       "      <td>38.328745</td>\n",
       "    </tr>\n",
       "    <tr>\n",
       "      <th>414</th>\n",
       "      <td>Paul Millsap</td>\n",
       "      <td>DEN</td>\n",
       "      <td>79</td>\n",
       "      <td>257</td>\n",
       "      <td>216.274510</td>\n",
       "      <td>40.725490</td>\n",
       "      <td>220.142808</td>\n",
       "      <td>36.857192</td>\n",
       "    </tr>\n",
       "    <tr>\n",
       "      <th>120</th>\n",
       "      <td>Deonte Burton</td>\n",
       "      <td>OKC</td>\n",
       "      <td>76</td>\n",
       "      <td>240</td>\n",
       "      <td>203.833333</td>\n",
       "      <td>36.166667</td>\n",
       "      <td>203.944818</td>\n",
       "      <td>36.055182</td>\n",
       "    </tr>\n",
       "    <tr>\n",
       "      <th>404</th>\n",
       "      <td>P.J. Tucker</td>\n",
       "      <td>HOU</td>\n",
       "      <td>77</td>\n",
       "      <td>245</td>\n",
       "      <td>209.079365</td>\n",
       "      <td>35.920635</td>\n",
       "      <td>209.198190</td>\n",
       "      <td>35.801810</td>\n",
       "    </tr>\n",
       "    <tr>\n",
       "      <th>395</th>\n",
       "      <td>Nikola Jokic</td>\n",
       "      <td>DEN</td>\n",
       "      <td>84</td>\n",
       "      <td>284</td>\n",
       "      <td>252.304348</td>\n",
       "      <td>31.695652</td>\n",
       "      <td>250.058609</td>\n",
       "      <td>33.941391</td>\n",
       "    </tr>\n",
       "  </tbody>\n",
       "</table>\n",
       "</div>"
      ],
      "text/plain": [
       "            player_name team_abbreviation  player_height_inches  \\\n",
       "527     Zion Williamson               NOP                    78   \n",
       "17       Andre Drummond               CLE                    82   \n",
       "226    Jarrell Brantley               UTA                    77   \n",
       "159       Eric Paschall               GSW                    78   \n",
       "284        Jusuf Nurkic               POR                    84   \n",
       "512  Wendell Carter Jr.               CHI                    81   \n",
       "414        Paul Millsap               DEN                    79   \n",
       "120       Deonte Burton               OKC                    76   \n",
       "404         P.J. Tucker               HOU                    77   \n",
       "395        Nikola Jokic               DEN                    84   \n",
       "\n",
       "     player_weight  avg_weight        TAR  predicted_weight       TAAR  \n",
       "527            284  216.839286  67.160714        214.597520  69.402480  \n",
       "17             279  237.804878  41.195122        237.654415  41.345585  \n",
       "226            250  209.079365  40.920635        209.198190  40.801810  \n",
       "159            255  216.839286  38.160714        214.597520  40.402480  \n",
       "284            290  252.304348  37.695652        250.058609  39.941391  \n",
       "512            270  233.093023  36.906977        231.671255  38.328745  \n",
       "414            257  216.274510  40.725490        220.142808  36.857192  \n",
       "120            240  203.833333  36.166667        203.944818  36.055182  \n",
       "404            245  209.079365  35.920635        209.198190  35.801810  \n",
       "395            284  252.304348  31.695652        250.058609  33.941391  "
      ]
     },
     "execution_count": 393,
     "metadata": {},
     "output_type": "execute_result"
    }
   ],
   "source": [
    "df.sort_values('TAAR', ascending=False).head(10)"
   ]
  },
  {
   "cell_type": "code",
   "execution_count": 417,
   "metadata": {
    "ExecuteTime": {
     "end_time": "2020-10-19T20:41:02.384847Z",
     "start_time": "2020-10-19T20:41:02.367546Z"
    }
   },
   "outputs": [
    {
     "data": {
      "text/html": [
       "<div>\n",
       "<style scoped>\n",
       "    .dataframe tbody tr th:only-of-type {\n",
       "        vertical-align: middle;\n",
       "    }\n",
       "\n",
       "    .dataframe tbody tr th {\n",
       "        vertical-align: top;\n",
       "    }\n",
       "\n",
       "    .dataframe thead th {\n",
       "        text-align: right;\n",
       "    }\n",
       "</style>\n",
       "<table border=\"1\" class=\"dataframe\">\n",
       "  <thead>\n",
       "    <tr style=\"text-align: right;\">\n",
       "      <th></th>\n",
       "      <th>player_name</th>\n",
       "      <th>team_abbreviation</th>\n",
       "      <th>player_height_inches</th>\n",
       "      <th>player_weight</th>\n",
       "      <th>avg_weight</th>\n",
       "      <th>TAR</th>\n",
       "      <th>predicted_weight</th>\n",
       "      <th>TAAR</th>\n",
       "      <th>PTAAR</th>\n",
       "    </tr>\n",
       "  </thead>\n",
       "  <tbody>\n",
       "    <tr>\n",
       "      <th>527</th>\n",
       "      <td>Zion Williamson</td>\n",
       "      <td>NOP</td>\n",
       "      <td>78</td>\n",
       "      <td>284</td>\n",
       "      <td>216.839286</td>\n",
       "      <td>67.160714</td>\n",
       "      <td>214.597520</td>\n",
       "      <td>69.402480</td>\n",
       "      <td>0.323408</td>\n",
       "    </tr>\n",
       "    <tr>\n",
       "      <th>226</th>\n",
       "      <td>Jarrell Brantley</td>\n",
       "      <td>UTA</td>\n",
       "      <td>77</td>\n",
       "      <td>250</td>\n",
       "      <td>209.079365</td>\n",
       "      <td>40.920635</td>\n",
       "      <td>209.198190</td>\n",
       "      <td>40.801810</td>\n",
       "      <td>0.195039</td>\n",
       "    </tr>\n",
       "    <tr>\n",
       "      <th>159</th>\n",
       "      <td>Eric Paschall</td>\n",
       "      <td>GSW</td>\n",
       "      <td>78</td>\n",
       "      <td>255</td>\n",
       "      <td>216.839286</td>\n",
       "      <td>38.160714</td>\n",
       "      <td>214.597520</td>\n",
       "      <td>40.402480</td>\n",
       "      <td>0.188271</td>\n",
       "    </tr>\n",
       "    <tr>\n",
       "      <th>120</th>\n",
       "      <td>Deonte Burton</td>\n",
       "      <td>OKC</td>\n",
       "      <td>76</td>\n",
       "      <td>240</td>\n",
       "      <td>203.833333</td>\n",
       "      <td>36.166667</td>\n",
       "      <td>203.944818</td>\n",
       "      <td>36.055182</td>\n",
       "      <td>0.176789</td>\n",
       "    </tr>\n",
       "    <tr>\n",
       "      <th>17</th>\n",
       "      <td>Andre Drummond</td>\n",
       "      <td>CLE</td>\n",
       "      <td>82</td>\n",
       "      <td>279</td>\n",
       "      <td>237.804878</td>\n",
       "      <td>41.195122</td>\n",
       "      <td>237.654415</td>\n",
       "      <td>41.345585</td>\n",
       "      <td>0.173974</td>\n",
       "    </tr>\n",
       "    <tr>\n",
       "      <th>404</th>\n",
       "      <td>P.J. Tucker</td>\n",
       "      <td>HOU</td>\n",
       "      <td>77</td>\n",
       "      <td>245</td>\n",
       "      <td>209.079365</td>\n",
       "      <td>35.920635</td>\n",
       "      <td>209.198190</td>\n",
       "      <td>35.801810</td>\n",
       "      <td>0.171138</td>\n",
       "    </tr>\n",
       "    <tr>\n",
       "      <th>414</th>\n",
       "      <td>Paul Millsap</td>\n",
       "      <td>DEN</td>\n",
       "      <td>79</td>\n",
       "      <td>257</td>\n",
       "      <td>216.274510</td>\n",
       "      <td>40.725490</td>\n",
       "      <td>220.142808</td>\n",
       "      <td>36.857192</td>\n",
       "      <td>0.167424</td>\n",
       "    </tr>\n",
       "    <tr>\n",
       "      <th>512</th>\n",
       "      <td>Wendell Carter Jr.</td>\n",
       "      <td>CHI</td>\n",
       "      <td>81</td>\n",
       "      <td>270</td>\n",
       "      <td>233.093023</td>\n",
       "      <td>36.906977</td>\n",
       "      <td>231.671255</td>\n",
       "      <td>38.328745</td>\n",
       "      <td>0.165445</td>\n",
       "    </tr>\n",
       "    <tr>\n",
       "      <th>284</th>\n",
       "      <td>Jusuf Nurkic</td>\n",
       "      <td>POR</td>\n",
       "      <td>84</td>\n",
       "      <td>290</td>\n",
       "      <td>252.304348</td>\n",
       "      <td>37.695652</td>\n",
       "      <td>250.058609</td>\n",
       "      <td>39.941391</td>\n",
       "      <td>0.159728</td>\n",
       "    </tr>\n",
       "    <tr>\n",
       "      <th>4</th>\n",
       "      <td>Admiral Schofield</td>\n",
       "      <td>WAS</td>\n",
       "      <td>77</td>\n",
       "      <td>241</td>\n",
       "      <td>209.079365</td>\n",
       "      <td>31.920635</td>\n",
       "      <td>209.198190</td>\n",
       "      <td>31.801810</td>\n",
       "      <td>0.152018</td>\n",
       "    </tr>\n",
       "  </tbody>\n",
       "</table>\n",
       "</div>"
      ],
      "text/plain": [
       "            player_name team_abbreviation  player_height_inches  \\\n",
       "527     Zion Williamson               NOP                    78   \n",
       "226    Jarrell Brantley               UTA                    77   \n",
       "159       Eric Paschall               GSW                    78   \n",
       "120       Deonte Burton               OKC                    76   \n",
       "17       Andre Drummond               CLE                    82   \n",
       "404         P.J. Tucker               HOU                    77   \n",
       "414        Paul Millsap               DEN                    79   \n",
       "512  Wendell Carter Jr.               CHI                    81   \n",
       "284        Jusuf Nurkic               POR                    84   \n",
       "4     Admiral Schofield               WAS                    77   \n",
       "\n",
       "     player_weight  avg_weight        TAR  predicted_weight       TAAR  \\\n",
       "527            284  216.839286  67.160714        214.597520  69.402480   \n",
       "226            250  209.079365  40.920635        209.198190  40.801810   \n",
       "159            255  216.839286  38.160714        214.597520  40.402480   \n",
       "120            240  203.833333  36.166667        203.944818  36.055182   \n",
       "17             279  237.804878  41.195122        237.654415  41.345585   \n",
       "404            245  209.079365  35.920635        209.198190  35.801810   \n",
       "414            257  216.274510  40.725490        220.142808  36.857192   \n",
       "512            270  233.093023  36.906977        231.671255  38.328745   \n",
       "284            290  252.304348  37.695652        250.058609  39.941391   \n",
       "4              241  209.079365  31.920635        209.198190  31.801810   \n",
       "\n",
       "        PTAAR  \n",
       "527  0.323408  \n",
       "226  0.195039  \n",
       "159  0.188271  \n",
       "120  0.176789  \n",
       "17   0.173974  \n",
       "404  0.171138  \n",
       "414  0.167424  \n",
       "512  0.165445  \n",
       "284  0.159728  \n",
       "4    0.152018  "
      ]
     },
     "execution_count": 417,
     "metadata": {},
     "output_type": "execute_result"
    }
   ],
   "source": [
    "df.sort_values('PTAAR', ascending=False).head(10)"
   ]
  },
  {
   "cell_type": "code",
   "execution_count": 420,
   "metadata": {
    "ExecuteTime": {
     "end_time": "2020-10-19T20:44:12.955541Z",
     "start_time": "2020-10-19T20:44:12.940512Z"
    }
   },
   "outputs": [],
   "source": [
    "ptaar = df.groupby('team_abbreviation')['PTAAR'].mean().sort_values(ascending=False).reset_index()"
   ]
  },
  {
   "cell_type": "code",
   "execution_count": 405,
   "metadata": {
    "ExecuteTime": {
     "end_time": "2020-10-19T20:30:18.760105Z",
     "start_time": "2020-10-19T20:30:18.749826Z"
    },
    "scrolled": true
   },
   "outputs": [],
   "source": [
    "tar = df.groupby('team_abbreviation')['TAR'].mean().sort_values(ascending=False).reset_index().copy()\n",
    "taar = df.groupby('team_abbreviation')['TAAR'].mean().sort_values(ascending=False).reset_index().copy()"
   ]
  },
  {
   "cell_type": "code",
   "execution_count": 409,
   "metadata": {
    "ExecuteTime": {
     "end_time": "2020-10-19T20:30:51.944326Z",
     "start_time": "2020-10-19T20:30:51.935272Z"
    }
   },
   "outputs": [
    {
     "data": {
      "text/html": [
       "<div>\n",
       "<style scoped>\n",
       "    .dataframe tbody tr th:only-of-type {\n",
       "        vertical-align: middle;\n",
       "    }\n",
       "\n",
       "    .dataframe tbody tr th {\n",
       "        vertical-align: top;\n",
       "    }\n",
       "\n",
       "    .dataframe thead th {\n",
       "        text-align: right;\n",
       "    }\n",
       "</style>\n",
       "<table border=\"1\" class=\"dataframe\">\n",
       "  <thead>\n",
       "    <tr style=\"text-align: right;\">\n",
       "      <th></th>\n",
       "      <th>team_abbreviation</th>\n",
       "      <th>TAR</th>\n",
       "    </tr>\n",
       "  </thead>\n",
       "  <tbody>\n",
       "    <tr>\n",
       "      <th>0</th>\n",
       "      <td>CLE</td>\n",
       "      <td>8.934780</td>\n",
       "    </tr>\n",
       "    <tr>\n",
       "      <th>1</th>\n",
       "      <td>BOS</td>\n",
       "      <td>7.269576</td>\n",
       "    </tr>\n",
       "    <tr>\n",
       "      <th>2</th>\n",
       "      <td>MIL</td>\n",
       "      <td>6.790412</td>\n",
       "    </tr>\n",
       "    <tr>\n",
       "      <th>3</th>\n",
       "      <td>UTA</td>\n",
       "      <td>6.402809</td>\n",
       "    </tr>\n",
       "    <tr>\n",
       "      <th>4</th>\n",
       "      <td>NOP</td>\n",
       "      <td>4.460182</td>\n",
       "    </tr>\n",
       "    <tr>\n",
       "      <th>5</th>\n",
       "      <td>LAL</td>\n",
       "      <td>3.780160</td>\n",
       "    </tr>\n",
       "    <tr>\n",
       "      <th>6</th>\n",
       "      <td>DEN</td>\n",
       "      <td>3.229698</td>\n",
       "    </tr>\n",
       "    <tr>\n",
       "      <th>7</th>\n",
       "      <td>NYK</td>\n",
       "      <td>1.801937</td>\n",
       "    </tr>\n",
       "    <tr>\n",
       "      <th>8</th>\n",
       "      <td>HOU</td>\n",
       "      <td>1.367544</td>\n",
       "    </tr>\n",
       "    <tr>\n",
       "      <th>9</th>\n",
       "      <td>PHI</td>\n",
       "      <td>1.204847</td>\n",
       "    </tr>\n",
       "  </tbody>\n",
       "</table>\n",
       "</div>"
      ],
      "text/plain": [
       "  team_abbreviation       TAR\n",
       "0               CLE  8.934780\n",
       "1               BOS  7.269576\n",
       "2               MIL  6.790412\n",
       "3               UTA  6.402809\n",
       "4               NOP  4.460182\n",
       "5               LAL  3.780160\n",
       "6               DEN  3.229698\n",
       "7               NYK  1.801937\n",
       "8               HOU  1.367544\n",
       "9               PHI  1.204847"
      ]
     },
     "execution_count": 409,
     "metadata": {},
     "output_type": "execute_result"
    }
   ],
   "source": [
    "tar.head(10)"
   ]
  },
  {
   "cell_type": "code",
   "execution_count": 410,
   "metadata": {
    "ExecuteTime": {
     "end_time": "2020-10-19T20:30:52.581130Z",
     "start_time": "2020-10-19T20:30:52.572819Z"
    }
   },
   "outputs": [
    {
     "data": {
      "text/html": [
       "<div>\n",
       "<style scoped>\n",
       "    .dataframe tbody tr th:only-of-type {\n",
       "        vertical-align: middle;\n",
       "    }\n",
       "\n",
       "    .dataframe tbody tr th {\n",
       "        vertical-align: top;\n",
       "    }\n",
       "\n",
       "    .dataframe thead th {\n",
       "        text-align: right;\n",
       "    }\n",
       "</style>\n",
       "<table border=\"1\" class=\"dataframe\">\n",
       "  <thead>\n",
       "    <tr style=\"text-align: right;\">\n",
       "      <th></th>\n",
       "      <th>team_abbreviation</th>\n",
       "      <th>TAAR</th>\n",
       "    </tr>\n",
       "  </thead>\n",
       "  <tbody>\n",
       "    <tr>\n",
       "      <th>0</th>\n",
       "      <td>BOS</td>\n",
       "      <td>9.641985</td>\n",
       "    </tr>\n",
       "    <tr>\n",
       "      <th>1</th>\n",
       "      <td>CLE</td>\n",
       "      <td>8.268791</td>\n",
       "    </tr>\n",
       "    <tr>\n",
       "      <th>2</th>\n",
       "      <td>MIL</td>\n",
       "      <td>7.250325</td>\n",
       "    </tr>\n",
       "    <tr>\n",
       "      <th>3</th>\n",
       "      <td>UTA</td>\n",
       "      <td>5.332562</td>\n",
       "    </tr>\n",
       "    <tr>\n",
       "      <th>4</th>\n",
       "      <td>NOP</td>\n",
       "      <td>4.764957</td>\n",
       "    </tr>\n",
       "    <tr>\n",
       "      <th>5</th>\n",
       "      <td>LAL</td>\n",
       "      <td>4.215293</td>\n",
       "    </tr>\n",
       "    <tr>\n",
       "      <th>6</th>\n",
       "      <td>HOU</td>\n",
       "      <td>2.503157</td>\n",
       "    </tr>\n",
       "    <tr>\n",
       "      <th>7</th>\n",
       "      <td>NYK</td>\n",
       "      <td>1.900509</td>\n",
       "    </tr>\n",
       "    <tr>\n",
       "      <th>8</th>\n",
       "      <td>DEN</td>\n",
       "      <td>1.745556</td>\n",
       "    </tr>\n",
       "    <tr>\n",
       "      <th>9</th>\n",
       "      <td>PHI</td>\n",
       "      <td>1.334542</td>\n",
       "    </tr>\n",
       "  </tbody>\n",
       "</table>\n",
       "</div>"
      ],
      "text/plain": [
       "  team_abbreviation      TAAR\n",
       "0               BOS  9.641985\n",
       "1               CLE  8.268791\n",
       "2               MIL  7.250325\n",
       "3               UTA  5.332562\n",
       "4               NOP  4.764957\n",
       "5               LAL  4.215293\n",
       "6               HOU  2.503157\n",
       "7               NYK  1.900509\n",
       "8               DEN  1.745556\n",
       "9               PHI  1.334542"
      ]
     },
     "execution_count": 410,
     "metadata": {},
     "output_type": "execute_result"
    }
   ],
   "source": [
    "taar.head(10)"
   ]
  },
  {
   "cell_type": "code",
   "execution_count": 422,
   "metadata": {
    "ExecuteTime": {
     "end_time": "2020-10-19T20:44:20.555686Z",
     "start_time": "2020-10-19T20:44:20.546548Z"
    }
   },
   "outputs": [
    {
     "data": {
      "text/html": [
       "<div>\n",
       "<style scoped>\n",
       "    .dataframe tbody tr th:only-of-type {\n",
       "        vertical-align: middle;\n",
       "    }\n",
       "\n",
       "    .dataframe tbody tr th {\n",
       "        vertical-align: top;\n",
       "    }\n",
       "\n",
       "    .dataframe thead th {\n",
       "        text-align: right;\n",
       "    }\n",
       "</style>\n",
       "<table border=\"1\" class=\"dataframe\">\n",
       "  <thead>\n",
       "    <tr style=\"text-align: right;\">\n",
       "      <th></th>\n",
       "      <th>team_abbreviation</th>\n",
       "      <th>PTAAR</th>\n",
       "    </tr>\n",
       "  </thead>\n",
       "  <tbody>\n",
       "    <tr>\n",
       "      <th>0</th>\n",
       "      <td>BOS</td>\n",
       "      <td>0.045038</td>\n",
       "    </tr>\n",
       "    <tr>\n",
       "      <th>1</th>\n",
       "      <td>CLE</td>\n",
       "      <td>0.035876</td>\n",
       "    </tr>\n",
       "    <tr>\n",
       "      <th>2</th>\n",
       "      <td>MIL</td>\n",
       "      <td>0.032854</td>\n",
       "    </tr>\n",
       "    <tr>\n",
       "      <th>3</th>\n",
       "      <td>UTA</td>\n",
       "      <td>0.025836</td>\n",
       "    </tr>\n",
       "    <tr>\n",
       "      <th>4</th>\n",
       "      <td>NOP</td>\n",
       "      <td>0.021743</td>\n",
       "    </tr>\n",
       "    <tr>\n",
       "      <th>5</th>\n",
       "      <td>LAL</td>\n",
       "      <td>0.017493</td>\n",
       "    </tr>\n",
       "    <tr>\n",
       "      <th>6</th>\n",
       "      <td>HOU</td>\n",
       "      <td>0.013532</td>\n",
       "    </tr>\n",
       "    <tr>\n",
       "      <th>7</th>\n",
       "      <td>NYK</td>\n",
       "      <td>0.009174</td>\n",
       "    </tr>\n",
       "    <tr>\n",
       "      <th>8</th>\n",
       "      <td>DEN</td>\n",
       "      <td>0.007707</td>\n",
       "    </tr>\n",
       "    <tr>\n",
       "      <th>9</th>\n",
       "      <td>MIN</td>\n",
       "      <td>0.006055</td>\n",
       "    </tr>\n",
       "  </tbody>\n",
       "</table>\n",
       "</div>"
      ],
      "text/plain": [
       "  team_abbreviation     PTAAR\n",
       "0               BOS  0.045038\n",
       "1               CLE  0.035876\n",
       "2               MIL  0.032854\n",
       "3               UTA  0.025836\n",
       "4               NOP  0.021743\n",
       "5               LAL  0.017493\n",
       "6               HOU  0.013532\n",
       "7               NYK  0.009174\n",
       "8               DEN  0.007707\n",
       "9               MIN  0.006055"
      ]
     },
     "execution_count": 422,
     "metadata": {},
     "output_type": "execute_result"
    }
   ],
   "source": [
    "ptaar.head(10)"
   ]
  },
  {
   "cell_type": "code",
   "execution_count": null,
   "metadata": {},
   "outputs": [],
   "source": []
  }
 ],
 "metadata": {
  "kernelspec": {
   "display_name": "nba_venv",
   "language": "python",
   "name": "nba_venv"
  },
  "language_info": {
   "codemirror_mode": {
    "name": "ipython",
    "version": 3
   },
   "file_extension": ".py",
   "mimetype": "text/x-python",
   "name": "python",
   "nbconvert_exporter": "python",
   "pygments_lexer": "ipython3",
   "version": "3.7.7"
  },
  "toc": {
   "base_numbering": 1,
   "nav_menu": {},
   "number_sections": true,
   "sideBar": true,
   "skip_h1_title": false,
   "title_cell": "Table of Contents",
   "title_sidebar": "Contents",
   "toc_cell": false,
   "toc_position": {},
   "toc_section_display": true,
   "toc_window_display": false
  }
 },
 "nbformat": 4,
 "nbformat_minor": 4
}
