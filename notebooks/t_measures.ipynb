{
 "cells": [
  {
   "cell_type": "markdown",
   "metadata": {},
   "source": [
    "# Early Improvements Thickness Above Replacement (TAR)\n",
    "### Table of Contents\n",
    "* [Section 1: Motivation](#motivation)\n",
    "    * [Standardizing TAR (STAR)](#star)\n",
    "* [Section 2: Thickness Above Adjusted Replacement (TAAR)](#taar)\n",
    "* [Section 3: Percent Thickness Above Adjusted Replacement (PTAAR)](#ptaar)\n",
    "* [Section 4: Standardized Thickness Above Adjusted Replacement (STAAR)](#staar)\n",
    "* [Section 5: Modifications on Metrics](#mods)\n",
    "    * [Comparison of STAR and STAAR](#comp)"
   ]
  },
  {
   "cell_type": "code",
   "execution_count": 728,
   "metadata": {
    "ExecuteTime": {
     "end_time": "2020-10-20T21:26:45.241758Z",
     "start_time": "2020-10-20T21:26:45.218347Z"
    }
   },
   "outputs": [],
   "source": [
    "import numpy as np\n",
    "import pandas as pd\n",
    "import pickle\n",
    "import matplotlib.pyplot as plt\n",
    "\n",
    "from sklearn.linear_model import LinearRegression\n",
    "from sklearn.preprocessing import PolynomialFeatures\n",
    "from sklearn.preprocessing import StandardScaler\n",
    "\n",
    "from nba_api.stats.endpoints import LeagueDashPlayerBioStats"
   ]
  },
  {
   "cell_type": "markdown",
   "metadata": {},
   "source": [
    "## Motivation <a class=\"anchor\" id=\"motivation\"></a>\n",
    "Reddit post [The Cleveland Cavaliers are Thick as Hell](https://www.reddit.com/r/nba/comments/jckli9/the_cleveland_cavaliers_are_thick_as_hell/) by u/cgilbert0812."
   ]
  },
  {
   "cell_type": "code",
   "execution_count": 276,
   "metadata": {
    "ExecuteTime": {
     "end_time": "2020-10-19T19:37:19.696275Z",
     "start_time": "2020-10-19T19:37:19.586943Z"
    }
   },
   "outputs": [],
   "source": [
    "bio = LeagueDashPlayerBioStats(season='2019-20').get_data_frames()[0]"
   ]
  },
  {
   "cell_type": "code",
   "execution_count": 685,
   "metadata": {
    "ExecuteTime": {
     "end_time": "2020-10-20T21:21:31.712547Z",
     "start_time": "2020-10-20T21:21:31.707361Z"
    },
    "scrolled": true
   },
   "outputs": [],
   "source": [
    "df = bio[['PLAYER_NAME', 'TEAM_ABBREVIATION', 'PLAYER_HEIGHT_INCHES', 'PLAYER_WEIGHT']].copy()\n",
    "df.columns = [ col.lower() for col in df.columns ]"
   ]
  },
  {
   "cell_type": "code",
   "execution_count": 686,
   "metadata": {
    "ExecuteTime": {
     "end_time": "2020-10-20T21:21:31.908369Z",
     "start_time": "2020-10-20T21:21:31.898677Z"
    }
   },
   "outputs": [
    {
     "data": {
      "text/html": [
       "<div>\n",
       "<style scoped>\n",
       "    .dataframe tbody tr th:only-of-type {\n",
       "        vertical-align: middle;\n",
       "    }\n",
       "\n",
       "    .dataframe tbody tr th {\n",
       "        vertical-align: top;\n",
       "    }\n",
       "\n",
       "    .dataframe thead th {\n",
       "        text-align: right;\n",
       "    }\n",
       "</style>\n",
       "<table border=\"1\" class=\"dataframe\">\n",
       "  <thead>\n",
       "    <tr style=\"text-align: right;\">\n",
       "      <th></th>\n",
       "      <th>player_name</th>\n",
       "      <th>team_abbreviation</th>\n",
       "      <th>player_height_inches</th>\n",
       "      <th>player_weight</th>\n",
       "    </tr>\n",
       "  </thead>\n",
       "  <tbody>\n",
       "    <tr>\n",
       "      <th>0</th>\n",
       "      <td>Aaron Gordon</td>\n",
       "      <td>ORL</td>\n",
       "      <td>80</td>\n",
       "      <td>235</td>\n",
       "    </tr>\n",
       "    <tr>\n",
       "      <th>1</th>\n",
       "      <td>Aaron Holiday</td>\n",
       "      <td>IND</td>\n",
       "      <td>72</td>\n",
       "      <td>185</td>\n",
       "    </tr>\n",
       "    <tr>\n",
       "      <th>2</th>\n",
       "      <td>Abdel Nader</td>\n",
       "      <td>OKC</td>\n",
       "      <td>77</td>\n",
       "      <td>225</td>\n",
       "    </tr>\n",
       "    <tr>\n",
       "      <th>3</th>\n",
       "      <td>Adam Mokoka</td>\n",
       "      <td>CHI</td>\n",
       "      <td>77</td>\n",
       "      <td>190</td>\n",
       "    </tr>\n",
       "    <tr>\n",
       "      <th>4</th>\n",
       "      <td>Admiral Schofield</td>\n",
       "      <td>WAS</td>\n",
       "      <td>77</td>\n",
       "      <td>241</td>\n",
       "    </tr>\n",
       "  </tbody>\n",
       "</table>\n",
       "</div>"
      ],
      "text/plain": [
       "         player_name team_abbreviation  player_height_inches player_weight\n",
       "0       Aaron Gordon               ORL                    80           235\n",
       "1      Aaron Holiday               IND                    72           185\n",
       "2        Abdel Nader               OKC                    77           225\n",
       "3        Adam Mokoka               CHI                    77           190\n",
       "4  Admiral Schofield               WAS                    77           241"
      ]
     },
     "execution_count": 686,
     "metadata": {},
     "output_type": "execute_result"
    }
   ],
   "source": [
    "df.head()"
   ]
  },
  {
   "cell_type": "code",
   "execution_count": 687,
   "metadata": {
    "ExecuteTime": {
     "end_time": "2020-10-20T21:21:32.137075Z",
     "start_time": "2020-10-20T21:21:32.133344Z"
    }
   },
   "outputs": [],
   "source": [
    "# Convert weight column to integers\n",
    "df['player_weight'] = df['player_weight'].astype('int')"
   ]
  },
  {
   "cell_type": "code",
   "execution_count": 688,
   "metadata": {
    "ExecuteTime": {
     "end_time": "2020-10-20T21:21:32.326400Z",
     "start_time": "2020-10-20T21:21:32.322188Z"
    }
   },
   "outputs": [],
   "source": [
    "# Height range\n",
    "h_range = np.arange(x.min(), x.max() + 1).reshape((-1,1))"
   ]
  },
  {
   "cell_type": "code",
   "execution_count": 689,
   "metadata": {
    "ExecuteTime": {
     "end_time": "2020-10-20T21:21:32.541652Z",
     "start_time": "2020-10-20T21:21:32.537733Z"
    },
    "scrolled": true
   },
   "outputs": [],
   "source": [
    "# Function to get average weight at each height value\n",
    "def get_avg(x):\n",
    "    average = df['player_weight'].loc[np.where(df['player_height_inches'] == x)].mean()\n",
    "    return average"
   ]
  },
  {
   "cell_type": "code",
   "execution_count": 690,
   "metadata": {
    "ExecuteTime": {
     "end_time": "2020-10-20T21:21:32.742816Z",
     "start_time": "2020-10-20T21:21:32.721579Z"
    }
   },
   "outputs": [],
   "source": [
    "# Dictionary for mapping player height -> average weight\n",
    "avg_weight = { int(h_range[i]): get_avg(int(h_range[i])) for i in range(len(h_range)) }"
   ]
  },
  {
   "cell_type": "code",
   "execution_count": 691,
   "metadata": {
    "ExecuteTime": {
     "end_time": "2020-10-20T21:21:32.912640Z",
     "start_time": "2020-10-20T21:21:32.905593Z"
    }
   },
   "outputs": [],
   "source": [
    "# Map dictionary\n",
    "df['avg_weight'] = df['player_height_inches'].map(avg_weight)\n",
    "\n",
    "# Add TAR column\n",
    "df['TAR'] = df['player_weight'] - df['avg_weight']"
   ]
  },
  {
   "cell_type": "markdown",
   "metadata": {},
   "source": [
    "### Standardizing TAR (STAR) <a class=\"anchor\" id=\"star\"></a>"
   ]
  },
  {
   "cell_type": "code",
   "execution_count": 692,
   "metadata": {
    "ExecuteTime": {
     "end_time": "2020-10-20T21:21:33.277067Z",
     "start_time": "2020-10-20T21:21:33.270986Z"
    }
   },
   "outputs": [],
   "source": [
    "scaler = StandardScaler()\n",
    "star = np.array(df['TAR']).reshape((-1,1))\n",
    "df['STAR'] = np.round(scaler.fit_transform(star), 4)"
   ]
  },
  {
   "cell_type": "markdown",
   "metadata": {},
   "source": [
    "## Thickness Above Adjusted Replacement (TAAR) <a class=\"anchor\" id=\"taar\"></a>\n",
    "**Issue:** Average player weight is not increasing as a function of height.  This could be a result of small sample size at each height.\n",
    "\n",
    "**Solution:** Adjusted average based on polynomial linear regression with TAAR."
   ]
  },
  {
   "cell_type": "code",
   "execution_count": 693,
   "metadata": {
    "ExecuteTime": {
     "end_time": "2020-10-20T21:21:33.828576Z",
     "start_time": "2020-10-20T21:21:33.607321Z"
    }
   },
   "outputs": [
    {
     "data": {
      "image/png": "[encoded data removed]",
      "text/plain": [
       "<Figure size 432x288 with 1 Axes>"
      ]
     },
     "metadata": {
      "needs_background": "light"
     },
     "output_type": "display_data"
    }
   ],
   "source": [
    "plt.plot(h_range, avg_weight.values())\n",
    "plt.title('Simple Average')\n",
    "plt.show()"
   ]
  },
  {
   "cell_type": "code",
   "execution_count": 694,
   "metadata": {
    "ExecuteTime": {
     "end_time": "2020-10-20T21:21:33.834904Z",
     "start_time": "2020-10-20T21:21:33.831154Z"
    }
   },
   "outputs": [],
   "source": [
    "x = np.array(df['player_height_inches']).reshape((-1,1))\n",
    "y = df['player_weight']"
   ]
  },
  {
   "cell_type": "code",
   "execution_count": 695,
   "metadata": {
    "ExecuteTime": {
     "end_time": "2020-10-20T21:21:33.917357Z",
     "start_time": "2020-10-20T21:21:33.913645Z"
    }
   },
   "outputs": [],
   "source": [
    "# Simple linear model of weight as a function of height\n",
    "model = LinearRegression().fit(x, y)"
   ]
  },
  {
   "cell_type": "code",
   "execution_count": 696,
   "metadata": {
    "ExecuteTime": {
     "end_time": "2020-10-20T21:21:34.303541Z",
     "start_time": "2020-10-20T21:21:34.066998Z"
    }
   },
   "outputs": [
    {
     "data": {
      "image/png": "[encoded data removed]",
      "text/plain": [
       "<Figure size 432x288 with 1 Axes>"
      ]
     },
     "metadata": {
      "needs_background": "light"
     },
     "output_type": "display_data"
    }
   ],
   "source": [
    "l_preds = model.predict(h_range)\n",
    "plt.plot(h_range, l_preds)\n",
    "plt.title('Standard Linear Regression')\n",
    "plt.show()"
   ]
  },
  {
   "cell_type": "code",
   "execution_count": 697,
   "metadata": {
    "ExecuteTime": {
     "end_time": "2020-10-20T21:21:34.310247Z",
     "start_time": "2020-10-20T21:21:34.306368Z"
    }
   },
   "outputs": [],
   "source": [
    "transformer = PolynomialFeatures(degree=2)\n",
    "X = transformer.fit_transform(x)"
   ]
  },
  {
   "cell_type": "code",
   "execution_count": 698,
   "metadata": {
    "ExecuteTime": {
     "end_time": "2020-10-20T21:21:34.377220Z",
     "start_time": "2020-10-20T21:21:34.373122Z"
    }
   },
   "outputs": [],
   "source": [
    "# Polynomial model\n",
    "model = LinearRegression().fit(X, y)"
   ]
  },
  {
   "cell_type": "code",
   "execution_count": 699,
   "metadata": {
    "ExecuteTime": {
     "end_time": "2020-10-20T21:21:34.561883Z",
     "start_time": "2020-10-20T21:21:34.558559Z"
    }
   },
   "outputs": [],
   "source": [
    "X_ = transformer.transform(h_range.reshape((-1,1)))\n",
    "p_preds = model.predict(X_)"
   ]
  },
  {
   "cell_type": "code",
   "execution_count": 700,
   "metadata": {
    "ExecuteTime": {
     "end_time": "2020-10-20T21:21:34.990776Z",
     "start_time": "2020-10-20T21:21:34.763625Z"
    }
   },
   "outputs": [
    {
     "data": {
      "image/png": "[encoded data removed]",
      "text/plain": [
       "<Figure size 432x288 with 1 Axes>"
      ]
     },
     "metadata": {
      "needs_background": "light"
     },
     "output_type": "display_data"
    }
   ],
   "source": [
    "plt.plot(h_range, p_preds)\n",
    "plt.title('Polynomial Feature Regression')\n",
    "plt.show()"
   ]
  },
  {
   "cell_type": "code",
   "execution_count": 701,
   "metadata": {
    "ExecuteTime": {
     "end_time": "2020-10-20T21:21:34.996175Z",
     "start_time": "2020-10-20T21:21:34.993150Z"
    }
   },
   "outputs": [],
   "source": [
    "# Creating dictionary from polynomial model\n",
    "reg = { int(h_range[i]): preds[i] for i in range(len(h_range)) }"
   ]
  },
  {
   "cell_type": "code",
   "execution_count": 702,
   "metadata": {
    "ExecuteTime": {
     "end_time": "2020-10-20T21:21:35.090501Z",
     "start_time": "2020-10-20T21:21:35.083734Z"
    }
   },
   "outputs": [],
   "source": [
    "# Create a predicted weight\n",
    "df['predicted_weight'] = df['player_height_inches'].map(lambda x: reg[x])\n",
    "\n",
    "# Add column for difference between \"adjusted average\"\n",
    "df['TAAR'] = df['player_weight'] - df['predicted_weight']"
   ]
  },
  {
   "cell_type": "code",
   "execution_count": 703,
   "metadata": {
    "ExecuteTime": {
     "end_time": "2020-10-20T21:21:35.261357Z",
     "start_time": "2020-10-20T21:21:35.245692Z"
    }
   },
   "outputs": [
    {
     "data": {
      "text/html": [
       "<div>\n",
       "<style scoped>\n",
       "    .dataframe tbody tr th:only-of-type {\n",
       "        vertical-align: middle;\n",
       "    }\n",
       "\n",
       "    .dataframe tbody tr th {\n",
       "        vertical-align: top;\n",
       "    }\n",
       "\n",
       "    .dataframe thead th {\n",
       "        text-align: right;\n",
       "    }\n",
       "</style>\n",
       "<table border=\"1\" class=\"dataframe\">\n",
       "  <thead>\n",
       "    <tr style=\"text-align: right;\">\n",
       "      <th></th>\n",
       "      <th>player_name</th>\n",
       "      <th>team_abbreviation</th>\n",
       "      <th>player_height_inches</th>\n",
       "      <th>player_weight</th>\n",
       "      <th>avg_weight</th>\n",
       "      <th>TAR</th>\n",
       "      <th>STAR</th>\n",
       "      <th>predicted_weight</th>\n",
       "      <th>TAAR</th>\n",
       "    </tr>\n",
       "  </thead>\n",
       "  <tbody>\n",
       "    <tr>\n",
       "      <th>0</th>\n",
       "      <td>Aaron Gordon</td>\n",
       "      <td>ORL</td>\n",
       "      <td>80</td>\n",
       "      <td>235</td>\n",
       "      <td>226.568966</td>\n",
       "      <td>8.431034</td>\n",
       "      <td>0.5741</td>\n",
       "      <td>225.834053</td>\n",
       "      <td>9.165947</td>\n",
       "    </tr>\n",
       "    <tr>\n",
       "      <th>1</th>\n",
       "      <td>Aaron Holiday</td>\n",
       "      <td>IND</td>\n",
       "      <td>72</td>\n",
       "      <td>185</td>\n",
       "      <td>182.428571</td>\n",
       "      <td>2.571429</td>\n",
       "      <td>0.1751</td>\n",
       "      <td>184.390905</td>\n",
       "      <td>0.609095</td>\n",
       "    </tr>\n",
       "    <tr>\n",
       "      <th>2</th>\n",
       "      <td>Abdel Nader</td>\n",
       "      <td>OKC</td>\n",
       "      <td>77</td>\n",
       "      <td>225</td>\n",
       "      <td>209.079365</td>\n",
       "      <td>15.920635</td>\n",
       "      <td>1.0840</td>\n",
       "      <td>209.198190</td>\n",
       "      <td>15.801810</td>\n",
       "    </tr>\n",
       "    <tr>\n",
       "      <th>3</th>\n",
       "      <td>Adam Mokoka</td>\n",
       "      <td>CHI</td>\n",
       "      <td>77</td>\n",
       "      <td>190</td>\n",
       "      <td>209.079365</td>\n",
       "      <td>-19.079365</td>\n",
       "      <td>-1.2991</td>\n",
       "      <td>209.198190</td>\n",
       "      <td>-19.198190</td>\n",
       "    </tr>\n",
       "    <tr>\n",
       "      <th>4</th>\n",
       "      <td>Admiral Schofield</td>\n",
       "      <td>WAS</td>\n",
       "      <td>77</td>\n",
       "      <td>241</td>\n",
       "      <td>209.079365</td>\n",
       "      <td>31.920635</td>\n",
       "      <td>2.1735</td>\n",
       "      <td>209.198190</td>\n",
       "      <td>31.801810</td>\n",
       "    </tr>\n",
       "  </tbody>\n",
       "</table>\n",
       "</div>"
      ],
      "text/plain": [
       "         player_name team_abbreviation  player_height_inches  player_weight  \\\n",
       "0       Aaron Gordon               ORL                    80            235   \n",
       "1      Aaron Holiday               IND                    72            185   \n",
       "2        Abdel Nader               OKC                    77            225   \n",
       "3        Adam Mokoka               CHI                    77            190   \n",
       "4  Admiral Schofield               WAS                    77            241   \n",
       "\n",
       "   avg_weight        TAR    STAR  predicted_weight       TAAR  \n",
       "0  226.568966   8.431034  0.5741        225.834053   9.165947  \n",
       "1  182.428571   2.571429  0.1751        184.390905   0.609095  \n",
       "2  209.079365  15.920635  1.0840        209.198190  15.801810  \n",
       "3  209.079365 -19.079365 -1.2991        209.198190 -19.198190  \n",
       "4  209.079365  31.920635  2.1735        209.198190  31.801810  "
      ]
     },
     "execution_count": 703,
     "metadata": {},
     "output_type": "execute_result"
    }
   ],
   "source": [
    "df.head()"
   ]
  },
  {
   "cell_type": "code",
   "execution_count": 704,
   "metadata": {
    "ExecuteTime": {
     "end_time": "2020-10-20T21:21:35.752087Z",
     "start_time": "2020-10-20T21:21:35.412695Z"
    }
   },
   "outputs": [
    {
     "data": {
      "image/png": "[encoded data removed]",
      "text/plain": [
       "<Figure size 432x288 with 1 Axes>"
      ]
     },
     "metadata": {
      "needs_background": "light"
     },
     "output_type": "display_data"
    }
   ],
   "source": [
    "plt.plot(h_range, avg_weight.values(), h_range, p_preds, h_range, l_preds)\n",
    "plt.title('Average (A) vs. Adjusted Average (AA) vs. Simple Linear (SL)')\n",
    "plt.xlabel('Height (inches)')\n",
    "plt.ylabel('Weight (lbs.)')\n",
    "\n",
    "labels = ['A', 'AA', 'SL']\n",
    "plt.legend(labels)\n",
    "\n",
    "plt.show()"
   ]
  },
  {
   "cell_type": "markdown",
   "metadata": {},
   "source": [
    "#### Note:\n",
    "Small sample size under/over penalized players at certain heights"
   ]
  },
  {
   "cell_type": "code",
   "execution_count": 705,
   "metadata": {
    "ExecuteTime": {
     "end_time": "2020-10-20T21:21:35.865434Z",
     "start_time": "2020-10-20T21:21:35.844098Z"
    }
   },
   "outputs": [
    {
     "data": {
      "text/html": [
       "<div>\n",
       "<style scoped>\n",
       "    .dataframe tbody tr th:only-of-type {\n",
       "        vertical-align: middle;\n",
       "    }\n",
       "\n",
       "    .dataframe tbody tr th {\n",
       "        vertical-align: top;\n",
       "    }\n",
       "\n",
       "    .dataframe thead th {\n",
       "        text-align: right;\n",
       "    }\n",
       "</style>\n",
       "<table border=\"1\" class=\"dataframe\">\n",
       "  <thead>\n",
       "    <tr style=\"text-align: right;\">\n",
       "      <th></th>\n",
       "      <th>player_name</th>\n",
       "      <th>team_abbreviation</th>\n",
       "      <th>player_height_inches</th>\n",
       "      <th>player_weight</th>\n",
       "      <th>avg_weight</th>\n",
       "      <th>TAR</th>\n",
       "      <th>STAR</th>\n",
       "      <th>predicted_weight</th>\n",
       "      <th>TAAR</th>\n",
       "    </tr>\n",
       "  </thead>\n",
       "  <tbody>\n",
       "    <tr>\n",
       "      <th>213</th>\n",
       "      <td>Jakob Poeltl</td>\n",
       "      <td>SAS</td>\n",
       "      <td>85</td>\n",
       "      <td>245</td>\n",
       "      <td>251.5</td>\n",
       "      <td>-6.5</td>\n",
       "      <td>-0.4426</td>\n",
       "      <td>256.479642</td>\n",
       "      <td>-11.479642</td>\n",
       "    </tr>\n",
       "    <tr>\n",
       "      <th>436</th>\n",
       "      <td>Rudy Gobert</td>\n",
       "      <td>UTA</td>\n",
       "      <td>85</td>\n",
       "      <td>258</td>\n",
       "      <td>251.5</td>\n",
       "      <td>6.5</td>\n",
       "      <td>0.4426</td>\n",
       "      <td>256.479642</td>\n",
       "      <td>1.520358</td>\n",
       "    </tr>\n",
       "  </tbody>\n",
       "</table>\n",
       "</div>"
      ],
      "text/plain": [
       "      player_name team_abbreviation  player_height_inches  player_weight  \\\n",
       "213  Jakob Poeltl               SAS                    85            245   \n",
       "436   Rudy Gobert               UTA                    85            258   \n",
       "\n",
       "     avg_weight  TAR    STAR  predicted_weight       TAAR  \n",
       "213       251.5 -6.5 -0.4426        256.479642 -11.479642  \n",
       "436       251.5  6.5  0.4426        256.479642   1.520358  "
      ]
     },
     "execution_count": 705,
     "metadata": {},
     "output_type": "execute_result"
    }
   ],
   "source": [
    "df.loc[df['player_height_inches'] == 85]"
   ]
  },
  {
   "cell_type": "code",
   "execution_count": 706,
   "metadata": {
    "ExecuteTime": {
     "end_time": "2020-10-20T21:21:36.079954Z",
     "start_time": "2020-10-20T21:21:36.063813Z"
    }
   },
   "outputs": [
    {
     "data": {
      "text/html": [
       "<div>\n",
       "<style scoped>\n",
       "    .dataframe tbody tr th:only-of-type {\n",
       "        vertical-align: middle;\n",
       "    }\n",
       "\n",
       "    .dataframe tbody tr th {\n",
       "        vertical-align: top;\n",
       "    }\n",
       "\n",
       "    .dataframe thead th {\n",
       "        text-align: right;\n",
       "    }\n",
       "</style>\n",
       "<table border=\"1\" class=\"dataframe\">\n",
       "  <thead>\n",
       "    <tr style=\"text-align: right;\">\n",
       "      <th></th>\n",
       "      <th>player_name</th>\n",
       "      <th>team_abbreviation</th>\n",
       "      <th>player_height_inches</th>\n",
       "      <th>player_weight</th>\n",
       "      <th>avg_weight</th>\n",
       "      <th>TAR</th>\n",
       "      <th>STAR</th>\n",
       "      <th>predicted_weight</th>\n",
       "      <th>TAAR</th>\n",
       "    </tr>\n",
       "  </thead>\n",
       "  <tbody>\n",
       "    <tr>\n",
       "      <th>26</th>\n",
       "      <td>Anzejs Pasecniks</td>\n",
       "      <td>WAS</td>\n",
       "      <td>86</td>\n",
       "      <td>229</td>\n",
       "      <td>236.0</td>\n",
       "      <td>-7.0</td>\n",
       "      <td>-0.4766</td>\n",
       "      <td>263.046632</td>\n",
       "      <td>-34.046632</td>\n",
       "    </tr>\n",
       "    <tr>\n",
       "      <th>40</th>\n",
       "      <td>Bol Bol</td>\n",
       "      <td>DEN</td>\n",
       "      <td>86</td>\n",
       "      <td>220</td>\n",
       "      <td>236.0</td>\n",
       "      <td>-16.0</td>\n",
       "      <td>-1.0894</td>\n",
       "      <td>263.046632</td>\n",
       "      <td>-43.046632</td>\n",
       "    </tr>\n",
       "    <tr>\n",
       "      <th>337</th>\n",
       "      <td>Luke Kornet</td>\n",
       "      <td>CHI</td>\n",
       "      <td>86</td>\n",
       "      <td>250</td>\n",
       "      <td>236.0</td>\n",
       "      <td>14.0</td>\n",
       "      <td>0.9533</td>\n",
       "      <td>263.046632</td>\n",
       "      <td>-13.046632</td>\n",
       "    </tr>\n",
       "    <tr>\n",
       "      <th>382</th>\n",
       "      <td>Moses Brown</td>\n",
       "      <td>POR</td>\n",
       "      <td>86</td>\n",
       "      <td>245</td>\n",
       "      <td>236.0</td>\n",
       "      <td>9.0</td>\n",
       "      <td>0.6128</td>\n",
       "      <td>263.046632</td>\n",
       "      <td>-18.046632</td>\n",
       "    </tr>\n",
       "  </tbody>\n",
       "</table>\n",
       "</div>"
      ],
      "text/plain": [
       "          player_name team_abbreviation  player_height_inches  player_weight  \\\n",
       "26   Anzejs Pasecniks               WAS                    86            229   \n",
       "40            Bol Bol               DEN                    86            220   \n",
       "337       Luke Kornet               CHI                    86            250   \n",
       "382       Moses Brown               POR                    86            245   \n",
       "\n",
       "     avg_weight   TAR    STAR  predicted_weight       TAAR  \n",
       "26        236.0  -7.0 -0.4766        263.046632 -34.046632  \n",
       "40        236.0 -16.0 -1.0894        263.046632 -43.046632  \n",
       "337       236.0  14.0  0.9533        263.046632 -13.046632  \n",
       "382       236.0   9.0  0.6128        263.046632 -18.046632  "
      ]
     },
     "execution_count": 706,
     "metadata": {},
     "output_type": "execute_result"
    }
   ],
   "source": [
    "df.loc[df['player_height_inches'] == 86]"
   ]
  },
  {
   "cell_type": "markdown",
   "metadata": {
    "ExecuteTime": {
     "end_time": "2020-10-19T20:33:26.922377Z",
     "start_time": "2020-10-19T20:33:26.902751Z"
    }
   },
   "source": [
    "## Percent Thickness Above Adjusted Replacement (PTAAR) <a class=\"anchor\" id=\"ptaar\"></a>\n",
    "**Issue:** 10 lbs. extra on a 6' player is not equivalent to 10 lbs. extra on a 7' player.\n",
    "\n",
    "**Solution:** TAAR / predicted player weight"
   ]
  },
  {
   "cell_type": "code",
   "execution_count": 707,
   "metadata": {
    "ExecuteTime": {
     "end_time": "2020-10-20T21:21:36.496474Z",
     "start_time": "2020-10-20T21:21:36.492645Z"
    }
   },
   "outputs": [],
   "source": [
    "df['PTAAR'] = df['TAAR'] / df['predicted_weight']"
   ]
  },
  {
   "cell_type": "code",
   "execution_count": 708,
   "metadata": {
    "ExecuteTime": {
     "end_time": "2020-10-20T21:21:36.717316Z",
     "start_time": "2020-10-20T21:21:36.699434Z"
    }
   },
   "outputs": [
    {
     "data": {
      "text/html": [
       "<div>\n",
       "<style scoped>\n",
       "    .dataframe tbody tr th:only-of-type {\n",
       "        vertical-align: middle;\n",
       "    }\n",
       "\n",
       "    .dataframe tbody tr th {\n",
       "        vertical-align: top;\n",
       "    }\n",
       "\n",
       "    .dataframe thead th {\n",
       "        text-align: right;\n",
       "    }\n",
       "</style>\n",
       "<table border=\"1\" class=\"dataframe\">\n",
       "  <thead>\n",
       "    <tr style=\"text-align: right;\">\n",
       "      <th></th>\n",
       "      <th>player_name</th>\n",
       "      <th>team_abbreviation</th>\n",
       "      <th>player_height_inches</th>\n",
       "      <th>player_weight</th>\n",
       "      <th>avg_weight</th>\n",
       "      <th>TAR</th>\n",
       "      <th>STAR</th>\n",
       "      <th>predicted_weight</th>\n",
       "      <th>TAAR</th>\n",
       "      <th>PTAAR</th>\n",
       "    </tr>\n",
       "  </thead>\n",
       "  <tbody>\n",
       "    <tr>\n",
       "      <th>527</th>\n",
       "      <td>Zion Williamson</td>\n",
       "      <td>NOP</td>\n",
       "      <td>78</td>\n",
       "      <td>284</td>\n",
       "      <td>216.839286</td>\n",
       "      <td>67.160714</td>\n",
       "      <td>4.5729</td>\n",
       "      <td>214.597520</td>\n",
       "      <td>69.402480</td>\n",
       "      <td>0.323408</td>\n",
       "    </tr>\n",
       "    <tr>\n",
       "      <th>17</th>\n",
       "      <td>Andre Drummond</td>\n",
       "      <td>CLE</td>\n",
       "      <td>82</td>\n",
       "      <td>279</td>\n",
       "      <td>237.804878</td>\n",
       "      <td>41.195122</td>\n",
       "      <td>2.8049</td>\n",
       "      <td>237.654415</td>\n",
       "      <td>41.345585</td>\n",
       "      <td>0.173974</td>\n",
       "    </tr>\n",
       "    <tr>\n",
       "      <th>226</th>\n",
       "      <td>Jarrell Brantley</td>\n",
       "      <td>UTA</td>\n",
       "      <td>77</td>\n",
       "      <td>250</td>\n",
       "      <td>209.079365</td>\n",
       "      <td>40.920635</td>\n",
       "      <td>2.7863</td>\n",
       "      <td>209.198190</td>\n",
       "      <td>40.801810</td>\n",
       "      <td>0.195039</td>\n",
       "    </tr>\n",
       "    <tr>\n",
       "      <th>414</th>\n",
       "      <td>Paul Millsap</td>\n",
       "      <td>DEN</td>\n",
       "      <td>79</td>\n",
       "      <td>257</td>\n",
       "      <td>216.274510</td>\n",
       "      <td>40.725490</td>\n",
       "      <td>2.7730</td>\n",
       "      <td>220.142808</td>\n",
       "      <td>36.857192</td>\n",
       "      <td>0.167424</td>\n",
       "    </tr>\n",
       "    <tr>\n",
       "      <th>159</th>\n",
       "      <td>Eric Paschall</td>\n",
       "      <td>GSW</td>\n",
       "      <td>78</td>\n",
       "      <td>255</td>\n",
       "      <td>216.839286</td>\n",
       "      <td>38.160714</td>\n",
       "      <td>2.5983</td>\n",
       "      <td>214.597520</td>\n",
       "      <td>40.402480</td>\n",
       "      <td>0.188271</td>\n",
       "    </tr>\n",
       "  </tbody>\n",
       "</table>\n",
       "</div>"
      ],
      "text/plain": [
       "          player_name team_abbreviation  player_height_inches  player_weight  \\\n",
       "527   Zion Williamson               NOP                    78            284   \n",
       "17     Andre Drummond               CLE                    82            279   \n",
       "226  Jarrell Brantley               UTA                    77            250   \n",
       "414      Paul Millsap               DEN                    79            257   \n",
       "159     Eric Paschall               GSW                    78            255   \n",
       "\n",
       "     avg_weight        TAR    STAR  predicted_weight       TAAR     PTAAR  \n",
       "527  216.839286  67.160714  4.5729        214.597520  69.402480  0.323408  \n",
       "17   237.804878  41.195122  2.8049        237.654415  41.345585  0.173974  \n",
       "226  209.079365  40.920635  2.7863        209.198190  40.801810  0.195039  \n",
       "414  216.274510  40.725490  2.7730        220.142808  36.857192  0.167424  \n",
       "159  216.839286  38.160714  2.5983        214.597520  40.402480  0.188271  "
      ]
     },
     "execution_count": 708,
     "metadata": {},
     "output_type": "execute_result"
    }
   ],
   "source": [
    "df.sort_values('TAR', ascending=False).head()"
   ]
  },
  {
   "cell_type": "code",
   "execution_count": 709,
   "metadata": {
    "ExecuteTime": {
     "end_time": "2020-10-20T21:21:36.968011Z",
     "start_time": "2020-10-20T21:21:36.951121Z"
    }
   },
   "outputs": [
    {
     "data": {
      "text/html": [
       "<div>\n",
       "<style scoped>\n",
       "    .dataframe tbody tr th:only-of-type {\n",
       "        vertical-align: middle;\n",
       "    }\n",
       "\n",
       "    .dataframe tbody tr th {\n",
       "        vertical-align: top;\n",
       "    }\n",
       "\n",
       "    .dataframe thead th {\n",
       "        text-align: right;\n",
       "    }\n",
       "</style>\n",
       "<table border=\"1\" class=\"dataframe\">\n",
       "  <thead>\n",
       "    <tr style=\"text-align: right;\">\n",
       "      <th></th>\n",
       "      <th>player_name</th>\n",
       "      <th>team_abbreviation</th>\n",
       "      <th>player_height_inches</th>\n",
       "      <th>player_weight</th>\n",
       "      <th>avg_weight</th>\n",
       "      <th>TAR</th>\n",
       "      <th>STAR</th>\n",
       "      <th>predicted_weight</th>\n",
       "      <th>TAAR</th>\n",
       "      <th>PTAAR</th>\n",
       "    </tr>\n",
       "  </thead>\n",
       "  <tbody>\n",
       "    <tr>\n",
       "      <th>527</th>\n",
       "      <td>Zion Williamson</td>\n",
       "      <td>NOP</td>\n",
       "      <td>78</td>\n",
       "      <td>284</td>\n",
       "      <td>216.839286</td>\n",
       "      <td>67.160714</td>\n",
       "      <td>4.5729</td>\n",
       "      <td>214.597520</td>\n",
       "      <td>69.402480</td>\n",
       "      <td>0.323408</td>\n",
       "    </tr>\n",
       "    <tr>\n",
       "      <th>17</th>\n",
       "      <td>Andre Drummond</td>\n",
       "      <td>CLE</td>\n",
       "      <td>82</td>\n",
       "      <td>279</td>\n",
       "      <td>237.804878</td>\n",
       "      <td>41.195122</td>\n",
       "      <td>2.8049</td>\n",
       "      <td>237.654415</td>\n",
       "      <td>41.345585</td>\n",
       "      <td>0.173974</td>\n",
       "    </tr>\n",
       "    <tr>\n",
       "      <th>226</th>\n",
       "      <td>Jarrell Brantley</td>\n",
       "      <td>UTA</td>\n",
       "      <td>77</td>\n",
       "      <td>250</td>\n",
       "      <td>209.079365</td>\n",
       "      <td>40.920635</td>\n",
       "      <td>2.7863</td>\n",
       "      <td>209.198190</td>\n",
       "      <td>40.801810</td>\n",
       "      <td>0.195039</td>\n",
       "    </tr>\n",
       "    <tr>\n",
       "      <th>159</th>\n",
       "      <td>Eric Paschall</td>\n",
       "      <td>GSW</td>\n",
       "      <td>78</td>\n",
       "      <td>255</td>\n",
       "      <td>216.839286</td>\n",
       "      <td>38.160714</td>\n",
       "      <td>2.5983</td>\n",
       "      <td>214.597520</td>\n",
       "      <td>40.402480</td>\n",
       "      <td>0.188271</td>\n",
       "    </tr>\n",
       "    <tr>\n",
       "      <th>284</th>\n",
       "      <td>Jusuf Nurkic</td>\n",
       "      <td>POR</td>\n",
       "      <td>84</td>\n",
       "      <td>290</td>\n",
       "      <td>252.304348</td>\n",
       "      <td>37.695652</td>\n",
       "      <td>2.5667</td>\n",
       "      <td>250.058609</td>\n",
       "      <td>39.941391</td>\n",
       "      <td>0.159728</td>\n",
       "    </tr>\n",
       "  </tbody>\n",
       "</table>\n",
       "</div>"
      ],
      "text/plain": [
       "          player_name team_abbreviation  player_height_inches  player_weight  \\\n",
       "527   Zion Williamson               NOP                    78            284   \n",
       "17     Andre Drummond               CLE                    82            279   \n",
       "226  Jarrell Brantley               UTA                    77            250   \n",
       "159     Eric Paschall               GSW                    78            255   \n",
       "284      Jusuf Nurkic               POR                    84            290   \n",
       "\n",
       "     avg_weight        TAR    STAR  predicted_weight       TAAR     PTAAR  \n",
       "527  216.839286  67.160714  4.5729        214.597520  69.402480  0.323408  \n",
       "17   237.804878  41.195122  2.8049        237.654415  41.345585  0.173974  \n",
       "226  209.079365  40.920635  2.7863        209.198190  40.801810  0.195039  \n",
       "159  216.839286  38.160714  2.5983        214.597520  40.402480  0.188271  \n",
       "284  252.304348  37.695652  2.5667        250.058609  39.941391  0.159728  "
      ]
     },
     "execution_count": 709,
     "metadata": {},
     "output_type": "execute_result"
    }
   ],
   "source": [
    "df.sort_values('TAAR', ascending=False).head()"
   ]
  },
  {
   "cell_type": "code",
   "execution_count": 710,
   "metadata": {
    "ExecuteTime": {
     "end_time": "2020-10-20T21:21:37.188373Z",
     "start_time": "2020-10-20T21:21:37.171513Z"
    }
   },
   "outputs": [
    {
     "data": {
      "text/html": [
       "<div>\n",
       "<style scoped>\n",
       "    .dataframe tbody tr th:only-of-type {\n",
       "        vertical-align: middle;\n",
       "    }\n",
       "\n",
       "    .dataframe tbody tr th {\n",
       "        vertical-align: top;\n",
       "    }\n",
       "\n",
       "    .dataframe thead th {\n",
       "        text-align: right;\n",
       "    }\n",
       "</style>\n",
       "<table border=\"1\" class=\"dataframe\">\n",
       "  <thead>\n",
       "    <tr style=\"text-align: right;\">\n",
       "      <th></th>\n",
       "      <th>player_name</th>\n",
       "      <th>team_abbreviation</th>\n",
       "      <th>player_height_inches</th>\n",
       "      <th>player_weight</th>\n",
       "      <th>avg_weight</th>\n",
       "      <th>TAR</th>\n",
       "      <th>STAR</th>\n",
       "      <th>predicted_weight</th>\n",
       "      <th>TAAR</th>\n",
       "      <th>PTAAR</th>\n",
       "    </tr>\n",
       "  </thead>\n",
       "  <tbody>\n",
       "    <tr>\n",
       "      <th>527</th>\n",
       "      <td>Zion Williamson</td>\n",
       "      <td>NOP</td>\n",
       "      <td>78</td>\n",
       "      <td>284</td>\n",
       "      <td>216.839286</td>\n",
       "      <td>67.160714</td>\n",
       "      <td>4.5729</td>\n",
       "      <td>214.597520</td>\n",
       "      <td>69.402480</td>\n",
       "      <td>0.323408</td>\n",
       "    </tr>\n",
       "    <tr>\n",
       "      <th>226</th>\n",
       "      <td>Jarrell Brantley</td>\n",
       "      <td>UTA</td>\n",
       "      <td>77</td>\n",
       "      <td>250</td>\n",
       "      <td>209.079365</td>\n",
       "      <td>40.920635</td>\n",
       "      <td>2.7863</td>\n",
       "      <td>209.198190</td>\n",
       "      <td>40.801810</td>\n",
       "      <td>0.195039</td>\n",
       "    </tr>\n",
       "    <tr>\n",
       "      <th>159</th>\n",
       "      <td>Eric Paschall</td>\n",
       "      <td>GSW</td>\n",
       "      <td>78</td>\n",
       "      <td>255</td>\n",
       "      <td>216.839286</td>\n",
       "      <td>38.160714</td>\n",
       "      <td>2.5983</td>\n",
       "      <td>214.597520</td>\n",
       "      <td>40.402480</td>\n",
       "      <td>0.188271</td>\n",
       "    </tr>\n",
       "    <tr>\n",
       "      <th>120</th>\n",
       "      <td>Deonte Burton</td>\n",
       "      <td>OKC</td>\n",
       "      <td>76</td>\n",
       "      <td>240</td>\n",
       "      <td>203.833333</td>\n",
       "      <td>36.166667</td>\n",
       "      <td>2.4626</td>\n",
       "      <td>203.944818</td>\n",
       "      <td>36.055182</td>\n",
       "      <td>0.176789</td>\n",
       "    </tr>\n",
       "    <tr>\n",
       "      <th>17</th>\n",
       "      <td>Andre Drummond</td>\n",
       "      <td>CLE</td>\n",
       "      <td>82</td>\n",
       "      <td>279</td>\n",
       "      <td>237.804878</td>\n",
       "      <td>41.195122</td>\n",
       "      <td>2.8049</td>\n",
       "      <td>237.654415</td>\n",
       "      <td>41.345585</td>\n",
       "      <td>0.173974</td>\n",
       "    </tr>\n",
       "  </tbody>\n",
       "</table>\n",
       "</div>"
      ],
      "text/plain": [
       "          player_name team_abbreviation  player_height_inches  player_weight  \\\n",
       "527   Zion Williamson               NOP                    78            284   \n",
       "226  Jarrell Brantley               UTA                    77            250   \n",
       "159     Eric Paschall               GSW                    78            255   \n",
       "120     Deonte Burton               OKC                    76            240   \n",
       "17     Andre Drummond               CLE                    82            279   \n",
       "\n",
       "     avg_weight        TAR    STAR  predicted_weight       TAAR     PTAAR  \n",
       "527  216.839286  67.160714  4.5729        214.597520  69.402480  0.323408  \n",
       "226  209.079365  40.920635  2.7863        209.198190  40.801810  0.195039  \n",
       "159  216.839286  38.160714  2.5983        214.597520  40.402480  0.188271  \n",
       "120  203.833333  36.166667  2.4626        203.944818  36.055182  0.176789  \n",
       "17   237.804878  41.195122  2.8049        237.654415  41.345585  0.173974  "
      ]
     },
     "execution_count": 710,
     "metadata": {},
     "output_type": "execute_result"
    }
   ],
   "source": [
    "df.sort_values('PTAAR', ascending=False).head()"
   ]
  },
  {
   "cell_type": "markdown",
   "metadata": {},
   "source": [
    "## Standardized Thickness Above Adjusted Replacement (STAAR) <a class=\"anchor\" id=\"staar\"></a>\n",
    "**Issue:** Values are not standardized.\n",
    "\n",
    "**Solution:** Standardize values for PTAAR."
   ]
  },
  {
   "cell_type": "code",
   "execution_count": 711,
   "metadata": {
    "ExecuteTime": {
     "end_time": "2020-10-20T21:21:37.614988Z",
     "start_time": "2020-10-20T21:21:37.610411Z"
    }
   },
   "outputs": [],
   "source": [
    "X = np.array(df['PTAAR']).reshape((-1,1))\n",
    "scaler = StandardScaler()\n",
    "staar = scaler.fit_transform(X)"
   ]
  },
  {
   "cell_type": "code",
   "execution_count": 712,
   "metadata": {
    "ExecuteTime": {
     "end_time": "2020-10-20T21:21:37.855426Z",
     "start_time": "2020-10-20T21:21:37.852287Z"
    }
   },
   "outputs": [],
   "source": [
    "df['STAAR'] = staar"
   ]
  },
  {
   "cell_type": "code",
   "execution_count": 713,
   "metadata": {
    "ExecuteTime": {
     "end_time": "2020-10-20T21:21:38.329612Z",
     "start_time": "2020-10-20T21:21:38.308213Z"
    }
   },
   "outputs": [
    {
     "data": {
      "text/html": [
       "<div>\n",
       "<style scoped>\n",
       "    .dataframe tbody tr th:only-of-type {\n",
       "        vertical-align: middle;\n",
       "    }\n",
       "\n",
       "    .dataframe tbody tr th {\n",
       "        vertical-align: top;\n",
       "    }\n",
       "\n",
       "    .dataframe thead th {\n",
       "        text-align: right;\n",
       "    }\n",
       "</style>\n",
       "<table border=\"1\" class=\"dataframe\">\n",
       "  <thead>\n",
       "    <tr style=\"text-align: right;\">\n",
       "      <th></th>\n",
       "      <th>player_name</th>\n",
       "      <th>team_abbreviation</th>\n",
       "      <th>player_height_inches</th>\n",
       "      <th>player_weight</th>\n",
       "      <th>avg_weight</th>\n",
       "      <th>TAR</th>\n",
       "      <th>STAR</th>\n",
       "      <th>predicted_weight</th>\n",
       "      <th>TAAR</th>\n",
       "      <th>PTAAR</th>\n",
       "      <th>STAAR</th>\n",
       "    </tr>\n",
       "  </thead>\n",
       "  <tbody>\n",
       "    <tr>\n",
       "      <th>527</th>\n",
       "      <td>Zion Williamson</td>\n",
       "      <td>NOP</td>\n",
       "      <td>78</td>\n",
       "      <td>284</td>\n",
       "      <td>216.839286</td>\n",
       "      <td>67.160714</td>\n",
       "      <td>4.5729</td>\n",
       "      <td>214.597520</td>\n",
       "      <td>69.402480</td>\n",
       "      <td>0.323408</td>\n",
       "      <td>4.721591</td>\n",
       "    </tr>\n",
       "    <tr>\n",
       "      <th>226</th>\n",
       "      <td>Jarrell Brantley</td>\n",
       "      <td>UTA</td>\n",
       "      <td>77</td>\n",
       "      <td>250</td>\n",
       "      <td>209.079365</td>\n",
       "      <td>40.920635</td>\n",
       "      <td>2.7863</td>\n",
       "      <td>209.198190</td>\n",
       "      <td>40.801810</td>\n",
       "      <td>0.195039</td>\n",
       "      <td>2.847475</td>\n",
       "    </tr>\n",
       "    <tr>\n",
       "      <th>159</th>\n",
       "      <td>Eric Paschall</td>\n",
       "      <td>GSW</td>\n",
       "      <td>78</td>\n",
       "      <td>255</td>\n",
       "      <td>216.839286</td>\n",
       "      <td>38.160714</td>\n",
       "      <td>2.5983</td>\n",
       "      <td>214.597520</td>\n",
       "      <td>40.402480</td>\n",
       "      <td>0.188271</td>\n",
       "      <td>2.748664</td>\n",
       "    </tr>\n",
       "    <tr>\n",
       "      <th>120</th>\n",
       "      <td>Deonte Burton</td>\n",
       "      <td>OKC</td>\n",
       "      <td>76</td>\n",
       "      <td>240</td>\n",
       "      <td>203.833333</td>\n",
       "      <td>36.166667</td>\n",
       "      <td>2.4626</td>\n",
       "      <td>203.944818</td>\n",
       "      <td>36.055182</td>\n",
       "      <td>0.176789</td>\n",
       "      <td>2.581033</td>\n",
       "    </tr>\n",
       "    <tr>\n",
       "      <th>17</th>\n",
       "      <td>Andre Drummond</td>\n",
       "      <td>CLE</td>\n",
       "      <td>82</td>\n",
       "      <td>279</td>\n",
       "      <td>237.804878</td>\n",
       "      <td>41.195122</td>\n",
       "      <td>2.8049</td>\n",
       "      <td>237.654415</td>\n",
       "      <td>41.345585</td>\n",
       "      <td>0.173974</td>\n",
       "      <td>2.539930</td>\n",
       "    </tr>\n",
       "    <tr>\n",
       "      <th>404</th>\n",
       "      <td>P.J. Tucker</td>\n",
       "      <td>HOU</td>\n",
       "      <td>77</td>\n",
       "      <td>245</td>\n",
       "      <td>209.079365</td>\n",
       "      <td>35.920635</td>\n",
       "      <td>2.4458</td>\n",
       "      <td>209.198190</td>\n",
       "      <td>35.801810</td>\n",
       "      <td>0.171138</td>\n",
       "      <td>2.498536</td>\n",
       "    </tr>\n",
       "    <tr>\n",
       "      <th>414</th>\n",
       "      <td>Paul Millsap</td>\n",
       "      <td>DEN</td>\n",
       "      <td>79</td>\n",
       "      <td>257</td>\n",
       "      <td>216.274510</td>\n",
       "      <td>40.725490</td>\n",
       "      <td>2.7730</td>\n",
       "      <td>220.142808</td>\n",
       "      <td>36.857192</td>\n",
       "      <td>0.167424</td>\n",
       "      <td>2.444310</td>\n",
       "    </tr>\n",
       "    <tr>\n",
       "      <th>512</th>\n",
       "      <td>Wendell Carter Jr.</td>\n",
       "      <td>CHI</td>\n",
       "      <td>81</td>\n",
       "      <td>270</td>\n",
       "      <td>233.093023</td>\n",
       "      <td>36.906977</td>\n",
       "      <td>2.5130</td>\n",
       "      <td>231.671255</td>\n",
       "      <td>38.328745</td>\n",
       "      <td>0.165445</td>\n",
       "      <td>2.415411</td>\n",
       "    </tr>\n",
       "    <tr>\n",
       "      <th>284</th>\n",
       "      <td>Jusuf Nurkic</td>\n",
       "      <td>POR</td>\n",
       "      <td>84</td>\n",
       "      <td>290</td>\n",
       "      <td>252.304348</td>\n",
       "      <td>37.695652</td>\n",
       "      <td>2.5667</td>\n",
       "      <td>250.058609</td>\n",
       "      <td>39.941391</td>\n",
       "      <td>0.159728</td>\n",
       "      <td>2.331954</td>\n",
       "    </tr>\n",
       "    <tr>\n",
       "      <th>4</th>\n",
       "      <td>Admiral Schofield</td>\n",
       "      <td>WAS</td>\n",
       "      <td>77</td>\n",
       "      <td>241</td>\n",
       "      <td>209.079365</td>\n",
       "      <td>31.920635</td>\n",
       "      <td>2.1735</td>\n",
       "      <td>209.198190</td>\n",
       "      <td>31.801810</td>\n",
       "      <td>0.152018</td>\n",
       "      <td>2.219384</td>\n",
       "    </tr>\n",
       "  </tbody>\n",
       "</table>\n",
       "</div>"
      ],
      "text/plain": [
       "            player_name team_abbreviation  player_height_inches  \\\n",
       "527     Zion Williamson               NOP                    78   \n",
       "226    Jarrell Brantley               UTA                    77   \n",
       "159       Eric Paschall               GSW                    78   \n",
       "120       Deonte Burton               OKC                    76   \n",
       "17       Andre Drummond               CLE                    82   \n",
       "404         P.J. Tucker               HOU                    77   \n",
       "414        Paul Millsap               DEN                    79   \n",
       "512  Wendell Carter Jr.               CHI                    81   \n",
       "284        Jusuf Nurkic               POR                    84   \n",
       "4     Admiral Schofield               WAS                    77   \n",
       "\n",
       "     player_weight  avg_weight        TAR    STAR  predicted_weight  \\\n",
       "527            284  216.839286  67.160714  4.5729        214.597520   \n",
       "226            250  209.079365  40.920635  2.7863        209.198190   \n",
       "159            255  216.839286  38.160714  2.5983        214.597520   \n",
       "120            240  203.833333  36.166667  2.4626        203.944818   \n",
       "17             279  237.804878  41.195122  2.8049        237.654415   \n",
       "404            245  209.079365  35.920635  2.4458        209.198190   \n",
       "414            257  216.274510  40.725490  2.7730        220.142808   \n",
       "512            270  233.093023  36.906977  2.5130        231.671255   \n",
       "284            290  252.304348  37.695652  2.5667        250.058609   \n",
       "4              241  209.079365  31.920635  2.1735        209.198190   \n",
       "\n",
       "          TAAR     PTAAR     STAAR  \n",
       "527  69.402480  0.323408  4.721591  \n",
       "226  40.801810  0.195039  2.847475  \n",
       "159  40.402480  0.188271  2.748664  \n",
       "120  36.055182  0.176789  2.581033  \n",
       "17   41.345585  0.173974  2.539930  \n",
       "404  35.801810  0.171138  2.498536  \n",
       "414  36.857192  0.167424  2.444310  \n",
       "512  38.328745  0.165445  2.415411  \n",
       "284  39.941391  0.159728  2.331954  \n",
       "4    31.801810  0.152018  2.219384  "
      ]
     },
     "execution_count": 713,
     "metadata": {},
     "output_type": "execute_result"
    }
   ],
   "source": [
    "df.sort_values('STAAR', ascending=False).head(10)"
   ]
  },
  {
   "cell_type": "markdown",
   "metadata": {},
   "source": [
    "## Modifications on Metrics <a class=\"anchor\" id=\"mods\"></a>\n",
    "**Issues:**\n",
    "- Sample size at certain heights skewing data.  As seen above, the average weights at the extreme heights created uneven \"replacement\" weights.\n",
    "\n",
    "**Solutions:**\n",
    "- Remove extreme heights and re-fit adjusted average weights."
   ]
  },
  {
   "cell_type": "code",
   "execution_count": 714,
   "metadata": {
    "ExecuteTime": {
     "end_time": "2020-10-20T21:21:39.171135Z",
     "start_time": "2020-10-20T21:21:39.163905Z"
    }
   },
   "outputs": [
    {
     "data": {
      "text/plain": [
       "77    63\n",
       "80    58\n",
       "78    56\n",
       "79    51\n",
       "75    47\n",
       "81    43\n",
       "76    42\n",
       "82    41\n",
       "83    29\n",
       "73    27\n",
       "84    23\n",
       "74    16\n",
       "72    14\n",
       "71     5\n",
       "86     4\n",
       "70     3\n",
       "69     2\n",
       "85     2\n",
       "88     1\n",
       "87     1\n",
       "89     1\n",
       "Name: player_height_inches, dtype: int64"
      ]
     },
     "execution_count": 714,
     "metadata": {},
     "output_type": "execute_result"
    }
   ],
   "source": [
    "df['player_height_inches'].value_counts()"
   ]
  },
  {
   "cell_type": "code",
   "execution_count": 715,
   "metadata": {
    "ExecuteTime": {
     "end_time": "2020-10-20T21:21:39.569311Z",
     "start_time": "2020-10-20T21:21:39.558714Z"
    }
   },
   "outputs": [],
   "source": [
    "# Remove extremes of heights\n",
    "cond1 = (df['player_height_inches'] > 71)\n",
    "cond2 = (df['player_height_inches'] < 85)\n",
    "new_df = df.loc[cond1 & cond2]\n",
    "new_x = np.array(new_df['player_height_inches']).reshape((-1,1))\n",
    "new_y = new_df['player_weight']\n",
    "new_range = np.arange(new_x.min(), new_x.max() + 1).reshape((-1,1))\n",
    "\n",
    "# Create polynomial features\n",
    "transformer = PolynomialFeatures(degree=2)\n",
    "X = transformer.fit_transform(new_x)\n",
    "\n",
    "# Linear model\n",
    "model = LinearRegression().fit(X, new_y)\n",
    "X_ = transformer.transform(h_range.reshape((-1,1)))\n",
    "new_preds = model.predict(X_)"
   ]
  },
  {
   "cell_type": "code",
   "execution_count": 716,
   "metadata": {
    "ExecuteTime": {
     "end_time": "2020-10-20T21:21:40.365484Z",
     "start_time": "2020-10-20T21:21:40.091719Z"
    }
   },
   "outputs": [
    {
     "data": {
      "image/png": "[encoded data removed]",
      "text/plain": [
       "<Figure size 432x288 with 1 Axes>"
      ]
     },
     "metadata": {
      "needs_background": "light"
     },
     "output_type": "display_data"
    }
   ],
   "source": [
    "plt.plot(h_range, new_preds, h_range, p_preds)\n",
    "plt.title('Polynomial Feature Regressions')\n",
    "plt.xlabel('Height (inches)')\n",
    "plt.ylabel('Weight (lbs.)')\n",
    "\n",
    "labels = ['New AA', 'Old AA']\n",
    "plt.legend(labels)\n",
    "plt.show()"
   ]
  },
  {
   "cell_type": "code",
   "execution_count": 717,
   "metadata": {
    "ExecuteTime": {
     "end_time": "2020-10-20T21:21:40.508879Z",
     "start_time": "2020-10-20T21:21:40.503011Z"
    }
   },
   "outputs": [],
   "source": [
    "new_pw = { int(h_range[i]): new_preds[i] for i in range(len(h_range)) }"
   ]
  },
  {
   "cell_type": "code",
   "execution_count": 718,
   "metadata": {
    "ExecuteTime": {
     "end_time": "2020-10-20T21:21:40.915181Z",
     "start_time": "2020-10-20T21:21:40.910276Z"
    }
   },
   "outputs": [],
   "source": [
    "df['new_pw'] = df['player_height_inches'].map(new_pw)"
   ]
  },
  {
   "cell_type": "code",
   "execution_count": 719,
   "metadata": {
    "ExecuteTime": {
     "end_time": "2020-10-20T21:21:41.322175Z",
     "start_time": "2020-10-20T21:21:41.315146Z"
    }
   },
   "outputs": [],
   "source": [
    "# Add new STAAR\n",
    "new_ptaar = np.array((df['player_weight'] - df['new_pw']) / df['new_pw'])\n",
    "scaler = StandardScaler()\n",
    "new_staar = scaler.fit_transform(new_ptaar.reshape((-1,1)))\n",
    "df['new_STAAR'] = np.round(new_staar, 4)"
   ]
  },
  {
   "cell_type": "markdown",
   "metadata": {},
   "source": [
    "### Comparison to STAR <a class=\"anchor\" id=\"comp\"></a>"
   ]
  },
  {
   "cell_type": "code",
   "execution_count": 723,
   "metadata": {
    "ExecuteTime": {
     "end_time": "2020-10-20T21:23:48.488027Z",
     "start_time": "2020-10-20T21:23:48.484177Z"
    }
   },
   "outputs": [],
   "source": [
    "df['diff'] = df['new_STAAR'] - df['STAR']"
   ]
  },
  {
   "cell_type": "code",
   "execution_count": 726,
   "metadata": {
    "ExecuteTime": {
     "end_time": "2020-10-20T21:24:14.767038Z",
     "start_time": "2020-10-20T21:24:14.752775Z"
    }
   },
   "outputs": [
    {
     "data": {
      "text/html": [
       "<div>\n",
       "<style scoped>\n",
       "    .dataframe tbody tr th:only-of-type {\n",
       "        vertical-align: middle;\n",
       "    }\n",
       "\n",
       "    .dataframe tbody tr th {\n",
       "        vertical-align: top;\n",
       "    }\n",
       "\n",
       "    .dataframe thead th {\n",
       "        text-align: right;\n",
       "    }\n",
       "</style>\n",
       "<table border=\"1\" class=\"dataframe\">\n",
       "  <thead>\n",
       "    <tr style=\"text-align: right;\">\n",
       "      <th></th>\n",
       "      <th>player_name</th>\n",
       "      <th>STAR</th>\n",
       "      <th>new_STAAR</th>\n",
       "      <th>diff</th>\n",
       "    </tr>\n",
       "  </thead>\n",
       "  <tbody>\n",
       "    <tr>\n",
       "      <th>464</th>\n",
       "      <td>Tacko Fall</td>\n",
       "      <td>0.0000</td>\n",
       "      <td>1.2073</td>\n",
       "      <td>1.2073</td>\n",
       "    </tr>\n",
       "    <tr>\n",
       "      <th>197</th>\n",
       "      <td>Isaiah Thomas</td>\n",
       "      <td>0.1702</td>\n",
       "      <td>1.3198</td>\n",
       "      <td>1.1496</td>\n",
       "    </tr>\n",
       "    <tr>\n",
       "      <th>73</th>\n",
       "      <td>Chris Clemons</td>\n",
       "      <td>-0.1702</td>\n",
       "      <td>0.8900</td>\n",
       "      <td>1.0602</td>\n",
       "    </tr>\n",
       "    <tr>\n",
       "      <th>63</th>\n",
       "      <td>Carsen Edwards</td>\n",
       "      <td>0.9124</td>\n",
       "      <td>1.7591</td>\n",
       "      <td>0.8467</td>\n",
       "    </tr>\n",
       "    <tr>\n",
       "      <th>165</th>\n",
       "      <td>Frank Mason</td>\n",
       "      <td>0.2315</td>\n",
       "      <td>0.9419</td>\n",
       "      <td>0.7104</td>\n",
       "    </tr>\n",
       "    <tr>\n",
       "      <th>262</th>\n",
       "      <td>Jordan McLaughlin</td>\n",
       "      <td>-0.1089</td>\n",
       "      <td>0.5333</td>\n",
       "      <td>0.6422</td>\n",
       "    </tr>\n",
       "    <tr>\n",
       "      <th>87</th>\n",
       "      <td>D.J. Augustin</td>\n",
       "      <td>-0.2451</td>\n",
       "      <td>0.3699</td>\n",
       "      <td>0.6150</td>\n",
       "    </tr>\n",
       "    <tr>\n",
       "      <th>36</th>\n",
       "      <td>Boban Marjanovic</td>\n",
       "      <td>0.0000</td>\n",
       "      <td>0.5318</td>\n",
       "      <td>0.5318</td>\n",
       "    </tr>\n",
       "    <tr>\n",
       "      <th>72</th>\n",
       "      <td>Chris Chiozza</td>\n",
       "      <td>-0.7898</td>\n",
       "      <td>-0.2839</td>\n",
       "      <td>0.5059</td>\n",
       "    </tr>\n",
       "    <tr>\n",
       "      <th>479</th>\n",
       "      <td>Thon Maker</td>\n",
       "      <td>-2.1315</td>\n",
       "      <td>-1.7801</td>\n",
       "      <td>0.3514</td>\n",
       "    </tr>\n",
       "  </tbody>\n",
       "</table>\n",
       "</div>"
      ],
      "text/plain": [
       "           player_name    STAR  new_STAAR    diff\n",
       "464         Tacko Fall  0.0000     1.2073  1.2073\n",
       "197      Isaiah Thomas  0.1702     1.3198  1.1496\n",
       "73       Chris Clemons -0.1702     0.8900  1.0602\n",
       "63      Carsen Edwards  0.9124     1.7591  0.8467\n",
       "165        Frank Mason  0.2315     0.9419  0.7104\n",
       "262  Jordan McLaughlin -0.1089     0.5333  0.6422\n",
       "87       D.J. Augustin -0.2451     0.3699  0.6150\n",
       "36    Boban Marjanovic  0.0000     0.5318  0.5318\n",
       "72       Chris Chiozza -0.7898    -0.2839  0.5059\n",
       "479         Thon Maker -2.1315    -1.7801  0.3514"
      ]
     },
     "execution_count": 726,
     "metadata": {},
     "output_type": "execute_result"
    }
   ],
   "source": [
    "df[['player_name', 'STAR', 'new_STAAR', 'diff']].sort_values('diff', ascending=False).head(10)"
   ]
  },
  {
   "cell_type": "code",
   "execution_count": 727,
   "metadata": {
    "ExecuteTime": {
     "end_time": "2020-10-20T21:24:31.381508Z",
     "start_time": "2020-10-20T21:24:31.367337Z"
    }
   },
   "outputs": [
    {
     "data": {
      "text/html": [
       "<div>\n",
       "<style scoped>\n",
       "    .dataframe tbody tr th:only-of-type {\n",
       "        vertical-align: middle;\n",
       "    }\n",
       "\n",
       "    .dataframe tbody tr th {\n",
       "        vertical-align: top;\n",
       "    }\n",
       "\n",
       "    .dataframe thead th {\n",
       "        text-align: right;\n",
       "    }\n",
       "</style>\n",
       "<table border=\"1\" class=\"dataframe\">\n",
       "  <thead>\n",
       "    <tr style=\"text-align: right;\">\n",
       "      <th></th>\n",
       "      <th>player_name</th>\n",
       "      <th>STAR</th>\n",
       "      <th>new_STAAR</th>\n",
       "      <th>diff</th>\n",
       "    </tr>\n",
       "  </thead>\n",
       "  <tbody>\n",
       "    <tr>\n",
       "      <th>337</th>\n",
       "      <td>Luke Kornet</td>\n",
       "      <td>0.9533</td>\n",
       "      <td>-0.8481</td>\n",
       "      <td>-1.8014</td>\n",
       "    </tr>\n",
       "    <tr>\n",
       "      <th>311</th>\n",
       "      <td>Kristaps Porzingis</td>\n",
       "      <td>0.0000</td>\n",
       "      <td>-1.7412</td>\n",
       "      <td>-1.7412</td>\n",
       "    </tr>\n",
       "    <tr>\n",
       "      <th>382</th>\n",
       "      <td>Moses Brown</td>\n",
       "      <td>0.6128</td>\n",
       "      <td>-1.1229</td>\n",
       "      <td>-1.7357</td>\n",
       "    </tr>\n",
       "    <tr>\n",
       "      <th>26</th>\n",
       "      <td>Anzejs Pasecniks</td>\n",
       "      <td>-0.4766</td>\n",
       "      <td>-2.0020</td>\n",
       "      <td>-1.5254</td>\n",
       "    </tr>\n",
       "    <tr>\n",
       "      <th>40</th>\n",
       "      <td>Bol Bol</td>\n",
       "      <td>-1.0894</td>\n",
       "      <td>-2.4966</td>\n",
       "      <td>-1.4072</td>\n",
       "    </tr>\n",
       "    <tr>\n",
       "      <th>436</th>\n",
       "      <td>Rudy Gobert</td>\n",
       "      <td>0.4426</td>\n",
       "      <td>-0.0281</td>\n",
       "      <td>-0.4707</td>\n",
       "    </tr>\n",
       "    <tr>\n",
       "      <th>284</th>\n",
       "      <td>Jusuf Nurkic</td>\n",
       "      <td>2.5667</td>\n",
       "      <td>2.2178</td>\n",
       "      <td>-0.3489</td>\n",
       "    </tr>\n",
       "    <tr>\n",
       "      <th>268</th>\n",
       "      <td>Josh Magette</td>\n",
       "      <td>-1.8208</td>\n",
       "      <td>-2.1690</td>\n",
       "      <td>-0.3482</td>\n",
       "    </tr>\n",
       "    <tr>\n",
       "      <th>414</th>\n",
       "      <td>Paul Millsap</td>\n",
       "      <td>2.7730</td>\n",
       "      <td>2.4303</td>\n",
       "      <td>-0.3427</td>\n",
       "    </tr>\n",
       "    <tr>\n",
       "      <th>17</th>\n",
       "      <td>Andre Drummond</td>\n",
       "      <td>2.8049</td>\n",
       "      <td>2.4651</td>\n",
       "      <td>-0.3398</td>\n",
       "    </tr>\n",
       "  </tbody>\n",
       "</table>\n",
       "</div>"
      ],
      "text/plain": [
       "            player_name    STAR  new_STAAR    diff\n",
       "337         Luke Kornet  0.9533    -0.8481 -1.8014\n",
       "311  Kristaps Porzingis  0.0000    -1.7412 -1.7412\n",
       "382         Moses Brown  0.6128    -1.1229 -1.7357\n",
       "26     Anzejs Pasecniks -0.4766    -2.0020 -1.5254\n",
       "40              Bol Bol -1.0894    -2.4966 -1.4072\n",
       "436         Rudy Gobert  0.4426    -0.0281 -0.4707\n",
       "284        Jusuf Nurkic  2.5667     2.2178 -0.3489\n",
       "268        Josh Magette -1.8208    -2.1690 -0.3482\n",
       "414        Paul Millsap  2.7730     2.4303 -0.3427\n",
       "17       Andre Drummond  2.8049     2.4651 -0.3398"
      ]
     },
     "execution_count": 727,
     "metadata": {},
     "output_type": "execute_result"
    }
   ],
   "source": [
    "df[['player_name', 'STAR', 'new_STAAR', 'diff']].sort_values('diff', ascending=True).head(10)"
   ]
  },
  {
   "cell_type": "code",
   "execution_count": 729,
   "metadata": {
    "ExecuteTime": {
     "end_time": "2020-10-20T21:27:23.738049Z",
     "start_time": "2020-10-20T21:27:23.712066Z"
    }
   },
   "outputs": [],
   "source": [
    "with open('thick_df.p', 'wb') as f:\n",
    "    pickle.dump(df, f)"
   ]
  },
  {
   "cell_type": "code",
   "execution_count": 733,
   "metadata": {
    "ExecuteTime": {
     "end_time": "2020-10-20T21:35:28.472912Z",
     "start_time": "2020-10-20T21:35:28.460722Z"
    }
   },
   "outputs": [
    {
     "data": {
      "text/html": [
       "<div>\n",
       "<style scoped>\n",
       "    .dataframe tbody tr th:only-of-type {\n",
       "        vertical-align: middle;\n",
       "    }\n",
       "\n",
       "    .dataframe tbody tr th {\n",
       "        vertical-align: top;\n",
       "    }\n",
       "\n",
       "    .dataframe thead th {\n",
       "        text-align: right;\n",
       "    }\n",
       "</style>\n",
       "<table border=\"1\" class=\"dataframe\">\n",
       "  <thead>\n",
       "    <tr style=\"text-align: right;\">\n",
       "      <th></th>\n",
       "      <th>player_name</th>\n",
       "      <th>new_STAAR</th>\n",
       "    </tr>\n",
       "  </thead>\n",
       "  <tbody>\n",
       "    <tr>\n",
       "      <th>527</th>\n",
       "      <td>Zion Williamson</td>\n",
       "      <td>4.7261</td>\n",
       "    </tr>\n",
       "    <tr>\n",
       "      <th>226</th>\n",
       "      <td>Jarrell Brantley</td>\n",
       "      <td>2.8728</td>\n",
       "    </tr>\n",
       "    <tr>\n",
       "      <th>159</th>\n",
       "      <td>Eric Paschall</td>\n",
       "      <td>2.7542</td>\n",
       "    </tr>\n",
       "    <tr>\n",
       "      <th>120</th>\n",
       "      <td>Deonte Burton</td>\n",
       "      <td>2.6254</td>\n",
       "    </tr>\n",
       "    <tr>\n",
       "      <th>404</th>\n",
       "      <td>P.J. Tucker</td>\n",
       "      <td>2.5237</td>\n",
       "    </tr>\n",
       "    <tr>\n",
       "      <th>17</th>\n",
       "      <td>Andre Drummond</td>\n",
       "      <td>2.4651</td>\n",
       "    </tr>\n",
       "    <tr>\n",
       "      <th>414</th>\n",
       "      <td>Paul Millsap</td>\n",
       "      <td>2.4303</td>\n",
       "    </tr>\n",
       "    <tr>\n",
       "      <th>512</th>\n",
       "      <td>Wendell Carter Jr.</td>\n",
       "      <td>2.3615</td>\n",
       "    </tr>\n",
       "    <tr>\n",
       "      <th>4</th>\n",
       "      <td>Admiral Schofield</td>\n",
       "      <td>2.2443</td>\n",
       "    </tr>\n",
       "    <tr>\n",
       "      <th>284</th>\n",
       "      <td>Jusuf Nurkic</td>\n",
       "      <td>2.2178</td>\n",
       "    </tr>\n",
       "  </tbody>\n",
       "</table>\n",
       "</div>"
      ],
      "text/plain": [
       "            player_name  new_STAAR\n",
       "527     Zion Williamson     4.7261\n",
       "226    Jarrell Brantley     2.8728\n",
       "159       Eric Paschall     2.7542\n",
       "120       Deonte Burton     2.6254\n",
       "404         P.J. Tucker     2.5237\n",
       "17       Andre Drummond     2.4651\n",
       "414        Paul Millsap     2.4303\n",
       "512  Wendell Carter Jr.     2.3615\n",
       "4     Admiral Schofield     2.2443\n",
       "284        Jusuf Nurkic     2.2178"
      ]
     },
     "execution_count": 733,
     "metadata": {},
     "output_type": "execute_result"
    }
   ],
   "source": [
    "# STAAR Top 10\n",
    "df.sort_values('new_STAAR', ascending=False)[['player_name', 'new_STAAR']].head(10)"
   ]
  },
  {
   "cell_type": "code",
   "execution_count": 734,
   "metadata": {
    "ExecuteTime": {
     "end_time": "2020-10-21T14:46:00.375163Z",
     "start_time": "2020-10-21T14:46:00.149285Z"
    }
   },
   "outputs": [
    {
     "data": {
      "text/html": [
       "<div>\n",
       "<style scoped>\n",
       "    .dataframe tbody tr th:only-of-type {\n",
       "        vertical-align: middle;\n",
       "    }\n",
       "\n",
       "    .dataframe tbody tr th {\n",
       "        vertical-align: top;\n",
       "    }\n",
       "\n",
       "    .dataframe thead th {\n",
       "        text-align: right;\n",
       "    }\n",
       "</style>\n",
       "<table border=\"1\" class=\"dataframe\">\n",
       "  <thead>\n",
       "    <tr style=\"text-align: right;\">\n",
       "      <th></th>\n",
       "      <th>player_name</th>\n",
       "      <th>new_STAAR</th>\n",
       "    </tr>\n",
       "  </thead>\n",
       "  <tbody>\n",
       "    <tr>\n",
       "      <th>194</th>\n",
       "      <td>Isaac Bonga</td>\n",
       "      <td>-2.9816</td>\n",
       "    </tr>\n",
       "    <tr>\n",
       "      <th>82</th>\n",
       "      <td>Corey Brewer</td>\n",
       "      <td>-2.7853</td>\n",
       "    </tr>\n",
       "    <tr>\n",
       "      <th>410</th>\n",
       "      <td>Patrick McCaw</td>\n",
       "      <td>-2.6015</td>\n",
       "    </tr>\n",
       "    <tr>\n",
       "      <th>40</th>\n",
       "      <td>Bol Bol</td>\n",
       "      <td>-2.4966</td>\n",
       "    </tr>\n",
       "    <tr>\n",
       "      <th>309</th>\n",
       "      <td>Kostas Antetokounmpo</td>\n",
       "      <td>-2.3627</td>\n",
       "    </tr>\n",
       "    <tr>\n",
       "      <th>277</th>\n",
       "      <td>Justin Holiday</td>\n",
       "      <td>-2.3456</td>\n",
       "    </tr>\n",
       "    <tr>\n",
       "      <th>268</th>\n",
       "      <td>Josh Magette</td>\n",
       "      <td>-2.1690</td>\n",
       "    </tr>\n",
       "    <tr>\n",
       "      <th>263</th>\n",
       "      <td>Jordan McRae</td>\n",
       "      <td>-2.0852</td>\n",
       "    </tr>\n",
       "    <tr>\n",
       "      <th>467</th>\n",
       "      <td>Tariq Owens</td>\n",
       "      <td>-2.0572</td>\n",
       "    </tr>\n",
       "    <tr>\n",
       "      <th>216</th>\n",
       "      <td>Jalen McDaniels</td>\n",
       "      <td>-2.0572</td>\n",
       "    </tr>\n",
       "  </tbody>\n",
       "</table>\n",
       "</div>"
      ],
      "text/plain": [
       "              player_name  new_STAAR\n",
       "194           Isaac Bonga    -2.9816\n",
       "82           Corey Brewer    -2.7853\n",
       "410         Patrick McCaw    -2.6015\n",
       "40                Bol Bol    -2.4966\n",
       "309  Kostas Antetokounmpo    -2.3627\n",
       "277        Justin Holiday    -2.3456\n",
       "268          Josh Magette    -2.1690\n",
       "263          Jordan McRae    -2.0852\n",
       "467           Tariq Owens    -2.0572\n",
       "216       Jalen McDaniels    -2.0572"
      ]
     },
     "execution_count": 734,
     "metadata": {},
     "output_type": "execute_result"
    }
   ],
   "source": [
    "# STAAR Bottom 10\n",
    "df.sort_values('new_STAAR', ascending=True)[['player_name', 'new_STAAR']].head(10)"
   ]
  },
  {
   "cell_type": "code",
   "execution_count": 736,
   "metadata": {
    "ExecuteTime": {
     "end_time": "2020-10-21T14:49:54.987691Z",
     "start_time": "2020-10-21T14:49:54.973639Z"
    }
   },
   "outputs": [
    {
     "data": {
      "text/html": [
       "<div>\n",
       "<style scoped>\n",
       "    .dataframe tbody tr th:only-of-type {\n",
       "        vertical-align: middle;\n",
       "    }\n",
       "\n",
       "    .dataframe tbody tr th {\n",
       "        vertical-align: top;\n",
       "    }\n",
       "\n",
       "    .dataframe thead th {\n",
       "        text-align: right;\n",
       "    }\n",
       "</style>\n",
       "<table border=\"1\" class=\"dataframe\">\n",
       "  <thead>\n",
       "    <tr style=\"text-align: right;\">\n",
       "      <th></th>\n",
       "      <th>player_name</th>\n",
       "      <th>STAR</th>\n",
       "    </tr>\n",
       "  </thead>\n",
       "  <tbody>\n",
       "    <tr>\n",
       "      <th>527</th>\n",
       "      <td>Zion Williamson</td>\n",
       "      <td>4.5729</td>\n",
       "    </tr>\n",
       "    <tr>\n",
       "      <th>17</th>\n",
       "      <td>Andre Drummond</td>\n",
       "      <td>2.8049</td>\n",
       "    </tr>\n",
       "    <tr>\n",
       "      <th>226</th>\n",
       "      <td>Jarrell Brantley</td>\n",
       "      <td>2.7863</td>\n",
       "    </tr>\n",
       "    <tr>\n",
       "      <th>414</th>\n",
       "      <td>Paul Millsap</td>\n",
       "      <td>2.7730</td>\n",
       "    </tr>\n",
       "    <tr>\n",
       "      <th>159</th>\n",
       "      <td>Eric Paschall</td>\n",
       "      <td>2.5983</td>\n",
       "    </tr>\n",
       "    <tr>\n",
       "      <th>284</th>\n",
       "      <td>Jusuf Nurkic</td>\n",
       "      <td>2.5667</td>\n",
       "    </tr>\n",
       "    <tr>\n",
       "      <th>512</th>\n",
       "      <td>Wendell Carter Jr.</td>\n",
       "      <td>2.5130</td>\n",
       "    </tr>\n",
       "    <tr>\n",
       "      <th>120</th>\n",
       "      <td>Deonte Burton</td>\n",
       "      <td>2.4626</td>\n",
       "    </tr>\n",
       "    <tr>\n",
       "      <th>404</th>\n",
       "      <td>P.J. Tucker</td>\n",
       "      <td>2.4458</td>\n",
       "    </tr>\n",
       "    <tr>\n",
       "      <th>211</th>\n",
       "      <td>Jahlil Okafor</td>\n",
       "      <td>2.1921</td>\n",
       "    </tr>\n",
       "  </tbody>\n",
       "</table>\n",
       "</div>"
      ],
      "text/plain": [
       "            player_name    STAR\n",
       "527     Zion Williamson  4.5729\n",
       "17       Andre Drummond  2.8049\n",
       "226    Jarrell Brantley  2.7863\n",
       "414        Paul Millsap  2.7730\n",
       "159       Eric Paschall  2.5983\n",
       "284        Jusuf Nurkic  2.5667\n",
       "512  Wendell Carter Jr.  2.5130\n",
       "120       Deonte Burton  2.4626\n",
       "404         P.J. Tucker  2.4458\n",
       "211       Jahlil Okafor  2.1921"
      ]
     },
     "execution_count": 736,
     "metadata": {},
     "output_type": "execute_result"
    }
   ],
   "source": [
    "df.sort_values('STAR', ascending=False)[['player_name', 'STAR']].head(10)"
   ]
  },
  {
   "cell_type": "code",
   "execution_count": 735,
   "metadata": {
    "ExecuteTime": {
     "end_time": "2020-10-21T14:48:59.889912Z",
     "start_time": "2020-10-21T14:48:59.857561Z"
    }
   },
   "outputs": [
    {
     "data": {
      "text/html": [
       "<div>\n",
       "<style scoped>\n",
       "    .dataframe tbody tr th:only-of-type {\n",
       "        vertical-align: middle;\n",
       "    }\n",
       "\n",
       "    .dataframe tbody tr th {\n",
       "        vertical-align: top;\n",
       "    }\n",
       "\n",
       "    .dataframe thead th {\n",
       "        text-align: right;\n",
       "    }\n",
       "</style>\n",
       "<table border=\"1\" class=\"dataframe\">\n",
       "  <thead>\n",
       "    <tr style=\"text-align: right;\">\n",
       "      <th></th>\n",
       "      <th>player_name</th>\n",
       "      <th>STAR</th>\n",
       "    </tr>\n",
       "  </thead>\n",
       "  <tbody>\n",
       "    <tr>\n",
       "      <th>194</th>\n",
       "      <td>Isaac Bonga</td>\n",
       "      <td>-3.1708</td>\n",
       "    </tr>\n",
       "    <tr>\n",
       "      <th>82</th>\n",
       "      <td>Corey Brewer</td>\n",
       "      <td>-3.0704</td>\n",
       "    </tr>\n",
       "    <tr>\n",
       "      <th>309</th>\n",
       "      <td>Kostas Antetokounmpo</td>\n",
       "      <td>-2.5741</td>\n",
       "    </tr>\n",
       "    <tr>\n",
       "      <th>277</th>\n",
       "      <td>Justin Holiday</td>\n",
       "      <td>-2.5084</td>\n",
       "    </tr>\n",
       "    <tr>\n",
       "      <th>410</th>\n",
       "      <td>Patrick McCaw</td>\n",
       "      <td>-2.4018</td>\n",
       "    </tr>\n",
       "    <tr>\n",
       "      <th>71</th>\n",
       "      <td>Chris Boucher</td>\n",
       "      <td>-2.2533</td>\n",
       "    </tr>\n",
       "    <tr>\n",
       "      <th>216</th>\n",
       "      <td>Jalen McDaniels</td>\n",
       "      <td>-2.2337</td>\n",
       "    </tr>\n",
       "    <tr>\n",
       "      <th>467</th>\n",
       "      <td>Tariq Owens</td>\n",
       "      <td>-2.2337</td>\n",
       "    </tr>\n",
       "    <tr>\n",
       "      <th>479</th>\n",
       "      <td>Thon Maker</td>\n",
       "      <td>-2.1315</td>\n",
       "    </tr>\n",
       "    <tr>\n",
       "      <th>392</th>\n",
       "      <td>Nicolas Claxton</td>\n",
       "      <td>-2.1108</td>\n",
       "    </tr>\n",
       "  </tbody>\n",
       "</table>\n",
       "</div>"
      ],
      "text/plain": [
       "              player_name    STAR\n",
       "194           Isaac Bonga -3.1708\n",
       "82           Corey Brewer -3.0704\n",
       "309  Kostas Antetokounmpo -2.5741\n",
       "277        Justin Holiday -2.5084\n",
       "410         Patrick McCaw -2.4018\n",
       "71          Chris Boucher -2.2533\n",
       "216       Jalen McDaniels -2.2337\n",
       "467           Tariq Owens -2.2337\n",
       "479            Thon Maker -2.1315\n",
       "392       Nicolas Claxton -2.1108"
      ]
     },
     "execution_count": 735,
     "metadata": {},
     "output_type": "execute_result"
    }
   ],
   "source": [
    "df.sort_values('STAR', ascending=True)[['player_name', 'STAR']].head(10)"
   ]
  }
 ],
 "metadata": {
  "kernelspec": {
   "display_name": "nba_venv",
   "language": "python",
   "name": "nba_venv"
  },
  "language_info": {
   "codemirror_mode": {
    "name": "ipython",
    "version": 3
   },
   "file_extension": ".py",
   "mimetype": "text/x-python",
   "name": "python",
   "nbconvert_exporter": "python",
   "pygments_lexer": "ipython3",
   "version": "3.7.7"
  },
  "toc": {
   "base_numbering": 1,
   "nav_menu": {},
   "number_sections": true,
   "sideBar": true,
   "skip_h1_title": false,
   "title_cell": "Table of Contents",
   "title_sidebar": "Contents",
   "toc_cell": false,
   "toc_position": {},
   "toc_section_display": true,
   "toc_window_display": false
  }
 },
 "nbformat": 4,
 "nbformat_minor": 4
}
