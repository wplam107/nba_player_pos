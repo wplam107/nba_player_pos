{
 "cells": [
  {
   "cell_type": "markdown",
   "metadata": {},
   "source": [
    "# Seasonal PPS Variation"
   ]
  },
  {
   "cell_type": "code",
   "execution_count": 330,
   "metadata": {},
   "outputs": [],
   "source": [
    "import numpy as np\n",
    "import pandas as pd\n",
    "import matplotlib.pyplot as plt\n",
    "import seaborn as sns\n",
    "\n",
    "from nba_api.stats.endpoints.playerdashptshots import PlayerDashPtShots"
   ]
  },
  {
   "cell_type": "markdown",
   "metadata": {},
   "source": [
    "## Acquiring and Merging Data\n",
    "Shooting data from shots taken with closest defender distance."
   ]
  },
  {
   "cell_type": "code",
   "execution_count": 3,
   "metadata": {},
   "outputs": [],
   "source": [
    "def shooting_by_seasons(seasons, df_select):\n",
    "    '''\n",
    "    Parameters\n",
    "    ----------\n",
    "    seasons: List of seasons (strings)\n",
    "    df_select: DataFrame to return (int)\n",
    "    '''\n",
    "    results = []\n",
    "    for season in seasons:\n",
    "        temp = PlayerDashPtShots(team_id=0, player_id=0, season=season).get_data_frames()[df_select]\n",
    "        temp['season'] = season\n",
    "        results.append(temp)\n",
    "    \n",
    "    df = pd.concat(results)\n",
    "    return df"
   ]
  },
  {
   "cell_type": "markdown",
   "metadata": {},
   "source": [
    "### Note:\n",
    "Data is available starting from the 2013-14 season"
   ]
  },
  {
   "cell_type": "code",
   "execution_count": 4,
   "metadata": {},
   "outputs": [],
   "source": [
    "# Get all available data\n",
    "seasons = [\n",
    "    '2013-14',\n",
    "    '2014-15',\n",
    "    '2015-16',\n",
    "    '2016-17',\n",
    "    '2017-18',\n",
    "    '2018-19',\n",
    "    '2019-20',\n",
    "]"
   ]
  },
  {
   "cell_type": "code",
   "execution_count": 5,
   "metadata": {},
   "outputs": [],
   "source": [
    "df_all = shooting_by_seasons(seasons, 4) # All shots\n",
    "df_ten = shooting_by_seasons(seasons, 5) # >=10ft shots"
   ]
  },
  {
   "cell_type": "code",
   "execution_count": 6,
   "metadata": {},
   "outputs": [],
   "source": [
    "# Rename columns and only keep relevent data\n",
    "df_all.rename(\n",
    "    columns={\n",
    "        'PLAYER_ID': 'player_id',\n",
    "        'PLAYER_NAME_LAST_FIRST': 'last_first',\n",
    "        'CLOSE_DEF_DIST_RANGE': 'closest_def',\n",
    "    },\n",
    "    inplace=True\n",
    ")\n",
    "\n",
    "df1 = df_all[[\n",
    "    'player_id',\n",
    "    'last_first',\n",
    "    'season',\n",
    "    'GP',\n",
    "    'closest_def',\n",
    "    'FG2M',\n",
    "    'FG2A',\n",
    "    'FG3M',\n",
    "    'FG3A'\n",
    "]]\n",
    "\n",
    "df_ten.rename(\n",
    "    columns={\n",
    "        'PLAYER_ID': 'player_id',\n",
    "        'PLAYER_NAME_LAST_FIRST': 'last_first',\n",
    "        'CLOSE_DEF_DIST_RANGE': 'closest_def',\n",
    "        'FG2M': 'FG2>=10M',\n",
    "        'FG2A': 'FG2>=10A',\n",
    "    },\n",
    "    inplace=True\n",
    ")\n",
    "\n",
    "df2 = df_ten[[\n",
    "    'player_id',\n",
    "    'last_first',\n",
    "    'season',\n",
    "    'GP',\n",
    "    'closest_def',\n",
    "    'FG2>=10M',\n",
    "    'FG2>=10A',\n",
    "]]"
   ]
  },
  {
   "cell_type": "code",
   "execution_count": 7,
   "metadata": {},
   "outputs": [],
   "source": [
    "# Merge DataFrames\n",
    "df = df1.merge(df2, on=['player_id', 'last_first', 'season', 'GP', 'closest_def'], how='left')\n",
    "\n",
    "# Convert NaN shooting values to 0\n",
    "df['FG2>=10M'] = np.where(df['FG2>=10M'].isna(), 0, df['FG2>=10M'])\n",
    "df['FG2>=10A'] = np.where(df['FG2>=10A'].isna(), 0, df['FG2>=10A'])"
   ]
  },
  {
   "cell_type": "code",
   "execution_count": 8,
   "metadata": {},
   "outputs": [
    {
     "data": {
      "text/plain": [
       "player_id      0\n",
       "last_first     0\n",
       "season         0\n",
       "GP             0\n",
       "closest_def    0\n",
       "FG2M           0\n",
       "FG2A           0\n",
       "FG3M           0\n",
       "FG3A           0\n",
       "FG2>=10M       0\n",
       "FG2>=10A       0\n",
       "dtype: int64"
      ]
     },
     "execution_count": 8,
     "metadata": {},
     "output_type": "execute_result"
    }
   ],
   "source": [
    "df.isna().sum()"
   ]
  },
  {
   "cell_type": "code",
   "execution_count": 9,
   "metadata": {},
   "outputs": [
    {
     "data": {
      "text/plain": [
       "1084"
      ]
     },
     "execution_count": 9,
     "metadata": {},
     "output_type": "execute_result"
    }
   ],
   "source": [
    "# Total players\n",
    "len(df['last_first'].unique())"
   ]
  },
  {
   "cell_type": "markdown",
   "metadata": {},
   "source": [
    "## Feature Engineering\n",
    "- 2 point shots separated into shots less than 10ft and greater or equal to 10ft\n",
    "- Average points per shot for the 3 distinct zones"
   ]
  },
  {
   "cell_type": "code",
   "execution_count": 10,
   "metadata": {},
   "outputs": [],
   "source": [
    "# Engineer FG2<10 columns\n",
    "df['FG2<10M'] = df['FG2M'] - df['FG2>=10M']\n",
    "df['FG2<10A'] = df['FG2A'] - df['FG2>=10A']"
   ]
  },
  {
   "cell_type": "code",
   "execution_count": 11,
   "metadata": {},
   "outputs": [],
   "source": [
    "df.drop(columns=['FG2M', 'FG2A'], inplace=True)"
   ]
  },
  {
   "cell_type": "code",
   "execution_count": 12,
   "metadata": {},
   "outputs": [],
   "source": [
    "# Set GP (games played) type to int for groupby aggregate functions\n",
    "df['GP'] = df['GP'].astype('int')"
   ]
  },
  {
   "cell_type": "code",
   "execution_count": 13,
   "metadata": {},
   "outputs": [
    {
     "name": "stderr",
     "output_type": "stream",
     "text": [
      "/Users/waynelam/nba/nba_player_pos/nba_venv/lib/python3.7/site-packages/ipykernel_launcher.py:1: FutureWarning: Indexing with multiple keys (implicitly converted to a tuple of keys) will be deprecated, use a list instead.\n",
      "  \"\"\"Entry point for launching an IPython kernel.\n"
     ]
    }
   ],
   "source": [
    "a = df.groupby('season')['FG3M', 'FG3A', 'FG2>=10M', 'FG2>=10A', 'FG2<10M', 'FG2<10A'].sum().reset_index()\n",
    "b = df.groupby('season')['GP'].mean().reset_index()\n",
    "\n",
    "# Make shooting percentages features for different shot zones\n",
    "a['3PCT'] = a['FG3M'] / a['FG3A']\n",
    "a['midPCT'] = a['FG2>=10M'] / a['FG2>=10A']\n",
    "a['shortPCT'] = a['FG2<10M'] / a['FG2<10A']\n",
    "\n",
    "# Add games played by season\n",
    "a = a.merge(b, on='season')\n",
    "\n",
    "# Make points per shot features\n",
    "a['3/G'] = a['FG3A'] / a['GP']\n",
    "a['mid/G'] = a['FG2>=10A'] / a['GP']\n",
    "a['short/G'] = a['FG2<10A'] / a['GP']\n",
    "a['3PPS'] = a['3PCT'] * 3\n",
    "a['shortPPS'] = a['shortPCT'] * 2\n",
    "a['midPPS'] = a['midPCT'] * 2"
   ]
  },
  {
   "cell_type": "markdown",
   "metadata": {},
   "source": [
    "### Note:\n",
    "- A normal NBA season has a total of 1230 games played.  Data is not available for games played in arenas without SportsVue cameras (in each season, several regular season games are played abroad or in neutral sites)."
   ]
  },
  {
   "cell_type": "code",
   "execution_count": 14,
   "metadata": {
    "scrolled": false
   },
   "outputs": [
    {
     "data": {
      "text/html": [
       "<div>\n",
       "<style scoped>\n",
       "    .dataframe tbody tr th:only-of-type {\n",
       "        vertical-align: middle;\n",
       "    }\n",
       "\n",
       "    .dataframe tbody tr th {\n",
       "        vertical-align: top;\n",
       "    }\n",
       "\n",
       "    .dataframe thead th {\n",
       "        text-align: right;\n",
       "    }\n",
       "</style>\n",
       "<table border=\"1\" class=\"dataframe\">\n",
       "  <thead>\n",
       "    <tr style=\"text-align: right;\">\n",
       "      <th></th>\n",
       "      <th>season</th>\n",
       "      <th>FG3M</th>\n",
       "      <th>FG3A</th>\n",
       "      <th>FG2&gt;=10M</th>\n",
       "      <th>FG2&gt;=10A</th>\n",
       "      <th>FG2&lt;10M</th>\n",
       "      <th>FG2&lt;10A</th>\n",
       "      <th>3PCT</th>\n",
       "      <th>midPCT</th>\n",
       "      <th>shortPCT</th>\n",
       "      <th>GP</th>\n",
       "      <th>3/G</th>\n",
       "      <th>mid/G</th>\n",
       "      <th>short/G</th>\n",
       "      <th>3PPS</th>\n",
       "      <th>shortPPS</th>\n",
       "      <th>midPPS</th>\n",
       "    </tr>\n",
       "  </thead>\n",
       "  <tbody>\n",
       "    <tr>\n",
       "      <th>0</th>\n",
       "      <td>2013-14</td>\n",
       "      <td>18962</td>\n",
       "      <td>52346</td>\n",
       "      <td>24150.0</td>\n",
       "      <td>59244.0</td>\n",
       "      <td>49281.0</td>\n",
       "      <td>80193.0</td>\n",
       "      <td>0.362244</td>\n",
       "      <td>0.407636</td>\n",
       "      <td>0.614530</td>\n",
       "      <td>1226</td>\n",
       "      <td>42.696574</td>\n",
       "      <td>48.323002</td>\n",
       "      <td>65.410277</td>\n",
       "      <td>1.086731</td>\n",
       "      <td>1.229060</td>\n",
       "      <td>0.815272</td>\n",
       "    </tr>\n",
       "    <tr>\n",
       "      <th>1</th>\n",
       "      <td>2014-15</td>\n",
       "      <td>19247</td>\n",
       "      <td>54588</td>\n",
       "      <td>23768.0</td>\n",
       "      <td>58168.0</td>\n",
       "      <td>49023.0</td>\n",
       "      <td>80493.0</td>\n",
       "      <td>0.352587</td>\n",
       "      <td>0.408610</td>\n",
       "      <td>0.609034</td>\n",
       "      <td>1227</td>\n",
       "      <td>44.488998</td>\n",
       "      <td>47.406683</td>\n",
       "      <td>65.601467</td>\n",
       "      <td>1.057760</td>\n",
       "      <td>1.218069</td>\n",
       "      <td>0.817219</td>\n",
       "    </tr>\n",
       "    <tr>\n",
       "      <th>2</th>\n",
       "      <td>2015-16</td>\n",
       "      <td>20914</td>\n",
       "      <td>58751</td>\n",
       "      <td>23183.0</td>\n",
       "      <td>56308.0</td>\n",
       "      <td>49795.0</td>\n",
       "      <td>80430.0</td>\n",
       "      <td>0.355977</td>\n",
       "      <td>0.411718</td>\n",
       "      <td>0.619110</td>\n",
       "      <td>1228</td>\n",
       "      <td>47.842834</td>\n",
       "      <td>45.853420</td>\n",
       "      <td>65.496743</td>\n",
       "      <td>1.067931</td>\n",
       "      <td>1.238220</td>\n",
       "      <td>0.823435</td>\n",
       "    </tr>\n",
       "    <tr>\n",
       "      <th>3</th>\n",
       "      <td>2016-17</td>\n",
       "      <td>23656</td>\n",
       "      <td>65747</td>\n",
       "      <td>21678.0</td>\n",
       "      <td>52033.0</td>\n",
       "      <td>50338.0</td>\n",
       "      <td>79900.0</td>\n",
       "      <td>0.359803</td>\n",
       "      <td>0.416620</td>\n",
       "      <td>0.630013</td>\n",
       "      <td>1226</td>\n",
       "      <td>53.627243</td>\n",
       "      <td>42.441272</td>\n",
       "      <td>65.171289</td>\n",
       "      <td>1.079410</td>\n",
       "      <td>1.260025</td>\n",
       "      <td>0.833240</td>\n",
       "    </tr>\n",
       "    <tr>\n",
       "      <th>4</th>\n",
       "      <td>2017-18</td>\n",
       "      <td>25585</td>\n",
       "      <td>70209</td>\n",
       "      <td>19505.0</td>\n",
       "      <td>46934.0</td>\n",
       "      <td>51546.0</td>\n",
       "      <td>81049.0</td>\n",
       "      <td>0.364412</td>\n",
       "      <td>0.415584</td>\n",
       "      <td>0.635986</td>\n",
       "      <td>1222</td>\n",
       "      <td>57.454173</td>\n",
       "      <td>38.407529</td>\n",
       "      <td>66.324877</td>\n",
       "      <td>1.093236</td>\n",
       "      <td>1.271971</td>\n",
       "      <td>0.831167</td>\n",
       "    </tr>\n",
       "    <tr>\n",
       "      <th>5</th>\n",
       "      <td>2018-19</td>\n",
       "      <td>27822</td>\n",
       "      <td>78395</td>\n",
       "      <td>17583.0</td>\n",
       "      <td>43194.0</td>\n",
       "      <td>55116.0</td>\n",
       "      <td>96689.0</td>\n",
       "      <td>0.354895</td>\n",
       "      <td>0.407070</td>\n",
       "      <td>0.570034</td>\n",
       "      <td>1226</td>\n",
       "      <td>63.943719</td>\n",
       "      <td>35.231648</td>\n",
       "      <td>78.865416</td>\n",
       "      <td>1.064685</td>\n",
       "      <td>1.140068</td>\n",
       "      <td>0.814141</td>\n",
       "    </tr>\n",
       "    <tr>\n",
       "      <th>6</th>\n",
       "      <td>2019-20</td>\n",
       "      <td>25671</td>\n",
       "      <td>71711</td>\n",
       "      <td>14140.0</td>\n",
       "      <td>34174.0</td>\n",
       "      <td>46046.0</td>\n",
       "      <td>80560.0</td>\n",
       "      <td>0.357979</td>\n",
       "      <td>0.413765</td>\n",
       "      <td>0.571574</td>\n",
       "      <td>1053</td>\n",
       "      <td>68.101614</td>\n",
       "      <td>32.453941</td>\n",
       "      <td>76.505223</td>\n",
       "      <td>1.073936</td>\n",
       "      <td>1.143148</td>\n",
       "      <td>0.827530</td>\n",
       "    </tr>\n",
       "  </tbody>\n",
       "</table>\n",
       "</div>"
      ],
      "text/plain": [
       "    season   FG3M   FG3A  FG2>=10M  FG2>=10A  FG2<10M  FG2<10A      3PCT  \\\n",
       "0  2013-14  18962  52346   24150.0   59244.0  49281.0  80193.0  0.362244   \n",
       "1  2014-15  19247  54588   23768.0   58168.0  49023.0  80493.0  0.352587   \n",
       "2  2015-16  20914  58751   23183.0   56308.0  49795.0  80430.0  0.355977   \n",
       "3  2016-17  23656  65747   21678.0   52033.0  50338.0  79900.0  0.359803   \n",
       "4  2017-18  25585  70209   19505.0   46934.0  51546.0  81049.0  0.364412   \n",
       "5  2018-19  27822  78395   17583.0   43194.0  55116.0  96689.0  0.354895   \n",
       "6  2019-20  25671  71711   14140.0   34174.0  46046.0  80560.0  0.357979   \n",
       "\n",
       "     midPCT  shortPCT    GP        3/G      mid/G    short/G      3PPS  \\\n",
       "0  0.407636  0.614530  1226  42.696574  48.323002  65.410277  1.086731   \n",
       "1  0.408610  0.609034  1227  44.488998  47.406683  65.601467  1.057760   \n",
       "2  0.411718  0.619110  1228  47.842834  45.853420  65.496743  1.067931   \n",
       "3  0.416620  0.630013  1226  53.627243  42.441272  65.171289  1.079410   \n",
       "4  0.415584  0.635986  1222  57.454173  38.407529  66.324877  1.093236   \n",
       "5  0.407070  0.570034  1226  63.943719  35.231648  78.865416  1.064685   \n",
       "6  0.413765  0.571574  1053  68.101614  32.453941  76.505223  1.073936   \n",
       "\n",
       "   shortPPS    midPPS  \n",
       "0  1.229060  0.815272  \n",
       "1  1.218069  0.817219  \n",
       "2  1.238220  0.823435  \n",
       "3  1.260025  0.833240  \n",
       "4  1.271971  0.831167  \n",
       "5  1.140068  0.814141  \n",
       "6  1.143148  0.827530  "
      ]
     },
     "execution_count": 14,
     "metadata": {},
     "output_type": "execute_result"
    }
   ],
   "source": [
    "a"
   ]
  },
  {
   "cell_type": "code",
   "execution_count": 15,
   "metadata": {},
   "outputs": [],
   "source": [
    "a.set_index('season', inplace=True)"
   ]
  },
  {
   "cell_type": "code",
   "execution_count": 16,
   "metadata": {},
   "outputs": [],
   "source": [
    "pps = a[['3PPS', 'midPPS', 'shortPPS']]\n",
    "atts = a[['3/G', 'mid/G', 'short/G']]"
   ]
  },
  {
   "cell_type": "code",
   "execution_count": 17,
   "metadata": {},
   "outputs": [
    {
     "data": {
      "text/html": [
       "<div>\n",
       "<style scoped>\n",
       "    .dataframe tbody tr th:only-of-type {\n",
       "        vertical-align: middle;\n",
       "    }\n",
       "\n",
       "    .dataframe tbody tr th {\n",
       "        vertical-align: top;\n",
       "    }\n",
       "\n",
       "    .dataframe thead th {\n",
       "        text-align: right;\n",
       "    }\n",
       "</style>\n",
       "<table border=\"1\" class=\"dataframe\">\n",
       "  <thead>\n",
       "    <tr style=\"text-align: right;\">\n",
       "      <th></th>\n",
       "      <th>3PPS</th>\n",
       "      <th>midPPS</th>\n",
       "      <th>shortPPS</th>\n",
       "    </tr>\n",
       "    <tr>\n",
       "      <th>season</th>\n",
       "      <th></th>\n",
       "      <th></th>\n",
       "      <th></th>\n",
       "    </tr>\n",
       "  </thead>\n",
       "  <tbody>\n",
       "    <tr>\n",
       "      <th>2013-14</th>\n",
       "      <td>1.086731</td>\n",
       "      <td>0.815272</td>\n",
       "      <td>1.229060</td>\n",
       "    </tr>\n",
       "    <tr>\n",
       "      <th>2014-15</th>\n",
       "      <td>1.057760</td>\n",
       "      <td>0.817219</td>\n",
       "      <td>1.218069</td>\n",
       "    </tr>\n",
       "    <tr>\n",
       "      <th>2015-16</th>\n",
       "      <td>1.067931</td>\n",
       "      <td>0.823435</td>\n",
       "      <td>1.238220</td>\n",
       "    </tr>\n",
       "    <tr>\n",
       "      <th>2016-17</th>\n",
       "      <td>1.079410</td>\n",
       "      <td>0.833240</td>\n",
       "      <td>1.260025</td>\n",
       "    </tr>\n",
       "    <tr>\n",
       "      <th>2017-18</th>\n",
       "      <td>1.093236</td>\n",
       "      <td>0.831167</td>\n",
       "      <td>1.271971</td>\n",
       "    </tr>\n",
       "    <tr>\n",
       "      <th>2018-19</th>\n",
       "      <td>1.064685</td>\n",
       "      <td>0.814141</td>\n",
       "      <td>1.140068</td>\n",
       "    </tr>\n",
       "    <tr>\n",
       "      <th>2019-20</th>\n",
       "      <td>1.073936</td>\n",
       "      <td>0.827530</td>\n",
       "      <td>1.143148</td>\n",
       "    </tr>\n",
       "  </tbody>\n",
       "</table>\n",
       "</div>"
      ],
      "text/plain": [
       "             3PPS    midPPS  shortPPS\n",
       "season                               \n",
       "2013-14  1.086731  0.815272  1.229060\n",
       "2014-15  1.057760  0.817219  1.218069\n",
       "2015-16  1.067931  0.823435  1.238220\n",
       "2016-17  1.079410  0.833240  1.260025\n",
       "2017-18  1.093236  0.831167  1.271971\n",
       "2018-19  1.064685  0.814141  1.140068\n",
       "2019-20  1.073936  0.827530  1.143148"
      ]
     },
     "execution_count": 17,
     "metadata": {},
     "output_type": "execute_result"
    }
   ],
   "source": [
    "pps"
   ]
  },
  {
   "cell_type": "code",
   "execution_count": 18,
   "metadata": {
    "scrolled": true
   },
   "outputs": [
    {
     "data": {
      "image/png": "[encoded data removed]",
      "text/plain": [
       "<Figure size 1080x360 with 2 Axes>"
      ]
     },
     "metadata": {
      "needs_background": "light"
     },
     "output_type": "display_data"
    }
   ],
   "source": [
    "fig, axs = plt.subplots(1, 2, figsize=(15,5))\n",
    "sns.lineplot(data=pps, ax=axs[0]).set_title('PPS by Season and Zone')\n",
    "sns.lineplot(data=atts, ax=axs[1]).set_title('FGA/G by Season and Zone')\n",
    "plt.show()"
   ]
  },
  {
   "cell_type": "markdown",
   "metadata": {},
   "source": [
    "### Notes:\n",
    "- Starting in the 2018-19 season, the shot clock reset to a 14 second shot clock instead of a 24 second shot clock.  This may have lead to more tightly guarded shots leading to lower FG% and PPS.\n",
    "- Further look: A/G for shot types by closest defender distance. "
   ]
  },
  {
   "cell_type": "code",
   "execution_count": 19,
   "metadata": {},
   "outputs": [
    {
     "name": "stderr",
     "output_type": "stream",
     "text": [
      "/Users/waynelam/nba/nba_player_pos/nba_venv/lib/python3.7/site-packages/ipykernel_launcher.py:2: FutureWarning: Indexing with multiple keys (implicitly converted to a tuple of keys) will be deprecated, use a list instead.\n",
      "  \n"
     ]
    }
   ],
   "source": [
    "# Group season and closest defender, merge games played\n",
    "c = df.groupby(['season', 'closest_def'])['FG3A', 'FG2>=10A', 'FG2<10A'].sum().reset_index()\n",
    "d = df.groupby(['season', 'closest_def'])['GP'].mean().reset_index()\n",
    "c = c.merge(d, on=['season', 'closest_def'])\n",
    "\n",
    "# Create attempts/game feature\n",
    "c['3A/G'] = c['FG3A'] / c['GP']\n",
    "c['midA/G'] = c['FG2>=10A'] / c['GP']\n",
    "c['shortA/G'] = c['FG2<10A'] / c['GP']"
   ]
  },
  {
   "cell_type": "code",
   "execution_count": 20,
   "metadata": {},
   "outputs": [
    {
     "data": {
      "text/html": [
       "<div>\n",
       "<style scoped>\n",
       "    .dataframe tbody tr th:only-of-type {\n",
       "        vertical-align: middle;\n",
       "    }\n",
       "\n",
       "    .dataframe tbody tr th {\n",
       "        vertical-align: top;\n",
       "    }\n",
       "\n",
       "    .dataframe thead th {\n",
       "        text-align: right;\n",
       "    }\n",
       "</style>\n",
       "<table border=\"1\" class=\"dataframe\">\n",
       "  <thead>\n",
       "    <tr style=\"text-align: right;\">\n",
       "      <th></th>\n",
       "      <th>season</th>\n",
       "      <th>closest_def</th>\n",
       "      <th>3A/G</th>\n",
       "      <th>midA/G</th>\n",
       "      <th>shortA/G</th>\n",
       "    </tr>\n",
       "  </thead>\n",
       "  <tbody>\n",
       "    <tr>\n",
       "      <th>0</th>\n",
       "      <td>2013-14</td>\n",
       "      <td>0-2 Feet - Very Tight</td>\n",
       "      <td>0.637847</td>\n",
       "      <td>2.956770</td>\n",
       "      <td>24.637847</td>\n",
       "    </tr>\n",
       "    <tr>\n",
       "      <th>1</th>\n",
       "      <td>2013-14</td>\n",
       "      <td>2-4 Feet - Tight</td>\n",
       "      <td>5.281403</td>\n",
       "      <td>15.937194</td>\n",
       "      <td>30.188418</td>\n",
       "    </tr>\n",
       "    <tr>\n",
       "      <th>2</th>\n",
       "      <td>2013-14</td>\n",
       "      <td>4-6 Feet - Open</td>\n",
       "      <td>15.400489</td>\n",
       "      <td>18.767537</td>\n",
       "      <td>8.049755</td>\n",
       "    </tr>\n",
       "    <tr>\n",
       "      <th>3</th>\n",
       "      <td>2013-14</td>\n",
       "      <td>6+ Feet - Wide Open</td>\n",
       "      <td>21.376835</td>\n",
       "      <td>10.661501</td>\n",
       "      <td>2.534258</td>\n",
       "    </tr>\n",
       "    <tr>\n",
       "      <th>4</th>\n",
       "      <td>2014-15</td>\n",
       "      <td>0-2 Feet - Very Tight</td>\n",
       "      <td>0.661777</td>\n",
       "      <td>2.828851</td>\n",
       "      <td>24.048900</td>\n",
       "    </tr>\n",
       "  </tbody>\n",
       "</table>\n",
       "</div>"
      ],
      "text/plain": [
       "    season            closest_def       3A/G     midA/G   shortA/G\n",
       "0  2013-14  0-2 Feet - Very Tight   0.637847   2.956770  24.637847\n",
       "1  2013-14       2-4 Feet - Tight   5.281403  15.937194  30.188418\n",
       "2  2013-14        4-6 Feet - Open  15.400489  18.767537   8.049755\n",
       "3  2013-14    6+ Feet - Wide Open  21.376835  10.661501   2.534258\n",
       "4  2014-15  0-2 Feet - Very Tight   0.661777   2.828851  24.048900"
      ]
     },
     "execution_count": 20,
     "metadata": {},
     "output_type": "execute_result"
    }
   ],
   "source": [
    "# Keep relevent data\n",
    "c = c[['season', 'closest_def', '3A/G', 'midA/G', 'shortA/G']]\n",
    "c.head()"
   ]
  },
  {
   "cell_type": "code",
   "execution_count": 21,
   "metadata": {},
   "outputs": [
    {
     "data": {
      "text/html": [
       "<div>\n",
       "<style scoped>\n",
       "    .dataframe tbody tr th:only-of-type {\n",
       "        vertical-align: middle;\n",
       "    }\n",
       "\n",
       "    .dataframe tbody tr th {\n",
       "        vertical-align: top;\n",
       "    }\n",
       "\n",
       "    .dataframe thead th {\n",
       "        text-align: right;\n",
       "    }\n",
       "</style>\n",
       "<table border=\"1\" class=\"dataframe\">\n",
       "  <thead>\n",
       "    <tr style=\"text-align: right;\">\n",
       "      <th></th>\n",
       "      <th>season</th>\n",
       "      <th>closest_def</th>\n",
       "      <th>shot_type</th>\n",
       "      <th>A/G</th>\n",
       "    </tr>\n",
       "  </thead>\n",
       "  <tbody>\n",
       "    <tr>\n",
       "      <th>0</th>\n",
       "      <td>2013-14</td>\n",
       "      <td>0-2 Feet - Very Tight</td>\n",
       "      <td>three</td>\n",
       "      <td>0.637847</td>\n",
       "    </tr>\n",
       "    <tr>\n",
       "      <th>1</th>\n",
       "      <td>2013-14</td>\n",
       "      <td>2-4 Feet - Tight</td>\n",
       "      <td>three</td>\n",
       "      <td>5.281403</td>\n",
       "    </tr>\n",
       "    <tr>\n",
       "      <th>2</th>\n",
       "      <td>2013-14</td>\n",
       "      <td>4-6 Feet - Open</td>\n",
       "      <td>three</td>\n",
       "      <td>15.400489</td>\n",
       "    </tr>\n",
       "    <tr>\n",
       "      <th>3</th>\n",
       "      <td>2013-14</td>\n",
       "      <td>6+ Feet - Wide Open</td>\n",
       "      <td>three</td>\n",
       "      <td>21.376835</td>\n",
       "    </tr>\n",
       "    <tr>\n",
       "      <th>4</th>\n",
       "      <td>2014-15</td>\n",
       "      <td>0-2 Feet - Very Tight</td>\n",
       "      <td>three</td>\n",
       "      <td>0.661777</td>\n",
       "    </tr>\n",
       "  </tbody>\n",
       "</table>\n",
       "</div>"
      ],
      "text/plain": [
       "    season            closest_def shot_type        A/G\n",
       "0  2013-14  0-2 Feet - Very Tight     three   0.637847\n",
       "1  2013-14       2-4 Feet - Tight     three   5.281403\n",
       "2  2013-14        4-6 Feet - Open     three  15.400489\n",
       "3  2013-14    6+ Feet - Wide Open     three  21.376835\n",
       "4  2014-15  0-2 Feet - Very Tight     three   0.661777"
      ]
     },
     "execution_count": 21,
     "metadata": {},
     "output_type": "execute_result"
    }
   ],
   "source": [
    "# Convert data from wide to long format\n",
    "atts_def = pd.melt(\n",
    "    c,\n",
    "    id_vars=['season', 'closest_def'],\n",
    "    value_vars=['3A/G', 'midA/G', 'shortA/G'],\n",
    "    var_name='shot_type',\n",
    "    value_name='A/G',\n",
    ")\n",
    "\n",
    "# Rename shot types\n",
    "atts_def['shot_type'] = atts_def['shot_type'].map({'3A/G': 'three', 'midA/G': 'midrange', 'shortA/G': 'short'})\n",
    "atts_def.head()"
   ]
  },
  {
   "cell_type": "code",
   "execution_count": 56,
   "metadata": {},
   "outputs": [
    {
     "data": {
      "image/png": "[encoded data removed]",
      "text/plain": [
       "<Figure size 732x648 with 4 Axes>"
      ]
     },
     "metadata": {
      "needs_background": "light"
     },
     "output_type": "display_data"
    }
   ],
   "source": [
    "g = sns.FacetGrid(atts_def, col='closest_def', col_wrap=2, hue='shot_type', height=4.5)\n",
    "g.map(sns.lineplot, 'season', 'A/G')\n",
    "g.add_legend()\n",
    "plt.subplots_adjust(top=0.9)\n",
    "g.fig.suptitle('Shots Attempts by Season and Closest Defender')\n",
    "plt.show()"
   ]
  },
  {
   "cell_type": "markdown",
   "metadata": {},
   "source": [
    "### Notes:\n",
    "- There has been an increasing number of tightly guarded short 2s and 3s; however, there has been a drastically increasing number of open to wide open 3s being attempted.  The previously observed decrease in PPS for close range shots may be a result of increased defensive presence closer to the basket or offenses forcing shots close to the basket regardless of defensive pressure.\n",
    "- In the ```pps_init_eda.ipynb``` notebook the analysis of PPS by defender distance between midrange shots and 3-point shots indicated that PPS scales linearly with closest defender distance (greater closest defender distance results in greater PPS).  With this in mind, a substantial increase in open to wide open 3-point shot attempts should result in an increase in PPS for all 3-point attempts, this does not appear to be the case.\n",
    "- Further look: which players are taking the shots, i.e. are teams making bad 3-point shooters take more 3-point shots because data tells them 3-point shots are better gambles with respect to PPS?"
   ]
  },
  {
   "cell_type": "markdown",
   "metadata": {},
   "source": [
    "## EDA and Insights\n",
    "### The subset of players who should take more midrange shots\n",
    "- Are bad 3-point shooters taking more 3-pointers than they should?  As defined by 3-point shooters with lower 3-point PPS than midrange PPS."
   ]
  },
  {
   "cell_type": "code",
   "execution_count": 312,
   "metadata": {},
   "outputs": [
    {
     "name": "stderr",
     "output_type": "stream",
     "text": [
      "/Users/waynelam/nba/nba_player_pos/nba_venv/lib/python3.7/site-packages/ipykernel_launcher.py:2: FutureWarning:\n",
      "\n",
      "Indexing with multiple keys (implicitly converted to a tuple of keys) will be deprecated, use a list instead.\n",
      "\n"
     ]
    }
   ],
   "source": [
    "# Create subset of shooters that have lower 3-point PPS than midrange PPS in a season\n",
    "df2 = df.groupby(['last_first', 'season'])['FG2<10M', 'FG2<10A','FG2>=10M', 'FG2>=10A', 'FG3M', 'FG3A'].sum().reset_index()\n",
    "df2 = df2.loc[(df2['FG3A'] > 0) & (df2['FG2>=10A'] > 0)]\n",
    "df2 = df2.loc[(3 * df2['FG3M'] / df2['FG3A']) < (2 * df2['FG2>=10M'] / df2['FG2>=10A'])]"
   ]
  },
  {
   "cell_type": "code",
   "execution_count": 313,
   "metadata": {},
   "outputs": [
    {
     "data": {
      "text/html": [
       "<div>\n",
       "<style scoped>\n",
       "    .dataframe tbody tr th:only-of-type {\n",
       "        vertical-align: middle;\n",
       "    }\n",
       "\n",
       "    .dataframe tbody tr th {\n",
       "        vertical-align: top;\n",
       "    }\n",
       "\n",
       "    .dataframe thead th {\n",
       "        text-align: right;\n",
       "    }\n",
       "</style>\n",
       "<table border=\"1\" class=\"dataframe\">\n",
       "  <thead>\n",
       "    <tr style=\"text-align: right;\">\n",
       "      <th></th>\n",
       "      <th>last_first</th>\n",
       "      <th>season</th>\n",
       "      <th>FG2&lt;10M</th>\n",
       "      <th>FG2&lt;10A</th>\n",
       "      <th>FG2&gt;=10M</th>\n",
       "      <th>FG2&gt;=10A</th>\n",
       "      <th>FG3M</th>\n",
       "      <th>FG3A</th>\n",
       "    </tr>\n",
       "  </thead>\n",
       "  <tbody>\n",
       "    <tr>\n",
       "      <th>2</th>\n",
       "      <td>Abrines, Alex</td>\n",
       "      <td>2018-19</td>\n",
       "      <td>10.0</td>\n",
       "      <td>20.0</td>\n",
       "      <td>5.0</td>\n",
       "      <td>10.0</td>\n",
       "      <td>41</td>\n",
       "      <td>127</td>\n",
       "    </tr>\n",
       "    <tr>\n",
       "      <th>11</th>\n",
       "      <td>Adams, Jordan</td>\n",
       "      <td>2015-16</td>\n",
       "      <td>1.0</td>\n",
       "      <td>2.0</td>\n",
       "      <td>1.0</td>\n",
       "      <td>3.0</td>\n",
       "      <td>0</td>\n",
       "      <td>1</td>\n",
       "    </tr>\n",
       "    <tr>\n",
       "      <th>13</th>\n",
       "      <td>Adams, Steven</td>\n",
       "      <td>2014-15</td>\n",
       "      <td>209.0</td>\n",
       "      <td>351.0</td>\n",
       "      <td>5.0</td>\n",
       "      <td>15.0</td>\n",
       "      <td>0</td>\n",
       "      <td>2</td>\n",
       "    </tr>\n",
       "    <tr>\n",
       "      <th>15</th>\n",
       "      <td>Adams, Steven</td>\n",
       "      <td>2016-17</td>\n",
       "      <td>353.0</td>\n",
       "      <td>554.0</td>\n",
       "      <td>21.0</td>\n",
       "      <td>56.0</td>\n",
       "      <td>0</td>\n",
       "      <td>1</td>\n",
       "    </tr>\n",
       "    <tr>\n",
       "      <th>16</th>\n",
       "      <td>Adams, Steven</td>\n",
       "      <td>2017-18</td>\n",
       "      <td>419.0</td>\n",
       "      <td>604.0</td>\n",
       "      <td>23.0</td>\n",
       "      <td>46.0</td>\n",
       "      <td>0</td>\n",
       "      <td>2</td>\n",
       "    </tr>\n",
       "  </tbody>\n",
       "</table>\n",
       "</div>"
      ],
      "text/plain": [
       "       last_first   season  FG2<10M  FG2<10A  FG2>=10M  FG2>=10A  FG3M  FG3A\n",
       "2   Abrines, Alex  2018-19     10.0     20.0       5.0      10.0    41   127\n",
       "11  Adams, Jordan  2015-16      1.0      2.0       1.0       3.0     0     1\n",
       "13  Adams, Steven  2014-15    209.0    351.0       5.0      15.0     0     2\n",
       "15  Adams, Steven  2016-17    353.0    554.0      21.0      56.0     0     1\n",
       "16  Adams, Steven  2017-18    419.0    604.0      23.0      46.0     0     2"
      ]
     },
     "execution_count": 313,
     "metadata": {},
     "output_type": "execute_result"
    }
   ],
   "source": [
    "df2.head()"
   ]
  },
  {
   "cell_type": "code",
   "execution_count": 314,
   "metadata": {},
   "outputs": [
    {
     "data": {
      "text/plain": [
       "421"
      ]
     },
     "execution_count": 314,
     "metadata": {},
     "output_type": "execute_result"
    }
   ],
   "source": [
    "# Number of players in 2013-14 to 2019-20 seasons with 3-point PPS < midrange PPS\n",
    "len(df2['last_first'].unique())"
   ]
  },
  {
   "cell_type": "code",
   "execution_count": 315,
   "metadata": {},
   "outputs": [
    {
     "name": "stderr",
     "output_type": "stream",
     "text": [
      "/Users/waynelam/nba/nba_player_pos/nba_venv/lib/python3.7/site-packages/ipykernel_launcher.py:2: FutureWarning:\n",
      "\n",
      "Indexing with multiple keys (implicitly converted to a tuple of keys) will be deprecated, use a list instead.\n",
      "\n"
     ]
    }
   ],
   "source": [
    "# Number of 3-point attempts per season\n",
    "data = df2.groupby('season')['FG2<10A', 'FG2>=10A', 'FG3A'].sum().reset_index()\n",
    "\n",
    "# Engineer features for attempts per game\n",
    "data = data.merge(df.groupby('season')['GP'].mean().reset_index(), on='season')\n",
    "data['3/G'] = data['FG3A'] / data['GP']\n",
    "data['midrange/G'] = data['FG2>=10A'] / data['GP']\n",
    "data['short/G'] = data['FG2<10A'] / data['GP']\n",
    "data = data[['season', '3/G', 'midrange/G', 'short/G']]"
   ]
  },
  {
   "cell_type": "code",
   "execution_count": 316,
   "metadata": {},
   "outputs": [],
   "source": [
    "# Convert data from wide to long\n",
    "data = pd.melt(\n",
    "    data,\n",
    "    id_vars='season',\n",
    "    value_vars=['3/G', 'midrange/G', 'short/G'],\n",
    "    var_name='shot_type',\n",
    "    value_name='A/G'\n",
    ")\n",
    "\n",
    "# Rename shot types\n",
    "data['shot_type'] = data['shot_type'].map({'3/G': '3-pointer', 'midrange/G': 'midrange 2', 'short/G': 'short 2'})"
   ]
  },
  {
   "cell_type": "code",
   "execution_count": 317,
   "metadata": {},
   "outputs": [
    {
     "data": {
      "image/png": "[encoded data removed]",
      "text/plain": [
       "<Figure size 432x288 with 1 Axes>"
      ]
     },
     "metadata": {},
     "output_type": "display_data"
    }
   ],
   "source": [
    "sns.lineplot(data=data, x='season', y='A/G', hue='shot_type')\n",
    "plt.title('Shots per Game')\n",
    "plt.xlabel('NBA Season')\n",
    "plt.ylabel('Attempts per Game')\n",
    "plt.show()"
   ]
  },
  {
   "cell_type": "code",
   "execution_count": 319,
   "metadata": {},
   "outputs": [
    {
     "name": "stdout",
     "output_type": "stream",
     "text": [
      "3-point PPS: 0.7892642377078174\n",
      "Midrange PPS: 0.8491567316080256\n",
      "Short 2 PPS: 1.2465410817593114\n"
     ]
    }
   ],
   "source": [
    "# Overall PPS by shot over multiple seasons\n",
    "three_pps = df2['FG3M'].sum() / df2['FG3A'].sum() * 3\n",
    "mid_pps = df2['FG2>=10M'].sum() / df2['FG2>=10A'].sum() * 2\n",
    "short_pps = df2['FG2<10M'].sum() / df2['FG2<10A'].sum() * 2\n",
    "print('3-point PPS:', three_pps)\n",
    "print('Midrange PPS:', mid_pps)\n",
    "print('Short 2 PPS:', short_pps)"
   ]
  },
  {
   "cell_type": "code",
   "execution_count": 323,
   "metadata": {},
   "outputs": [],
   "source": [
    "short_pps_sea = (2 * df2.groupby('season')['FG2<10M'].sum() /df2.groupby('season')['FG2<10A'].sum()).reset_index()\n",
    "mid_pps_sea = (2 * df2.groupby('season')['FG2>=10M'].sum() / df2.groupby('season')['FG2>=10A'].sum()).reset_index()\n",
    "three_pps_sea = (3 * df2.groupby('season')['FG3M'].sum() /df2.groupby('season')['FG3A'].sum()).reset_index()"
   ]
  },
  {
   "cell_type": "code",
   "execution_count": 324,
   "metadata": {},
   "outputs": [],
   "source": [
    "data = pd.merge(short_pps_sea, mid_pps_sea, on='season')\n",
    "data = pd.merge(data, three_pps_sea, on='season')"
   ]
  },
  {
   "cell_type": "code",
   "execution_count": 327,
   "metadata": {},
   "outputs": [],
   "source": [
    "data.columns = ['season', 'short_PPS', 'mid_PPS', 'three_PPS']"
   ]
  },
  {
   "cell_type": "code",
   "execution_count": 328,
   "metadata": {},
   "outputs": [],
   "source": [
    "data = pd.melt(\n",
    "    data,\n",
    "    id_vars='season',\n",
    "    value_vars=['short_PPS', 'mid_PPS', 'three_PPS'],\n",
    "    var_name='shot_type',\n",
    "    value_name='PPS'\n",
    ")"
   ]
  },
  {
   "cell_type": "code",
   "execution_count": 329,
   "metadata": {},
   "outputs": [
    {
     "data": {
      "image/png": "[encoded data removed]",
      "text/plain": [
       "<Figure size 432x288 with 1 Axes>"
      ]
     },
     "metadata": {},
     "output_type": "display_data"
    }
   ],
   "source": [
    "sns.lineplot(data=data, x='season', y='PPS', hue='shot_type')\n",
    "plt.title('PPS by Season and Shot Type')\n",
    "plt.show()"
   ]
  },
  {
   "cell_type": "code",
   "execution_count": 298,
   "metadata": {},
   "outputs": [],
   "source": [
    "better_mid = list(df2['last_first'].unique())"
   ]
  },
  {
   "cell_type": "code",
   "execution_count": 300,
   "metadata": {},
   "outputs": [],
   "source": [
    "df_subset = df.loc[df['last_first'].isin(better_mid)]"
   ]
  },
  {
   "cell_type": "code",
   "execution_count": 301,
   "metadata": {},
   "outputs": [
    {
     "name": "stderr",
     "output_type": "stream",
     "text": [
      "/Users/waynelam/nba/nba_player_pos/nba_venv/lib/python3.7/site-packages/ipykernel_launcher.py:2: FutureWarning:\n",
      "\n",
      "Indexing with multiple keys (implicitly converted to a tuple of keys) will be deprecated, use a list instead.\n",
      "\n"
     ]
    }
   ],
   "source": [
    "# Group season and closest defender, merge games played\n",
    "c = df_subset.groupby(['season', 'closest_def'])['FG3A', 'FG2>=10A', 'FG2<10A'].sum().reset_index()\n",
    "d = df_subset.groupby(['season', 'closest_def'])['GP'].mean().reset_index()\n",
    "c = c.merge(d, on=['season', 'closest_def'])\n",
    "\n",
    "# Create attempts/game feature\n",
    "c['3A/G'] = c['FG3A'] / c['GP']\n",
    "c['midA/G'] = c['FG2>=10A'] / c['GP']\n",
    "c['shortA/G'] = c['FG2<10A'] / c['GP']"
   ]
  },
  {
   "cell_type": "code",
   "execution_count": 309,
   "metadata": {},
   "outputs": [],
   "source": [
    "data = pd.melt(\n",
    "    c,\n",
    "    id_vars=['season', 'closest_def'],\n",
    "    value_vars=['3A/G', 'midA/G', 'shortA/G'],\n",
    "    var_name='shot_type',\n",
    "    value_name='A/G',\n",
    ")"
   ]
  },
  {
   "cell_type": "code",
   "execution_count": 311,
   "metadata": {},
   "outputs": [
    {
     "data": {
      "image/png": "[encoded data removed]",
      "text/plain": [
       "<Figure size 731.1x648 with 4 Axes>"
      ]
     },
     "metadata": {},
     "output_type": "display_data"
    }
   ],
   "source": [
    "g = sns.FacetGrid(data, col='closest_def', col_wrap=2, hue='shot_type', height=4.5)\n",
    "g.map(sns.lineplot, 'season', 'A/G')\n",
    "g.add_legend()\n",
    "plt.subplots_adjust(top=0.9)\n",
    "g.fig.suptitle('Shots Attempts by Season and Closest Defender')\n",
    "plt.show()"
   ]
  },
  {
   "cell_type": "markdown",
   "metadata": {},
   "source": [
    "### Notes:\n",
    "- Shooters who are better midrange shooters than 3-point shooters (by PPS) have been taking an increasing number of 3s per game while taking fewer midrange 2 point shots.\n",
    "- It appears the increase in open and wide open 3-point shots has increased the 3-pointer PPS for these players; however, the midrange 2 is still a better option for this subset of players.\n",
    "- In this subset of players, there has been a marked decrease in PPS for short 2s (as with the entire set of NBA players).  The number of close range field goal attempts while being tightly guarded has gone up (defenses \"packing the paint\")."
   ]
  },
  {
   "cell_type": "markdown",
   "metadata": {},
   "source": [
    "## Conclusions:\n",
    "- There is a subset of players who are better midrange shooters than 3-point shooters with respect to points per shot (PPS).\n",
    "- While the 3-point PPS for these players has increased by taking more open to wide open 3s, their 3-pointer PPS still lags behind their midrange PPS.\n",
    "- Teams may benefit from allowing these players to take a few steps inside the 3 point arc before a shot."
   ]
  },
  {
   "cell_type": "code",
   "execution_count": null,
   "metadata": {},
   "outputs": [],
   "source": []
  }
 ],
 "metadata": {
  "kernelspec": {
   "display_name": "nba_venv",
   "language": "python",
   "name": "nba_venv"
  },
  "language_info": {
   "codemirror_mode": {
    "name": "ipython",
    "version": 3
   },
   "file_extension": ".py",
   "mimetype": "text/x-python",
   "name": "python",
   "nbconvert_exporter": "python",
   "pygments_lexer": "ipython3",
   "version": "3.7.7"
  }
 },
 "nbformat": 4,
 "nbformat_minor": 4
}
