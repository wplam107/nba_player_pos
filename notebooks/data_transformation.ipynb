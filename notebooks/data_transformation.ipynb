{
 "cells": [
  {
   "cell_type": "markdown",
   "metadata": {},
   "source": [
    "# Transforming NBA Shooting Data by Player"
   ]
  },
  {
   "cell_type": "code",
   "execution_count": 243,
   "metadata": {},
   "outputs": [],
   "source": [
    "import numpy as np\n",
    "import pandas as pd\n",
    "import pickle\n",
    "\n",
    "import plotly.graph_objects as go\n",
    "import plotly.express as px\n",
    "\n",
    "from nba_api.stats.endpoints.playerdashptshots import PlayerDashPtShots\n",
    "from nba_api.stats.endpoints.playerprofilev2 import PlayerProfileV2\n",
    "\n",
    "from functions import *"
   ]
  },
  {
   "cell_type": "markdown",
   "metadata": {},
   "source": [
    "## Transforming NBA API Data\n",
    "- Engineer points per shot (PPS) and FG2 < 10ft columns\n",
    "- Add games played and team(s) columns to player (by season)"
   ]
  },
  {
   "cell_type": "code",
   "execution_count": 8,
   "metadata": {},
   "outputs": [],
   "source": [
    "seasons = [\n",
    "    '2013-14',\n",
    "    '2014-15',\n",
    "    '2015-16',\n",
    "    '2016-17',\n",
    "    '2017-18',\n",
    "    '2018-19',\n",
    "    '2019-20',\n",
    "]"
   ]
  },
  {
   "cell_type": "code",
   "execution_count": 151,
   "metadata": {},
   "outputs": [],
   "source": [
    "overall = shooting_by_seasons(seasons, 4)\n",
    "tenplus = shooting_by_seasons(seasons, 5)"
   ]
  },
  {
   "cell_type": "code",
   "execution_count": 168,
   "metadata": {},
   "outputs": [],
   "source": [
    "with open('overall.p', 'rb') as f:\n",
    "    overall = pickle.load(f)\n",
    "\n",
    "with open('tenplus.p', 'rb') as f:\n",
    "    tenplus = pickle.load(f)"
   ]
  },
  {
   "cell_type": "code",
   "execution_count": 172,
   "metadata": {
    "scrolled": true
   },
   "outputs": [],
   "source": [
    "# Rename columns\n",
    "overall.rename(\n",
    "    columns={\n",
    "        'PLAYER_ID': 'player_id',\n",
    "        'PLAYER_NAME_LAST_FIRST': 'last_first',\n",
    "        'CLOSE_DEF_DIST_RANGE': 'closest_def',\n",
    "        'FG3M': 'threeM',\n",
    "        'FG3A': 'threeA',\n",
    "    },\n",
    "    inplace=True\n",
    ")\n",
    "\n",
    "tenplus.rename(\n",
    "    columns={\n",
    "        'PLAYER_ID': 'player_id',\n",
    "        'PLAYER_NAME_LAST_FIRST': 'last_first',\n",
    "        'CLOSE_DEF_DIST_RANGE': 'closest_def',\n",
    "        'FG2>=10M': 'midM',\n",
    "        'FG2>=10A': 'midA',\n",
    "    },\n",
    "    inplace=True\n",
    ")"
   ]
  },
  {
   "cell_type": "code",
   "execution_count": 174,
   "metadata": {},
   "outputs": [],
   "source": [
    "# Keep relevant data\n",
    "overall = overall[['player_id', 'last_first', 'season', 'closest_def', 'FG2M', 'FG2A', 'threeM', 'threeA']]\n",
    "tenplus = tenplus[['player_id', 'last_first', 'season', 'closest_def', 'midM', 'midA']]"
   ]
  },
  {
   "cell_type": "code",
   "execution_count": 177,
   "metadata": {},
   "outputs": [],
   "source": [
    "df = pd.merge(overall, tenplus, how='left', on=['player_id', 'last_first', 'season', 'closest_def'])"
   ]
  },
  {
   "cell_type": "code",
   "execution_count": 179,
   "metadata": {},
   "outputs": [],
   "source": [
    "# Deal with NaN values\n",
    "df['midM'] = np.where(df['midM'].isna(), 0, df['midM'])\n",
    "df['midA'] = np.where(df['midA'].isna(), 0, df['midA'])"
   ]
  },
  {
   "cell_type": "code",
   "execution_count": 181,
   "metadata": {},
   "outputs": [],
   "source": [
    "# Create FG2<10 columns\n",
    "df['shortM'] = df['FG2M'] - df['midM']\n",
    "df['shortA'] = df['FG2A'] - df['midA']\n",
    "\n",
    "# Drop old columns\n",
    "df.drop(columns=['FG2M', 'FG2A'], inplace=True)"
   ]
  },
  {
   "cell_type": "code",
   "execution_count": 183,
   "metadata": {},
   "outputs": [],
   "source": [
    "# Create PPS columns\n",
    "df['threePPS'] = 3 * df['threeM'] / df['threeA']\n",
    "df['midPPS'] = 2 * df['midM'] / df['midA']\n",
    "df['shortPPS'] = 2 * df['shortM'] / df['shortA']"
   ]
  },
  {
   "cell_type": "code",
   "execution_count": 185,
   "metadata": {},
   "outputs": [],
   "source": [
    "# Deal with NaN values\n",
    "df['threePPS'] = np.where(df['threePPS'].isna(), 0, df['threePPS'])\n",
    "df['midPPS'] = np.where(df['midPPS'].isna(), 0, df['midPPS'])\n",
    "df['shortPPS'] = np.where(df['shortPPS'].isna(), 0, df['shortPPS'])"
   ]
  },
  {
   "cell_type": "code",
   "execution_count": 162,
   "metadata": {},
   "outputs": [],
   "source": [
    "# All players in seasons\n",
    "players = list(df['player_id'].unique())"
   ]
  },
  {
   "cell_type": "code",
   "execution_count": 101,
   "metadata": {},
   "outputs": [],
   "source": [
    "def _split_teams(team):\n",
    "    l = len(team)\n",
    "    splits = [ (3*i, 3*i + 3) for i in range(int(l/3)) ]\n",
    "    teams = [ team[split[0]:split[1]] for split in splits ]\n",
    "    return teams"
   ]
  },
  {
   "cell_type": "code",
   "execution_count": 132,
   "metadata": {
    "scrolled": true
   },
   "outputs": [],
   "source": [
    "# Helper function to get teams and games played by season for players\n",
    "def _get_team_gp(player_id):\n",
    "    temp = PlayerProfileV2(player_id).get_data_frames()[0]\n",
    "    temp = temp.loc[\n",
    "        (temp['SEASON_ID'].isin(seasons))& # Seasons with shooting data\n",
    "        (temp['TEAM_ABBREVIATION'] != 'TOT')& # Remove season totals (total data not complete)\n",
    "        (temp['LEAGUE_ID'] == '00') # Only keep NBA teams\n",
    "    ]\n",
    "    teams = temp.groupby('SEASON_ID')['TEAM_ABBREVIATION'].sum()\n",
    "    teams = teams.map(_split_teams)\n",
    "    gp = temp.groupby('SEASON_ID')['GP'].sum()\n",
    "    temp = pd.concat([teams, gp], axis=1).reset_index()\n",
    "    temp['player_id'] = player_id\n",
    "    temp.rename(columns={'SEASON_ID': 'season', 'TEAM_ABBREVIATION': 'team_ab'}, inplace=True)\n",
    "    return temp"
   ]
  },
  {
   "cell_type": "code",
   "execution_count": 134,
   "metadata": {},
   "outputs": [],
   "source": [
    "gp_list = [ _get_team_gp(player) for player in players ]"
   ]
  },
  {
   "cell_type": "code",
   "execution_count": 137,
   "metadata": {},
   "outputs": [],
   "source": [
    "temp_df = pd.concat(gp_list)"
   ]
  },
  {
   "cell_type": "code",
   "execution_count": 138,
   "metadata": {},
   "outputs": [],
   "source": [
    "with open('temp_df.p', 'wb') as f:\n",
    "    pickle.dump(temp_df, f)"
   ]
  },
  {
   "cell_type": "code",
   "execution_count": 187,
   "metadata": {},
   "outputs": [],
   "source": [
    "team_gp = temp_df.set_index(['season', 'player_id']).to_dict()"
   ]
  },
  {
   "cell_type": "code",
   "execution_count": 218,
   "metadata": {
    "scrolled": false
   },
   "outputs": [],
   "source": [
    "# Create season, player_id tuple\n",
    "temp = df.apply(lambda x: (x['season'], x['player_id']), axis=1)\n",
    "\n",
    "# Map teams and games played from tuple\n",
    "df['teams'] = temp.map(team_gp['team_ab'])\n",
    "df['GP'] = temp.map(team_gp['GP'])"
   ]
  },
  {
   "cell_type": "markdown",
   "metadata": {},
   "source": [
    "## Shooting Analysis by Player"
   ]
  },
  {
   "cell_type": "code",
   "execution_count": 358,
   "metadata": {
    "scrolled": true
   },
   "outputs": [
    {
     "name": "stderr",
     "output_type": "stream",
     "text": [
      "/Users/waynelam/nba/nba_player_pos/nba_venv/lib/python3.7/site-packages/ipykernel_launcher.py:2: FutureWarning:\n",
      "\n",
      "Indexing with multiple keys (implicitly converted to a tuple of keys) will be deprecated, use a list instead.\n",
      "\n"
     ]
    }
   ],
   "source": [
    "# Group by player (across 2013-14 to 2019-20 seasons)\n",
    "by_player = df.groupby('last_first')['threeM', 'threeA', 'midM', 'midA', 'shortM', 'shortA'].sum()"
   ]
  },
  {
   "cell_type": "code",
   "execution_count": 359,
   "metadata": {},
   "outputs": [],
   "source": [
    "# Add PPS\n",
    "by_player['threePPS'] = 3 * by_player['threeM'] / by_player['threeA']\n",
    "by_player['midPPS'] = 2 * by_player['midM'] / by_player['midA']\n",
    "by_player['shortPPS'] = 2 * by_player['shortM'] / by_player['shortA']"
   ]
  },
  {
   "cell_type": "code",
   "execution_count": 360,
   "metadata": {},
   "outputs": [],
   "source": [
    "# Deal with NaN values\n",
    "by_player['threePPS'] = np.where(by_player['threePPS'].isna(), 0, by_player['threePPS'])\n",
    "by_player['midPPS'] = np.where(by_player['midPPS'].isna(), 0, by_player['midPPS'])\n",
    "by_player['shortPPS'] = np.where(by_player['shortPPS'].isna(), 0, by_player['shortPPS'])"
   ]
  },
  {
   "cell_type": "code",
   "execution_count": 364,
   "metadata": {},
   "outputs": [],
   "source": [
    "by_player.reset_index(inplace=True)"
   ]
  },
  {
   "cell_type": "code",
   "execution_count": 366,
   "metadata": {},
   "outputs": [],
   "source": [
    "temp = df.groupby(['last_first', 'season'])['GP'].mean().reset_index()\n",
    "temp = temp.groupby('last_first')['GP'].sum().reset_index()\n",
    "by_player = pd.merge(by_player, temp, on='last_first')"
   ]
  },
  {
   "cell_type": "code",
   "execution_count": 368,
   "metadata": {},
   "outputs": [],
   "source": [
    "# Add per game attempts and makes\n",
    "by_player['threeA/G'] = by_player['threeA'] / by_player['GP']\n",
    "by_player['threeM/G'] = by_player['threeM'] / by_player['GP']\n",
    "by_player['midA/G'] = by_player['midA'] / by_player['GP']\n",
    "by_player['midM/G'] = by_player['midM'] / by_player['GP']\n",
    "by_player['shortA/G'] = by_player['shortA'] / by_player['GP']\n",
    "by_player['shortM/G'] = by_player['shortM'] / by_player['GP']\n",
    "by_player.reset_index(inplace=True)"
   ]
  },
  {
   "cell_type": "code",
   "execution_count": 370,
   "metadata": {},
   "outputs": [
    {
     "data": {
      "text/html": [
       "<div>\n",
       "<style scoped>\n",
       "    .dataframe tbody tr th:only-of-type {\n",
       "        vertical-align: middle;\n",
       "    }\n",
       "\n",
       "    .dataframe tbody tr th {\n",
       "        vertical-align: top;\n",
       "    }\n",
       "\n",
       "    .dataframe thead th {\n",
       "        text-align: right;\n",
       "    }\n",
       "</style>\n",
       "<table border=\"1\" class=\"dataframe\">\n",
       "  <thead>\n",
       "    <tr style=\"text-align: right;\">\n",
       "      <th></th>\n",
       "      <th>index</th>\n",
       "      <th>last_first</th>\n",
       "      <th>threeM</th>\n",
       "      <th>threeA</th>\n",
       "      <th>midM</th>\n",
       "      <th>midA</th>\n",
       "      <th>shortM</th>\n",
       "      <th>shortA</th>\n",
       "      <th>threePPS</th>\n",
       "      <th>midPPS</th>\n",
       "      <th>shortPPS</th>\n",
       "      <th>GP</th>\n",
       "      <th>threeA/G</th>\n",
       "      <th>threeM/G</th>\n",
       "      <th>midA/G</th>\n",
       "      <th>midM/G</th>\n",
       "      <th>shortA/G</th>\n",
       "      <th>shortM/G</th>\n",
       "    </tr>\n",
       "  </thead>\n",
       "  <tbody>\n",
       "    <tr>\n",
       "      <th>1025</th>\n",
       "      <td>1025</td>\n",
       "      <td>Westbrook, Russell</td>\n",
       "      <td>722</td>\n",
       "      <td>2356</td>\n",
       "      <td>1309.0</td>\n",
       "      <td>3313.0</td>\n",
       "      <td>2381.0</td>\n",
       "      <td>3960.0</td>\n",
       "      <td>0.919355</td>\n",
       "      <td>0.79022</td>\n",
       "      <td>1.202525</td>\n",
       "      <td>484.0</td>\n",
       "      <td>4.867769</td>\n",
       "      <td>1.491736</td>\n",
       "      <td>6.845041</td>\n",
       "      <td>2.704545</td>\n",
       "      <td>8.181818</td>\n",
       "      <td>4.919421</td>\n",
       "    </tr>\n",
       "  </tbody>\n",
       "</table>\n",
       "</div>"
      ],
      "text/plain": [
       "      index          last_first  threeM  threeA    midM    midA  shortM  \\\n",
       "1025   1025  Westbrook, Russell     722    2356  1309.0  3313.0  2381.0   \n",
       "\n",
       "      shortA  threePPS   midPPS  shortPPS     GP  threeA/G  threeM/G  \\\n",
       "1025  3960.0  0.919355  0.79022  1.202525  484.0  4.867769  1.491736   \n",
       "\n",
       "        midA/G    midM/G  shortA/G  shortM/G  \n",
       "1025  6.845041  2.704545  8.181818  4.919421  "
      ]
     },
     "execution_count": 370,
     "metadata": {},
     "output_type": "execute_result"
    }
   ],
   "source": [
    "by_player.loc[by_player['last_first'] == 'Westbrook, Russell']"
   ]
  },
  {
   "cell_type": "code",
   "execution_count": 378,
   "metadata": {},
   "outputs": [
    {
     "name": "stderr",
     "output_type": "stream",
     "text": [
      "/Users/waynelam/nba/nba_player_pos/nba_venv/lib/python3.7/site-packages/ipykernel_launcher.py:1: FutureWarning:\n",
      "\n",
      "Indexing with multiple keys (implicitly converted to a tuple of keys) will be deprecated, use a list instead.\n",
      "\n"
     ]
    },
    {
     "data": {
      "text/html": [
       "<div>\n",
       "<style scoped>\n",
       "    .dataframe tbody tr th:only-of-type {\n",
       "        vertical-align: middle;\n",
       "    }\n",
       "\n",
       "    .dataframe tbody tr th {\n",
       "        vertical-align: top;\n",
       "    }\n",
       "\n",
       "    .dataframe thead th {\n",
       "        text-align: right;\n",
       "    }\n",
       "</style>\n",
       "<table border=\"1\" class=\"dataframe\">\n",
       "  <thead>\n",
       "    <tr style=\"text-align: right;\">\n",
       "      <th></th>\n",
       "      <th>last_first</th>\n",
       "      <th>FG2A</th>\n",
       "      <th>threeA</th>\n",
       "    </tr>\n",
       "  </thead>\n",
       "  <tbody>\n",
       "    <tr>\n",
       "      <th>1025</th>\n",
       "      <td>Westbrook, Russell</td>\n",
       "      <td>7273</td>\n",
       "      <td>2356</td>\n",
       "    </tr>\n",
       "  </tbody>\n",
       "</table>\n",
       "</div>"
      ],
      "text/plain": [
       "              last_first  FG2A  threeA\n",
       "1025  Westbrook, Russell  7273    2356"
      ]
     },
     "execution_count": 378,
     "metadata": {},
     "output_type": "execute_result"
    }
   ],
   "source": [
    "temp = overall.groupby('last_first')['FG2A', 'threeA'].sum().reset_index()\n",
    "temp.loc[temp['last_first'] == 'Westbrook, Russell']"
   ]
  },
  {
   "cell_type": "code",
   "execution_count": 371,
   "metadata": {},
   "outputs": [
    {
     "data": {
      "text/plain": [
       "484"
      ]
     },
     "execution_count": 371,
     "metadata": {},
     "output_type": "execute_result"
    }
   ],
   "source": [
    "46 + 67 + 80 + 81 + 80 + 73 + 57"
   ]
  },
  {
   "cell_type": "code",
   "execution_count": 372,
   "metadata": {},
   "outputs": [
    {
     "data": {
      "text/plain": [
       "10088"
      ]
     },
     "execution_count": 372,
     "metadata": {},
     "output_type": "execute_result"
    }
   ],
   "source": [
    "791 + 1471 + 1444 + 1941 + 1687 + 1473 + 1281"
   ]
  },
  {
   "cell_type": "code",
   "execution_count": 373,
   "metadata": {},
   "outputs": [
    {
     "data": {
      "text/plain": [
       "9629"
      ]
     },
     "execution_count": 373,
     "metadata": {},
     "output_type": "execute_result"
    }
   ],
   "source": [
    "2356 + 3313 + 3960"
   ]
  },
  {
   "cell_type": "code",
   "execution_count": 347,
   "metadata": {
    "scrolled": true
   },
   "outputs": [
    {
     "data": {
      "text/html": [
       "<div>\n",
       "<style scoped>\n",
       "    .dataframe tbody tr th:only-of-type {\n",
       "        vertical-align: middle;\n",
       "    }\n",
       "\n",
       "    .dataframe tbody tr th {\n",
       "        vertical-align: top;\n",
       "    }\n",
       "\n",
       "    .dataframe thead th {\n",
       "        text-align: right;\n",
       "    }\n",
       "</style>\n",
       "<table border=\"1\" class=\"dataframe\">\n",
       "  <thead>\n",
       "    <tr style=\"text-align: right;\">\n",
       "      <th></th>\n",
       "      <th>player_id</th>\n",
       "      <th>last_first</th>\n",
       "      <th>season</th>\n",
       "      <th>closest_def</th>\n",
       "      <th>threeM</th>\n",
       "      <th>threeA</th>\n",
       "      <th>midM</th>\n",
       "      <th>midA</th>\n",
       "      <th>shortM</th>\n",
       "      <th>shortA</th>\n",
       "      <th>threePPS</th>\n",
       "      <th>midPPS</th>\n",
       "      <th>shortPPS</th>\n",
       "      <th>teams</th>\n",
       "      <th>GP</th>\n",
       "    </tr>\n",
       "  </thead>\n",
       "  <tbody>\n",
       "    <tr>\n",
       "      <th>19</th>\n",
       "      <td>201142</td>\n",
       "      <td>Durant, Kevin</td>\n",
       "      <td>2013-14</td>\n",
       "      <td>0-2 Feet - Very Tight</td>\n",
       "      <td>7</td>\n",
       "      <td>29</td>\n",
       "      <td>49.0</td>\n",
       "      <td>102.0</td>\n",
       "      <td>132.0</td>\n",
       "      <td>204.0</td>\n",
       "      <td>0.724138</td>\n",
       "      <td>0.960784</td>\n",
       "      <td>1.294118</td>\n",
       "      <td>[OKC]</td>\n",
       "      <td>81</td>\n",
       "    </tr>\n",
       "    <tr>\n",
       "      <th>481</th>\n",
       "      <td>201142</td>\n",
       "      <td>Durant, Kevin</td>\n",
       "      <td>2013-14</td>\n",
       "      <td>2-4 Feet - Tight</td>\n",
       "      <td>58</td>\n",
       "      <td>157</td>\n",
       "      <td>137.0</td>\n",
       "      <td>334.0</td>\n",
       "      <td>159.0</td>\n",
       "      <td>238.0</td>\n",
       "      <td>1.108280</td>\n",
       "      <td>0.820359</td>\n",
       "      <td>1.336134</td>\n",
       "      <td>[OKC]</td>\n",
       "      <td>81</td>\n",
       "    </tr>\n",
       "    <tr>\n",
       "      <th>945</th>\n",
       "      <td>201142</td>\n",
       "      <td>Durant, Kevin</td>\n",
       "      <td>2013-14</td>\n",
       "      <td>4-6 Feet - Open</td>\n",
       "      <td>90</td>\n",
       "      <td>226</td>\n",
       "      <td>73.0</td>\n",
       "      <td>147.0</td>\n",
       "      <td>69.0</td>\n",
       "      <td>79.0</td>\n",
       "      <td>1.194690</td>\n",
       "      <td>0.993197</td>\n",
       "      <td>1.746835</td>\n",
       "      <td>[OKC]</td>\n",
       "      <td>81</td>\n",
       "    </tr>\n",
       "    <tr>\n",
       "      <th>1660</th>\n",
       "      <td>201142</td>\n",
       "      <td>Durant, Kevin</td>\n",
       "      <td>2013-14</td>\n",
       "      <td>6+ Feet - Wide Open</td>\n",
       "      <td>37</td>\n",
       "      <td>75</td>\n",
       "      <td>13.0</td>\n",
       "      <td>30.0</td>\n",
       "      <td>25.0</td>\n",
       "      <td>25.0</td>\n",
       "      <td>1.480000</td>\n",
       "      <td>0.866667</td>\n",
       "      <td>2.000000</td>\n",
       "      <td>[OKC]</td>\n",
       "      <td>81</td>\n",
       "    </tr>\n",
       "    <tr>\n",
       "      <th>2201</th>\n",
       "      <td>201142</td>\n",
       "      <td>Durant, Kevin</td>\n",
       "      <td>2014-15</td>\n",
       "      <td>0-2 Feet - Very Tight</td>\n",
       "      <td>0</td>\n",
       "      <td>5</td>\n",
       "      <td>7.0</td>\n",
       "      <td>23.0</td>\n",
       "      <td>29.0</td>\n",
       "      <td>49.0</td>\n",
       "      <td>0.000000</td>\n",
       "      <td>0.608696</td>\n",
       "      <td>1.183673</td>\n",
       "      <td>[OKC]</td>\n",
       "      <td>27</td>\n",
       "    </tr>\n",
       "    <tr>\n",
       "      <th>2574</th>\n",
       "      <td>201142</td>\n",
       "      <td>Durant, Kevin</td>\n",
       "      <td>2014-15</td>\n",
       "      <td>2-4 Feet - Tight</td>\n",
       "      <td>24</td>\n",
       "      <td>63</td>\n",
       "      <td>45.0</td>\n",
       "      <td>96.0</td>\n",
       "      <td>37.0</td>\n",
       "      <td>50.0</td>\n",
       "      <td>1.142857</td>\n",
       "      <td>0.937500</td>\n",
       "      <td>1.480000</td>\n",
       "      <td>[OKC]</td>\n",
       "      <td>27</td>\n",
       "    </tr>\n",
       "    <tr>\n",
       "      <th>3300</th>\n",
       "      <td>201142</td>\n",
       "      <td>Durant, Kevin</td>\n",
       "      <td>2014-15</td>\n",
       "      <td>4-6 Feet - Open</td>\n",
       "      <td>24</td>\n",
       "      <td>64</td>\n",
       "      <td>28.0</td>\n",
       "      <td>45.0</td>\n",
       "      <td>14.0</td>\n",
       "      <td>17.0</td>\n",
       "      <td>1.125000</td>\n",
       "      <td>1.244444</td>\n",
       "      <td>1.647059</td>\n",
       "      <td>[OKC]</td>\n",
       "      <td>27</td>\n",
       "    </tr>\n",
       "    <tr>\n",
       "      <th>3786</th>\n",
       "      <td>201142</td>\n",
       "      <td>Durant, Kevin</td>\n",
       "      <td>2014-15</td>\n",
       "      <td>6+ Feet - Wide Open</td>\n",
       "      <td>16</td>\n",
       "      <td>26</td>\n",
       "      <td>4.0</td>\n",
       "      <td>10.0</td>\n",
       "      <td>10.0</td>\n",
       "      <td>11.0</td>\n",
       "      <td>1.846154</td>\n",
       "      <td>0.800000</td>\n",
       "      <td>1.818182</td>\n",
       "      <td>[OKC]</td>\n",
       "      <td>27</td>\n",
       "    </tr>\n",
       "    <tr>\n",
       "      <th>3944</th>\n",
       "      <td>201142</td>\n",
       "      <td>Durant, Kevin</td>\n",
       "      <td>2015-16</td>\n",
       "      <td>0-2 Feet - Very Tight</td>\n",
       "      <td>6</td>\n",
       "      <td>22</td>\n",
       "      <td>25.0</td>\n",
       "      <td>53.0</td>\n",
       "      <td>74.0</td>\n",
       "      <td>112.0</td>\n",
       "      <td>0.818182</td>\n",
       "      <td>0.943396</td>\n",
       "      <td>1.321429</td>\n",
       "      <td>[OKC]</td>\n",
       "      <td>72</td>\n",
       "    </tr>\n",
       "    <tr>\n",
       "      <th>4249</th>\n",
       "      <td>201142</td>\n",
       "      <td>Durant, Kevin</td>\n",
       "      <td>2015-16</td>\n",
       "      <td>2-4 Feet - Tight</td>\n",
       "      <td>63</td>\n",
       "      <td>167</td>\n",
       "      <td>160.0</td>\n",
       "      <td>315.0</td>\n",
       "      <td>121.0</td>\n",
       "      <td>172.0</td>\n",
       "      <td>1.131737</td>\n",
       "      <td>1.015873</td>\n",
       "      <td>1.406977</td>\n",
       "      <td>[OKC]</td>\n",
       "      <td>72</td>\n",
       "    </tr>\n",
       "    <tr>\n",
       "      <th>4909</th>\n",
       "      <td>201142</td>\n",
       "      <td>Durant, Kevin</td>\n",
       "      <td>2015-16</td>\n",
       "      <td>4-6 Feet - Open</td>\n",
       "      <td>78</td>\n",
       "      <td>188</td>\n",
       "      <td>55.0</td>\n",
       "      <td>113.0</td>\n",
       "      <td>41.0</td>\n",
       "      <td>52.0</td>\n",
       "      <td>1.244681</td>\n",
       "      <td>0.973451</td>\n",
       "      <td>1.576923</td>\n",
       "      <td>[OKC]</td>\n",
       "      <td>72</td>\n",
       "    </tr>\n",
       "    <tr>\n",
       "      <th>5474</th>\n",
       "      <td>201142</td>\n",
       "      <td>Durant, Kevin</td>\n",
       "      <td>2015-16</td>\n",
       "      <td>6+ Feet - Wide Open</td>\n",
       "      <td>39</td>\n",
       "      <td>104</td>\n",
       "      <td>17.0</td>\n",
       "      <td>23.0</td>\n",
       "      <td>19.0</td>\n",
       "      <td>22.0</td>\n",
       "      <td>1.125000</td>\n",
       "      <td>1.478261</td>\n",
       "      <td>1.727273</td>\n",
       "      <td>[OKC]</td>\n",
       "      <td>72</td>\n",
       "    </tr>\n",
       "    <tr>\n",
       "      <th>6087</th>\n",
       "      <td>201142</td>\n",
       "      <td>Durant, Kevin</td>\n",
       "      <td>2016-17</td>\n",
       "      <td>0-2 Feet - Very Tight</td>\n",
       "      <td>2</td>\n",
       "      <td>6</td>\n",
       "      <td>12.0</td>\n",
       "      <td>31.0</td>\n",
       "      <td>76.0</td>\n",
       "      <td>109.0</td>\n",
       "      <td>1.000000</td>\n",
       "      <td>0.774194</td>\n",
       "      <td>1.394495</td>\n",
       "      <td>[GSW]</td>\n",
       "      <td>62</td>\n",
       "    </tr>\n",
       "    <tr>\n",
       "      <th>6297</th>\n",
       "      <td>201142</td>\n",
       "      <td>Durant, Kevin</td>\n",
       "      <td>2016-17</td>\n",
       "      <td>2-4 Feet - Tight</td>\n",
       "      <td>28</td>\n",
       "      <td>92</td>\n",
       "      <td>94.0</td>\n",
       "      <td>201.0</td>\n",
       "      <td>137.0</td>\n",
       "      <td>188.0</td>\n",
       "      <td>0.913043</td>\n",
       "      <td>0.935323</td>\n",
       "      <td>1.457447</td>\n",
       "      <td>[GSW]</td>\n",
       "      <td>62</td>\n",
       "    </tr>\n",
       "    <tr>\n",
       "      <th>6959</th>\n",
       "      <td>201142</td>\n",
       "      <td>Durant, Kevin</td>\n",
       "      <td>2016-17</td>\n",
       "      <td>4-6 Feet - Open</td>\n",
       "      <td>53</td>\n",
       "      <td>133</td>\n",
       "      <td>45.0</td>\n",
       "      <td>78.0</td>\n",
       "      <td>39.0</td>\n",
       "      <td>43.0</td>\n",
       "      <td>1.195489</td>\n",
       "      <td>1.153846</td>\n",
       "      <td>1.813953</td>\n",
       "      <td>[GSW]</td>\n",
       "      <td>62</td>\n",
       "    </tr>\n",
       "    <tr>\n",
       "      <th>7206</th>\n",
       "      <td>201142</td>\n",
       "      <td>Durant, Kevin</td>\n",
       "      <td>2016-17</td>\n",
       "      <td>6+ Feet - Wide Open</td>\n",
       "      <td>34</td>\n",
       "      <td>80</td>\n",
       "      <td>13.0</td>\n",
       "      <td>20.0</td>\n",
       "      <td>18.0</td>\n",
       "      <td>18.0</td>\n",
       "      <td>1.275000</td>\n",
       "      <td>1.300000</td>\n",
       "      <td>2.000000</td>\n",
       "      <td>[GSW]</td>\n",
       "      <td>62</td>\n",
       "    </tr>\n",
       "    <tr>\n",
       "      <th>7837</th>\n",
       "      <td>201142</td>\n",
       "      <td>Durant, Kevin</td>\n",
       "      <td>2017-18</td>\n",
       "      <td>0-2 Feet - Very Tight</td>\n",
       "      <td>2</td>\n",
       "      <td>6</td>\n",
       "      <td>11.0</td>\n",
       "      <td>17.0</td>\n",
       "      <td>43.0</td>\n",
       "      <td>67.0</td>\n",
       "      <td>1.000000</td>\n",
       "      <td>1.294118</td>\n",
       "      <td>1.283582</td>\n",
       "      <td>[GSW]</td>\n",
       "      <td>68</td>\n",
       "    </tr>\n",
       "    <tr>\n",
       "      <th>8099</th>\n",
       "      <td>201142</td>\n",
       "      <td>Durant, Kevin</td>\n",
       "      <td>2017-18</td>\n",
       "      <td>2-4 Feet - Tight</td>\n",
       "      <td>53</td>\n",
       "      <td>139</td>\n",
       "      <td>123.0</td>\n",
       "      <td>282.0</td>\n",
       "      <td>122.0</td>\n",
       "      <td>167.0</td>\n",
       "      <td>1.143885</td>\n",
       "      <td>0.872340</td>\n",
       "      <td>1.461078</td>\n",
       "      <td>[GSW]</td>\n",
       "      <td>68</td>\n",
       "    </tr>\n",
       "    <tr>\n",
       "      <th>8965</th>\n",
       "      <td>201142</td>\n",
       "      <td>Durant, Kevin</td>\n",
       "      <td>2017-18</td>\n",
       "      <td>4-6 Feet - Open</td>\n",
       "      <td>68</td>\n",
       "      <td>181</td>\n",
       "      <td>88.0</td>\n",
       "      <td>141.0</td>\n",
       "      <td>36.0</td>\n",
       "      <td>46.0</td>\n",
       "      <td>1.127072</td>\n",
       "      <td>1.248227</td>\n",
       "      <td>1.565217</td>\n",
       "      <td>[GSW]</td>\n",
       "      <td>68</td>\n",
       "    </tr>\n",
       "    <tr>\n",
       "      <th>9490</th>\n",
       "      <td>201142</td>\n",
       "      <td>Durant, Kevin</td>\n",
       "      <td>2017-18</td>\n",
       "      <td>6+ Feet - Wide Open</td>\n",
       "      <td>48</td>\n",
       "      <td>84</td>\n",
       "      <td>15.0</td>\n",
       "      <td>27.0</td>\n",
       "      <td>18.0</td>\n",
       "      <td>21.0</td>\n",
       "      <td>1.714286</td>\n",
       "      <td>1.111111</td>\n",
       "      <td>1.714286</td>\n",
       "      <td>[GSW]</td>\n",
       "      <td>68</td>\n",
       "    </tr>\n",
       "    <tr>\n",
       "      <th>9971</th>\n",
       "      <td>201142</td>\n",
       "      <td>Durant, Kevin</td>\n",
       "      <td>2018-19</td>\n",
       "      <td>0-2 Feet - Very Tight</td>\n",
       "      <td>2</td>\n",
       "      <td>5</td>\n",
       "      <td>5.0</td>\n",
       "      <td>14.0</td>\n",
       "      <td>38.0</td>\n",
       "      <td>73.0</td>\n",
       "      <td>1.200000</td>\n",
       "      <td>0.714286</td>\n",
       "      <td>1.041096</td>\n",
       "      <td>[GSW]</td>\n",
       "      <td>78</td>\n",
       "    </tr>\n",
       "    <tr>\n",
       "      <th>10465</th>\n",
       "      <td>201142</td>\n",
       "      <td>Durant, Kevin</td>\n",
       "      <td>2018-19</td>\n",
       "      <td>2-4 Feet - Tight</td>\n",
       "      <td>31</td>\n",
       "      <td>120</td>\n",
       "      <td>159.0</td>\n",
       "      <td>322.0</td>\n",
       "      <td>150.0</td>\n",
       "      <td>223.0</td>\n",
       "      <td>0.775000</td>\n",
       "      <td>0.987578</td>\n",
       "      <td>1.345291</td>\n",
       "      <td>[GSW]</td>\n",
       "      <td>78</td>\n",
       "    </tr>\n",
       "    <tr>\n",
       "      <th>10783</th>\n",
       "      <td>201142</td>\n",
       "      <td>Durant, Kevin</td>\n",
       "      <td>2018-19</td>\n",
       "      <td>4-6 Feet - Open</td>\n",
       "      <td>76</td>\n",
       "      <td>191</td>\n",
       "      <td>132.0</td>\n",
       "      <td>239.0</td>\n",
       "      <td>51.0</td>\n",
       "      <td>66.0</td>\n",
       "      <td>1.193717</td>\n",
       "      <td>1.104603</td>\n",
       "      <td>1.545455</td>\n",
       "      <td>[GSW]</td>\n",
       "      <td>78</td>\n",
       "    </tr>\n",
       "    <tr>\n",
       "      <th>11119</th>\n",
       "      <td>201142</td>\n",
       "      <td>Durant, Kevin</td>\n",
       "      <td>2018-19</td>\n",
       "      <td>6+ Feet - Wide Open</td>\n",
       "      <td>27</td>\n",
       "      <td>70</td>\n",
       "      <td>26.0</td>\n",
       "      <td>30.0</td>\n",
       "      <td>20.0</td>\n",
       "      <td>21.0</td>\n",
       "      <td>1.157143</td>\n",
       "      <td>1.733333</td>\n",
       "      <td>1.904762</td>\n",
       "      <td>[GSW]</td>\n",
       "      <td>78</td>\n",
       "    </tr>\n",
       "  </tbody>\n",
       "</table>\n",
       "</div>"
      ],
      "text/plain": [
       "       player_id     last_first   season            closest_def  threeM  \\\n",
       "19        201142  Durant, Kevin  2013-14  0-2 Feet - Very Tight       7   \n",
       "481       201142  Durant, Kevin  2013-14       2-4 Feet - Tight      58   \n",
       "945       201142  Durant, Kevin  2013-14        4-6 Feet - Open      90   \n",
       "1660      201142  Durant, Kevin  2013-14    6+ Feet - Wide Open      37   \n",
       "2201      201142  Durant, Kevin  2014-15  0-2 Feet - Very Tight       0   \n",
       "2574      201142  Durant, Kevin  2014-15       2-4 Feet - Tight      24   \n",
       "3300      201142  Durant, Kevin  2014-15        4-6 Feet - Open      24   \n",
       "3786      201142  Durant, Kevin  2014-15    6+ Feet - Wide Open      16   \n",
       "3944      201142  Durant, Kevin  2015-16  0-2 Feet - Very Tight       6   \n",
       "4249      201142  Durant, Kevin  2015-16       2-4 Feet - Tight      63   \n",
       "4909      201142  Durant, Kevin  2015-16        4-6 Feet - Open      78   \n",
       "5474      201142  Durant, Kevin  2015-16    6+ Feet - Wide Open      39   \n",
       "6087      201142  Durant, Kevin  2016-17  0-2 Feet - Very Tight       2   \n",
       "6297      201142  Durant, Kevin  2016-17       2-4 Feet - Tight      28   \n",
       "6959      201142  Durant, Kevin  2016-17        4-6 Feet - Open      53   \n",
       "7206      201142  Durant, Kevin  2016-17    6+ Feet - Wide Open      34   \n",
       "7837      201142  Durant, Kevin  2017-18  0-2 Feet - Very Tight       2   \n",
       "8099      201142  Durant, Kevin  2017-18       2-4 Feet - Tight      53   \n",
       "8965      201142  Durant, Kevin  2017-18        4-6 Feet - Open      68   \n",
       "9490      201142  Durant, Kevin  2017-18    6+ Feet - Wide Open      48   \n",
       "9971      201142  Durant, Kevin  2018-19  0-2 Feet - Very Tight       2   \n",
       "10465     201142  Durant, Kevin  2018-19       2-4 Feet - Tight      31   \n",
       "10783     201142  Durant, Kevin  2018-19        4-6 Feet - Open      76   \n",
       "11119     201142  Durant, Kevin  2018-19    6+ Feet - Wide Open      27   \n",
       "\n",
       "       threeA   midM   midA  shortM  shortA  threePPS    midPPS  shortPPS  \\\n",
       "19         29   49.0  102.0   132.0   204.0  0.724138  0.960784  1.294118   \n",
       "481       157  137.0  334.0   159.0   238.0  1.108280  0.820359  1.336134   \n",
       "945       226   73.0  147.0    69.0    79.0  1.194690  0.993197  1.746835   \n",
       "1660       75   13.0   30.0    25.0    25.0  1.480000  0.866667  2.000000   \n",
       "2201        5    7.0   23.0    29.0    49.0  0.000000  0.608696  1.183673   \n",
       "2574       63   45.0   96.0    37.0    50.0  1.142857  0.937500  1.480000   \n",
       "3300       64   28.0   45.0    14.0    17.0  1.125000  1.244444  1.647059   \n",
       "3786       26    4.0   10.0    10.0    11.0  1.846154  0.800000  1.818182   \n",
       "3944       22   25.0   53.0    74.0   112.0  0.818182  0.943396  1.321429   \n",
       "4249      167  160.0  315.0   121.0   172.0  1.131737  1.015873  1.406977   \n",
       "4909      188   55.0  113.0    41.0    52.0  1.244681  0.973451  1.576923   \n",
       "5474      104   17.0   23.0    19.0    22.0  1.125000  1.478261  1.727273   \n",
       "6087        6   12.0   31.0    76.0   109.0  1.000000  0.774194  1.394495   \n",
       "6297       92   94.0  201.0   137.0   188.0  0.913043  0.935323  1.457447   \n",
       "6959      133   45.0   78.0    39.0    43.0  1.195489  1.153846  1.813953   \n",
       "7206       80   13.0   20.0    18.0    18.0  1.275000  1.300000  2.000000   \n",
       "7837        6   11.0   17.0    43.0    67.0  1.000000  1.294118  1.283582   \n",
       "8099      139  123.0  282.0   122.0   167.0  1.143885  0.872340  1.461078   \n",
       "8965      181   88.0  141.0    36.0    46.0  1.127072  1.248227  1.565217   \n",
       "9490       84   15.0   27.0    18.0    21.0  1.714286  1.111111  1.714286   \n",
       "9971        5    5.0   14.0    38.0    73.0  1.200000  0.714286  1.041096   \n",
       "10465     120  159.0  322.0   150.0   223.0  0.775000  0.987578  1.345291   \n",
       "10783     191  132.0  239.0    51.0    66.0  1.193717  1.104603  1.545455   \n",
       "11119      70   26.0   30.0    20.0    21.0  1.157143  1.733333  1.904762   \n",
       "\n",
       "       teams  GP  \n",
       "19     [OKC]  81  \n",
       "481    [OKC]  81  \n",
       "945    [OKC]  81  \n",
       "1660   [OKC]  81  \n",
       "2201   [OKC]  27  \n",
       "2574   [OKC]  27  \n",
       "3300   [OKC]  27  \n",
       "3786   [OKC]  27  \n",
       "3944   [OKC]  72  \n",
       "4249   [OKC]  72  \n",
       "4909   [OKC]  72  \n",
       "5474   [OKC]  72  \n",
       "6087   [GSW]  62  \n",
       "6297   [GSW]  62  \n",
       "6959   [GSW]  62  \n",
       "7206   [GSW]  62  \n",
       "7837   [GSW]  68  \n",
       "8099   [GSW]  68  \n",
       "8965   [GSW]  68  \n",
       "9490   [GSW]  68  \n",
       "9971   [GSW]  78  \n",
       "10465  [GSW]  78  \n",
       "10783  [GSW]  78  \n",
       "11119  [GSW]  78  "
      ]
     },
     "execution_count": 347,
     "metadata": {},
     "output_type": "execute_result"
    }
   ],
   "source": [
    "df.loc[df['last_first'] == 'Durant, Kevin']"
   ]
  },
  {
   "cell_type": "code",
   "execution_count": 231,
   "metadata": {},
   "outputs": [],
   "source": [
    "# Over the course of 2013-14 to 2019-20 seasons, players with better midrange PPS than 3-pt PPS\n",
    "mid_over_three = by_player.loc[by_player['threePPS'] < by_player['midPPS']].index"
   ]
  },
  {
   "cell_type": "code",
   "execution_count": 237,
   "metadata": {},
   "outputs": [
    {
     "name": "stderr",
     "output_type": "stream",
     "text": [
      "/Users/waynelam/nba/nba_player_pos/nba_venv/lib/python3.7/site-packages/ipykernel_launcher.py:1: FutureWarning: Indexing with multiple keys (implicitly converted to a tuple of keys) will be deprecated, use a list instead.\n",
      "  \"\"\"Entry point for launching an IPython kernel.\n"
     ]
    }
   ],
   "source": [
    "by_season = df.groupby(['last_first', 'season', 'GP'])['threeM', 'threeA', 'midM', 'midA', 'shortM', 'shortA'].sum().reset_index()"
   ]
  },
  {
   "cell_type": "code",
   "execution_count": 333,
   "metadata": {},
   "outputs": [],
   "source": [
    "def shot_by_sea(df, player):\n",
    "    if player == 'overall':\n",
    "        temp = df.groupby('season')['threeM', 'threeA', 'midM', 'midA', 'shortM', 'shortA'].sum().reset_index()\n",
    "        temp['totalA'] = temp['threeA'] + temp['midA'] + temp['shortA']\n",
    "        temp['threePCT'] = temp['threeA'] / temp['totalA'] * 100\n",
    "        temp['midPCT'] = temp['midA'] / temp['totalA'] * 100\n",
    "        temp['shortPCT'] = temp['shortA'] / temp['totalA'] * 100\n",
    "        \n",
    "    else:\n",
    "        temp = df.loc[df['last_first'] == player].copy()\n",
    "        temp['threeA/G'] = temp['threeA'] / temp['GP']\n",
    "        temp['midA/G'] = temp['midA'] / temp['GP']\n",
    "        temp['shortA/G'] = temp['shortA'] / temp['GP']\n",
    "        temp['totalA/G'] = temp['threeA/G'] + temp['midA/G'] + temp['shortA/G']\n",
    "        temp['threePCT'] = temp['threeA/G'] / temp['totalA/G'] * 100\n",
    "        temp['midPCT'] = temp['midA/G'] / temp['totalA/G'] * 100\n",
    "        temp['shortPCT'] = temp['shortA/G'] / temp['totalA/G'] * 100\n",
    "    \n",
    "    return temp\n",
    "    \n",
    "def plot_shot_sel(df, player):\n",
    "    temp = pd.melt(\n",
    "        df,\n",
    "        id_vars='season',\n",
    "        value_vars=['threeA/G', 'midA/G', 'shortA/G'],\n",
    "        var_name='shot_type',\n",
    "        value_name='A/G'\n",
    "    )\n",
    "    player = player.split()\n",
    "    player[0] = player[0][:-1]\n",
    "    player = player[1] + ' ' + player[0]\n",
    "    fig = px.line(data_frame=temp, x='season', y='A/G', color='shot_type')\n",
    "    fig.update_layout(title=f'{player} Shot Attempts by Season')\n",
    "    \n",
    "    return fig\n",
    "\n",
    "def plot_shot_share(df, player):\n",
    "    temp = pd.melt(\n",
    "        df,\n",
    "        id_vars='season',\n",
    "        value_vars=['threePCT', 'midPCT', 'shortPCT'],\n",
    "        var_name='shot_type',\n",
    "        value_name='PCT'\n",
    "    )\n",
    "    \n",
    "    if player != 'overall':\n",
    "        player = player.split()\n",
    "        player[0] = player[0][:-1]\n",
    "        player = player[1] + ' ' + player[0]\n",
    "        \n",
    "    else:\n",
    "        player = 'Overall'\n",
    "        \n",
    "    fig = px.line(data_frame=temp, x='season', y='PCT', color='shot_type')\n",
    "    fig.update_layout(title=f'{player} Shot Shares by Season')\n",
    "    \n",
    "    return fig"
   ]
  },
  {
   "cell_type": "code",
   "execution_count": 334,
   "metadata": {
    "scrolled": false
   },
   "outputs": [
    {
     "name": "stderr",
     "output_type": "stream",
     "text": [
      "/Users/waynelam/nba/nba_player_pos/nba_venv/lib/python3.7/site-packages/ipykernel_launcher.py:3: FutureWarning:\n",
      "\n",
      "Indexing with multiple keys (implicitly converted to a tuple of keys) will be deprecated, use a list instead.\n",
      "\n"
     ]
    },
    {
     "data": {
      "text/html": [
       "<div>\n",
       "<style scoped>\n",
       "    .dataframe tbody tr th:only-of-type {\n",
       "        vertical-align: middle;\n",
       "    }\n",
       "\n",
       "    .dataframe tbody tr th {\n",
       "        vertical-align: top;\n",
       "    }\n",
       "\n",
       "    .dataframe thead th {\n",
       "        text-align: right;\n",
       "    }\n",
       "</style>\n",
       "<table border=\"1\" class=\"dataframe\">\n",
       "  <thead>\n",
       "    <tr style=\"text-align: right;\">\n",
       "      <th></th>\n",
       "      <th>season</th>\n",
       "      <th>threeM</th>\n",
       "      <th>threeA</th>\n",
       "      <th>midM</th>\n",
       "      <th>midA</th>\n",
       "      <th>shortM</th>\n",
       "      <th>shortA</th>\n",
       "      <th>totalA</th>\n",
       "      <th>threePCT</th>\n",
       "      <th>midPCT</th>\n",
       "      <th>shortPCT</th>\n",
       "    </tr>\n",
       "  </thead>\n",
       "  <tbody>\n",
       "    <tr>\n",
       "      <th>0</th>\n",
       "      <td>2013-14</td>\n",
       "      <td>18962</td>\n",
       "      <td>52346</td>\n",
       "      <td>24150.0</td>\n",
       "      <td>59244.0</td>\n",
       "      <td>49281.0</td>\n",
       "      <td>80193.0</td>\n",
       "      <td>191783.0</td>\n",
       "      <td>27.294390</td>\n",
       "      <td>30.891163</td>\n",
       "      <td>41.814447</td>\n",
       "    </tr>\n",
       "    <tr>\n",
       "      <th>1</th>\n",
       "      <td>2014-15</td>\n",
       "      <td>19247</td>\n",
       "      <td>54588</td>\n",
       "      <td>23768.0</td>\n",
       "      <td>58168.0</td>\n",
       "      <td>49023.0</td>\n",
       "      <td>80493.0</td>\n",
       "      <td>193249.0</td>\n",
       "      <td>28.247494</td>\n",
       "      <td>30.100026</td>\n",
       "      <td>41.652479</td>\n",
       "    </tr>\n",
       "    <tr>\n",
       "      <th>2</th>\n",
       "      <td>2015-16</td>\n",
       "      <td>20914</td>\n",
       "      <td>58751</td>\n",
       "      <td>23183.0</td>\n",
       "      <td>56308.0</td>\n",
       "      <td>49795.0</td>\n",
       "      <td>80430.0</td>\n",
       "      <td>195489.0</td>\n",
       "      <td>30.053353</td>\n",
       "      <td>28.803667</td>\n",
       "      <td>41.142980</td>\n",
       "    </tr>\n",
       "    <tr>\n",
       "      <th>3</th>\n",
       "      <td>2016-17</td>\n",
       "      <td>23656</td>\n",
       "      <td>65747</td>\n",
       "      <td>21678.0</td>\n",
       "      <td>52033.0</td>\n",
       "      <td>50338.0</td>\n",
       "      <td>79900.0</td>\n",
       "      <td>197680.0</td>\n",
       "      <td>33.259308</td>\n",
       "      <td>26.321833</td>\n",
       "      <td>40.418859</td>\n",
       "    </tr>\n",
       "    <tr>\n",
       "      <th>4</th>\n",
       "      <td>2017-18</td>\n",
       "      <td>25585</td>\n",
       "      <td>70209</td>\n",
       "      <td>19505.0</td>\n",
       "      <td>46934.0</td>\n",
       "      <td>51546.0</td>\n",
       "      <td>81049.0</td>\n",
       "      <td>198192.0</td>\n",
       "      <td>35.424740</td>\n",
       "      <td>23.681077</td>\n",
       "      <td>40.894183</td>\n",
       "    </tr>\n",
       "    <tr>\n",
       "      <th>5</th>\n",
       "      <td>2018-19</td>\n",
       "      <td>27822</td>\n",
       "      <td>78395</td>\n",
       "      <td>17583.0</td>\n",
       "      <td>43194.0</td>\n",
       "      <td>55116.0</td>\n",
       "      <td>96689.0</td>\n",
       "      <td>218278.0</td>\n",
       "      <td>35.915209</td>\n",
       "      <td>19.788527</td>\n",
       "      <td>44.296264</td>\n",
       "    </tr>\n",
       "    <tr>\n",
       "      <th>6</th>\n",
       "      <td>2019-20</td>\n",
       "      <td>25671</td>\n",
       "      <td>71711</td>\n",
       "      <td>14140.0</td>\n",
       "      <td>34174.0</td>\n",
       "      <td>46046.0</td>\n",
       "      <td>80560.0</td>\n",
       "      <td>186445.0</td>\n",
       "      <td>38.462281</td>\n",
       "      <td>18.329266</td>\n",
       "      <td>43.208453</td>\n",
       "    </tr>\n",
       "  </tbody>\n",
       "</table>\n",
       "</div>"
      ],
      "text/plain": [
       "    season  threeM  threeA     midM     midA   shortM   shortA    totalA  \\\n",
       "0  2013-14   18962   52346  24150.0  59244.0  49281.0  80193.0  191783.0   \n",
       "1  2014-15   19247   54588  23768.0  58168.0  49023.0  80493.0  193249.0   \n",
       "2  2015-16   20914   58751  23183.0  56308.0  49795.0  80430.0  195489.0   \n",
       "3  2016-17   23656   65747  21678.0  52033.0  50338.0  79900.0  197680.0   \n",
       "4  2017-18   25585   70209  19505.0  46934.0  51546.0  81049.0  198192.0   \n",
       "5  2018-19   27822   78395  17583.0  43194.0  55116.0  96689.0  218278.0   \n",
       "6  2019-20   25671   71711  14140.0  34174.0  46046.0  80560.0  186445.0   \n",
       "\n",
       "    threePCT     midPCT   shortPCT  \n",
       "0  27.294390  30.891163  41.814447  \n",
       "1  28.247494  30.100026  41.652479  \n",
       "2  30.053353  28.803667  41.142980  \n",
       "3  33.259308  26.321833  40.418859  \n",
       "4  35.424740  23.681077  40.894183  \n",
       "5  35.915209  19.788527  44.296264  \n",
       "6  38.462281  18.329266  43.208453  "
      ]
     },
     "execution_count": 334,
     "metadata": {},
     "output_type": "execute_result"
    }
   ],
   "source": [
    "player = mid_over_three[14]\n",
    "player_df = shot_by_sea(by_season, 'overall')\n",
    "player_df"
   ]
  },
  {
   "cell_type": "code",
   "execution_count": 331,
   "metadata": {},
   "outputs": [
    {
     "ename": "KeyError",
     "evalue": "\"The following 'value_vars' are not present in the DataFrame: ['midA/G', 'shortA/G', 'threeA/G']\"",
     "output_type": "error",
     "traceback": [
      "\u001b[0;31m---------------------------------------------------------------------------\u001b[0m",
      "\u001b[0;31mKeyError\u001b[0m                                  Traceback (most recent call last)",
      "\u001b[0;32m<ipython-input-331-baa5ee08eb54>\u001b[0m in \u001b[0;36m<module>\u001b[0;34m\u001b[0m\n\u001b[0;32m----> 1\u001b[0;31m \u001b[0mplot_shot_sel\u001b[0m\u001b[0;34m(\u001b[0m\u001b[0mplayer_df\u001b[0m\u001b[0;34m,\u001b[0m \u001b[0mplayer\u001b[0m\u001b[0;34m)\u001b[0m\u001b[0;34m\u001b[0m\u001b[0;34m\u001b[0m\u001b[0m\n\u001b[0m",
      "\u001b[0;32m<ipython-input-329-f85af557ab38>\u001b[0m in \u001b[0;36mplot_shot_sel\u001b[0;34m(df, player)\u001b[0m\n\u001b[1;32m     25\u001b[0m         \u001b[0mvalue_vars\u001b[0m\u001b[0;34m=\u001b[0m\u001b[0;34m[\u001b[0m\u001b[0;34m'threeA/G'\u001b[0m\u001b[0;34m,\u001b[0m \u001b[0;34m'midA/G'\u001b[0m\u001b[0;34m,\u001b[0m \u001b[0;34m'shortA/G'\u001b[0m\u001b[0;34m]\u001b[0m\u001b[0;34m,\u001b[0m\u001b[0;34m\u001b[0m\u001b[0;34m\u001b[0m\u001b[0m\n\u001b[1;32m     26\u001b[0m         \u001b[0mvar_name\u001b[0m\u001b[0;34m=\u001b[0m\u001b[0;34m'shot_type'\u001b[0m\u001b[0;34m,\u001b[0m\u001b[0;34m\u001b[0m\u001b[0;34m\u001b[0m\u001b[0m\n\u001b[0;32m---> 27\u001b[0;31m         \u001b[0mvalue_name\u001b[0m\u001b[0;34m=\u001b[0m\u001b[0;34m'A/G'\u001b[0m\u001b[0;34m\u001b[0m\u001b[0;34m\u001b[0m\u001b[0m\n\u001b[0m\u001b[1;32m     28\u001b[0m     )\n\u001b[1;32m     29\u001b[0m     \u001b[0mplayer\u001b[0m \u001b[0;34m=\u001b[0m \u001b[0mplayer\u001b[0m\u001b[0;34m.\u001b[0m\u001b[0msplit\u001b[0m\u001b[0;34m(\u001b[0m\u001b[0;34m)\u001b[0m\u001b[0;34m\u001b[0m\u001b[0;34m\u001b[0m\u001b[0m\n",
      "\u001b[0;32m~/nba/nba_player_pos/nba_venv/lib/python3.7/site-packages/pandas/core/reshape/melt.py\u001b[0m in \u001b[0;36mmelt\u001b[0;34m(frame, id_vars, value_vars, var_name, value_name, col_level, ignore_index)\u001b[0m\n\u001b[1;32m     85\u001b[0m             \u001b[0;32mif\u001b[0m \u001b[0;32mnot\u001b[0m \u001b[0mmissing\u001b[0m\u001b[0;34m.\u001b[0m\u001b[0mempty\u001b[0m\u001b[0;34m:\u001b[0m\u001b[0;34m\u001b[0m\u001b[0;34m\u001b[0m\u001b[0m\n\u001b[1;32m     86\u001b[0m                 raise KeyError(\n\u001b[0;32m---> 87\u001b[0;31m                     \u001b[0;34m\"The following 'value_vars' are not present in \"\u001b[0m\u001b[0;34m\u001b[0m\u001b[0;34m\u001b[0m\u001b[0m\n\u001b[0m\u001b[1;32m     88\u001b[0m                     \u001b[0;34mf\"the DataFrame: {list(missing)}\"\u001b[0m\u001b[0;34m\u001b[0m\u001b[0;34m\u001b[0m\u001b[0m\n\u001b[1;32m     89\u001b[0m                 )\n",
      "\u001b[0;31mKeyError\u001b[0m: \"The following 'value_vars' are not present in the DataFrame: ['midA/G', 'shortA/G', 'threeA/G']\""
     ]
    }
   ],
   "source": [
    "plot_shot_sel(player_df, player)"
   ]
  },
  {
   "cell_type": "code",
   "execution_count": 335,
   "metadata": {},
   "outputs": [
    {
     "data": {
      "application/vnd.plotly.v1+json": {
       "config": {
        "plotlyServerURL": "https://plot.ly"
       },
       "data": [
        {
         "hovertemplate": "shot_type=threePCT<br>season=%{x}<br>PCT=%{y}<extra></extra>",
         "legendgroup": "threePCT",
         "line": {
          "color": "#636efa",
          "dash": "solid"
         },
         "mode": "lines",
         "name": "threePCT",
         "orientation": "v",
         "showlegend": true,
         "type": "scatter",
         "x": [
          "2013-14",
          "2014-15",
          "2015-16",
          "2016-17",
          "2017-18",
          "2018-19",
          "2019-20"
         ],
         "xaxis": "x",
         "y": [
          27.294390013713414,
          28.24749416555842,
          30.053353385612493,
          33.25930797248078,
          35.42473964640349,
          35.91520904534584,
          38.46228110166537
         ],
         "yaxis": "y"
        },
        {
         "hovertemplate": "shot_type=midPCT<br>season=%{x}<br>PCT=%{y}<extra></extra>",
         "legendgroup": "midPCT",
         "line": {
          "color": "#EF553B",
          "dash": "solid"
         },
         "mode": "lines",
         "name": "midPCT",
         "orientation": "v",
         "showlegend": true,
         "type": "scatter",
         "x": [
          "2013-14",
          "2014-15",
          "2015-16",
          "2016-17",
          "2017-18",
          "2018-19",
          "2019-20"
         ],
         "xaxis": "x",
         "y": [
          30.891163450357954,
          30.100026390822205,
          28.803666702474306,
          26.32183326588426,
          23.681076935496893,
          19.788526557875734,
          18.329266003379015
         ],
         "yaxis": "y"
        },
        {
         "hovertemplate": "shot_type=shortPCT<br>season=%{x}<br>PCT=%{y}<extra></extra>",
         "legendgroup": "shortPCT",
         "line": {
          "color": "#00cc96",
          "dash": "solid"
         },
         "mode": "lines",
         "name": "shortPCT",
         "orientation": "v",
         "showlegend": true,
         "type": "scatter",
         "x": [
          "2013-14",
          "2014-15",
          "2015-16",
          "2016-17",
          "2017-18",
          "2018-19",
          "2019-20"
         ],
         "xaxis": "x",
         "y": [
          41.81444653592863,
          41.65247944361937,
          41.1429799119132,
          40.418858761634965,
          40.89418341809962,
          44.29626439677842,
          43.20845289495562
         ],
         "yaxis": "y"
        }
       ],
       "layout": {
        "legend": {
         "title": {
          "text": "shot_type"
         },
         "tracegroupgap": 0
        },
        "margin": {
         "t": 60
        },
        "template": {
         "data": {
          "bar": [
           {
            "error_x": {
             "color": "#2a3f5f"
            },
            "error_y": {
             "color": "#2a3f5f"
            },
            "marker": {
             "line": {
              "color": "#E5ECF6",
              "width": 0.5
             }
            },
            "type": "bar"
           }
          ],
          "barpolar": [
           {
            "marker": {
             "line": {
              "color": "#E5ECF6",
              "width": 0.5
             }
            },
            "type": "barpolar"
           }
          ],
          "carpet": [
           {
            "aaxis": {
             "endlinecolor": "#2a3f5f",
             "gridcolor": "white",
             "linecolor": "white",
             "minorgridcolor": "white",
             "startlinecolor": "#2a3f5f"
            },
            "baxis": {
             "endlinecolor": "#2a3f5f",
             "gridcolor": "white",
             "linecolor": "white",
             "minorgridcolor": "white",
             "startlinecolor": "#2a3f5f"
            },
            "type": "carpet"
           }
          ],
          "choropleth": [
           {
            "colorbar": {
             "outlinewidth": 0,
             "ticks": ""
            },
            "type": "choropleth"
           }
          ],
          "contour": [
           {
            "colorbar": {
             "outlinewidth": 0,
             "ticks": ""
            },
            "colorscale": [
             [
              0,
              "#0d0887"
             ],
             [
              0.1111111111111111,
              "#46039f"
             ],
             [
              0.2222222222222222,
              "#7201a8"
             ],
             [
              0.3333333333333333,
              "#9c179e"
             ],
             [
              0.4444444444444444,
              "#bd3786"
             ],
             [
              0.5555555555555556,
              "#d8576b"
             ],
             [
              0.6666666666666666,
              "#ed7953"
             ],
             [
              0.7777777777777778,
              "#fb9f3a"
             ],
             [
              0.8888888888888888,
              "#fdca26"
             ],
             [
              1,
              "#f0f921"
             ]
            ],
            "type": "contour"
           }
          ],
          "contourcarpet": [
           {
            "colorbar": {
             "outlinewidth": 0,
             "ticks": ""
            },
            "type": "contourcarpet"
           }
          ],
          "heatmap": [
           {
            "colorbar": {
             "outlinewidth": 0,
             "ticks": ""
            },
            "colorscale": [
             [
              0,
              "#0d0887"
             ],
             [
              0.1111111111111111,
              "#46039f"
             ],
             [
              0.2222222222222222,
              "#7201a8"
             ],
             [
              0.3333333333333333,
              "#9c179e"
             ],
             [
              0.4444444444444444,
              "#bd3786"
             ],
             [
              0.5555555555555556,
              "#d8576b"
             ],
             [
              0.6666666666666666,
              "#ed7953"
             ],
             [
              0.7777777777777778,
              "#fb9f3a"
             ],
             [
              0.8888888888888888,
              "#fdca26"
             ],
             [
              1,
              "#f0f921"
             ]
            ],
            "type": "heatmap"
           }
          ],
          "heatmapgl": [
           {
            "colorbar": {
             "outlinewidth": 0,
             "ticks": ""
            },
            "colorscale": [
             [
              0,
              "#0d0887"
             ],
             [
              0.1111111111111111,
              "#46039f"
             ],
             [
              0.2222222222222222,
              "#7201a8"
             ],
             [
              0.3333333333333333,
              "#9c179e"
             ],
             [
              0.4444444444444444,
              "#bd3786"
             ],
             [
              0.5555555555555556,
              "#d8576b"
             ],
             [
              0.6666666666666666,
              "#ed7953"
             ],
             [
              0.7777777777777778,
              "#fb9f3a"
             ],
             [
              0.8888888888888888,
              "#fdca26"
             ],
             [
              1,
              "#f0f921"
             ]
            ],
            "type": "heatmapgl"
           }
          ],
          "histogram": [
           {
            "marker": {
             "colorbar": {
              "outlinewidth": 0,
              "ticks": ""
             }
            },
            "type": "histogram"
           }
          ],
          "histogram2d": [
           {
            "colorbar": {
             "outlinewidth": 0,
             "ticks": ""
            },
            "colorscale": [
             [
              0,
              "#0d0887"
             ],
             [
              0.1111111111111111,
              "#46039f"
             ],
             [
              0.2222222222222222,
              "#7201a8"
             ],
             [
              0.3333333333333333,
              "#9c179e"
             ],
             [
              0.4444444444444444,
              "#bd3786"
             ],
             [
              0.5555555555555556,
              "#d8576b"
             ],
             [
              0.6666666666666666,
              "#ed7953"
             ],
             [
              0.7777777777777778,
              "#fb9f3a"
             ],
             [
              0.8888888888888888,
              "#fdca26"
             ],
             [
              1,
              "#f0f921"
             ]
            ],
            "type": "histogram2d"
           }
          ],
          "histogram2dcontour": [
           {
            "colorbar": {
             "outlinewidth": 0,
             "ticks": ""
            },
            "colorscale": [
             [
              0,
              "#0d0887"
             ],
             [
              0.1111111111111111,
              "#46039f"
             ],
             [
              0.2222222222222222,
              "#7201a8"
             ],
             [
              0.3333333333333333,
              "#9c179e"
             ],
             [
              0.4444444444444444,
              "#bd3786"
             ],
             [
              0.5555555555555556,
              "#d8576b"
             ],
             [
              0.6666666666666666,
              "#ed7953"
             ],
             [
              0.7777777777777778,
              "#fb9f3a"
             ],
             [
              0.8888888888888888,
              "#fdca26"
             ],
             [
              1,
              "#f0f921"
             ]
            ],
            "type": "histogram2dcontour"
           }
          ],
          "mesh3d": [
           {
            "colorbar": {
             "outlinewidth": 0,
             "ticks": ""
            },
            "type": "mesh3d"
           }
          ],
          "parcoords": [
           {
            "line": {
             "colorbar": {
              "outlinewidth": 0,
              "ticks": ""
             }
            },
            "type": "parcoords"
           }
          ],
          "pie": [
           {
            "automargin": true,
            "type": "pie"
           }
          ],
          "scatter": [
           {
            "marker": {
             "colorbar": {
              "outlinewidth": 0,
              "ticks": ""
             }
            },
            "type": "scatter"
           }
          ],
          "scatter3d": [
           {
            "line": {
             "colorbar": {
              "outlinewidth": 0,
              "ticks": ""
             }
            },
            "marker": {
             "colorbar": {
              "outlinewidth": 0,
              "ticks": ""
             }
            },
            "type": "scatter3d"
           }
          ],
          "scattercarpet": [
           {
            "marker": {
             "colorbar": {
              "outlinewidth": 0,
              "ticks": ""
             }
            },
            "type": "scattercarpet"
           }
          ],
          "scattergeo": [
           {
            "marker": {
             "colorbar": {
              "outlinewidth": 0,
              "ticks": ""
             }
            },
            "type": "scattergeo"
           }
          ],
          "scattergl": [
           {
            "marker": {
             "colorbar": {
              "outlinewidth": 0,
              "ticks": ""
             }
            },
            "type": "scattergl"
           }
          ],
          "scattermapbox": [
           {
            "marker": {
             "colorbar": {
              "outlinewidth": 0,
              "ticks": ""
             }
            },
            "type": "scattermapbox"
           }
          ],
          "scatterpolar": [
           {
            "marker": {
             "colorbar": {
              "outlinewidth": 0,
              "ticks": ""
             }
            },
            "type": "scatterpolar"
           }
          ],
          "scatterpolargl": [
           {
            "marker": {
             "colorbar": {
              "outlinewidth": 0,
              "ticks": ""
             }
            },
            "type": "scatterpolargl"
           }
          ],
          "scatterternary": [
           {
            "marker": {
             "colorbar": {
              "outlinewidth": 0,
              "ticks": ""
             }
            },
            "type": "scatterternary"
           }
          ],
          "surface": [
           {
            "colorbar": {
             "outlinewidth": 0,
             "ticks": ""
            },
            "colorscale": [
             [
              0,
              "#0d0887"
             ],
             [
              0.1111111111111111,
              "#46039f"
             ],
             [
              0.2222222222222222,
              "#7201a8"
             ],
             [
              0.3333333333333333,
              "#9c179e"
             ],
             [
              0.4444444444444444,
              "#bd3786"
             ],
             [
              0.5555555555555556,
              "#d8576b"
             ],
             [
              0.6666666666666666,
              "#ed7953"
             ],
             [
              0.7777777777777778,
              "#fb9f3a"
             ],
             [
              0.8888888888888888,
              "#fdca26"
             ],
             [
              1,
              "#f0f921"
             ]
            ],
            "type": "surface"
           }
          ],
          "table": [
           {
            "cells": {
             "fill": {
              "color": "#EBF0F8"
             },
             "line": {
              "color": "white"
             }
            },
            "header": {
             "fill": {
              "color": "#C8D4E3"
             },
             "line": {
              "color": "white"
             }
            },
            "type": "table"
           }
          ]
         },
         "layout": {
          "annotationdefaults": {
           "arrowcolor": "#2a3f5f",
           "arrowhead": 0,
           "arrowwidth": 1
          },
          "coloraxis": {
           "colorbar": {
            "outlinewidth": 0,
            "ticks": ""
           }
          },
          "colorscale": {
           "diverging": [
            [
             0,
             "#8e0152"
            ],
            [
             0.1,
             "#c51b7d"
            ],
            [
             0.2,
             "#de77ae"
            ],
            [
             0.3,
             "#f1b6da"
            ],
            [
             0.4,
             "#fde0ef"
            ],
            [
             0.5,
             "#f7f7f7"
            ],
            [
             0.6,
             "#e6f5d0"
            ],
            [
             0.7,
             "#b8e186"
            ],
            [
             0.8,
             "#7fbc41"
            ],
            [
             0.9,
             "#4d9221"
            ],
            [
             1,
             "#276419"
            ]
           ],
           "sequential": [
            [
             0,
             "#0d0887"
            ],
            [
             0.1111111111111111,
             "#46039f"
            ],
            [
             0.2222222222222222,
             "#7201a8"
            ],
            [
             0.3333333333333333,
             "#9c179e"
            ],
            [
             0.4444444444444444,
             "#bd3786"
            ],
            [
             0.5555555555555556,
             "#d8576b"
            ],
            [
             0.6666666666666666,
             "#ed7953"
            ],
            [
             0.7777777777777778,
             "#fb9f3a"
            ],
            [
             0.8888888888888888,
             "#fdca26"
            ],
            [
             1,
             "#f0f921"
            ]
           ],
           "sequentialminus": [
            [
             0,
             "#0d0887"
            ],
            [
             0.1111111111111111,
             "#46039f"
            ],
            [
             0.2222222222222222,
             "#7201a8"
            ],
            [
             0.3333333333333333,
             "#9c179e"
            ],
            [
             0.4444444444444444,
             "#bd3786"
            ],
            [
             0.5555555555555556,
             "#d8576b"
            ],
            [
             0.6666666666666666,
             "#ed7953"
            ],
            [
             0.7777777777777778,
             "#fb9f3a"
            ],
            [
             0.8888888888888888,
             "#fdca26"
            ],
            [
             1,
             "#f0f921"
            ]
           ]
          },
          "colorway": [
           "#636efa",
           "#EF553B",
           "#00cc96",
           "#ab63fa",
           "#FFA15A",
           "#19d3f3",
           "#FF6692",
           "#B6E880",
           "#FF97FF",
           "#FECB52"
          ],
          "font": {
           "color": "#2a3f5f"
          },
          "geo": {
           "bgcolor": "white",
           "lakecolor": "white",
           "landcolor": "#E5ECF6",
           "showlakes": true,
           "showland": true,
           "subunitcolor": "white"
          },
          "hoverlabel": {
           "align": "left"
          },
          "hovermode": "closest",
          "mapbox": {
           "style": "light"
          },
          "paper_bgcolor": "white",
          "plot_bgcolor": "#E5ECF6",
          "polar": {
           "angularaxis": {
            "gridcolor": "white",
            "linecolor": "white",
            "ticks": ""
           },
           "bgcolor": "#E5ECF6",
           "radialaxis": {
            "gridcolor": "white",
            "linecolor": "white",
            "ticks": ""
           }
          },
          "scene": {
           "xaxis": {
            "backgroundcolor": "#E5ECF6",
            "gridcolor": "white",
            "gridwidth": 2,
            "linecolor": "white",
            "showbackground": true,
            "ticks": "",
            "zerolinecolor": "white"
           },
           "yaxis": {
            "backgroundcolor": "#E5ECF6",
            "gridcolor": "white",
            "gridwidth": 2,
            "linecolor": "white",
            "showbackground": true,
            "ticks": "",
            "zerolinecolor": "white"
           },
           "zaxis": {
            "backgroundcolor": "#E5ECF6",
            "gridcolor": "white",
            "gridwidth": 2,
            "linecolor": "white",
            "showbackground": true,
            "ticks": "",
            "zerolinecolor": "white"
           }
          },
          "shapedefaults": {
           "line": {
            "color": "#2a3f5f"
           }
          },
          "ternary": {
           "aaxis": {
            "gridcolor": "white",
            "linecolor": "white",
            "ticks": ""
           },
           "baxis": {
            "gridcolor": "white",
            "linecolor": "white",
            "ticks": ""
           },
           "bgcolor": "#E5ECF6",
           "caxis": {
            "gridcolor": "white",
            "linecolor": "white",
            "ticks": ""
           }
          },
          "title": {
           "x": 0.05
          },
          "xaxis": {
           "automargin": true,
           "gridcolor": "white",
           "linecolor": "white",
           "ticks": "",
           "title": {
            "standoff": 15
           },
           "zerolinecolor": "white",
           "zerolinewidth": 2
          },
          "yaxis": {
           "automargin": true,
           "gridcolor": "white",
           "linecolor": "white",
           "ticks": "",
           "title": {
            "standoff": 15
           },
           "zerolinecolor": "white",
           "zerolinewidth": 2
          }
         }
        },
        "title": {
         "text": "Overall Shot Shares by Season"
        },
        "xaxis": {
         "anchor": "y",
         "domain": [
          0,
          1
         ],
         "title": {
          "text": "season"
         }
        },
        "yaxis": {
         "anchor": "x",
         "domain": [
          0,
          1
         ],
         "title": {
          "text": "PCT"
         }
        }
       }
      },
      "text/html": [
       "<div>                            <div id=\"04a6bc9b-9182-457f-a520-68eaa2d1bbfa\" class=\"plotly-graph-div\" style=\"height:525px; width:100%;\"></div>            <script type=\"text/javascript\">                require([\"plotly\"], function(Plotly) {                    window.PLOTLYENV=window.PLOTLYENV || {};                                    if (document.getElementById(\"04a6bc9b-9182-457f-a520-68eaa2d1bbfa\")) {                    Plotly.newPlot(                        \"04a6bc9b-9182-457f-a520-68eaa2d1bbfa\",                        [{\"hovertemplate\": \"shot_type=threePCT<br>season=%{x}<br>PCT=%{y}<extra></extra>\", \"legendgroup\": \"threePCT\", \"line\": {\"color\": \"#636efa\", \"dash\": \"solid\"}, \"mode\": \"lines\", \"name\": \"threePCT\", \"orientation\": \"v\", \"showlegend\": true, \"type\": \"scatter\", \"x\": [\"2013-14\", \"2014-15\", \"2015-16\", \"2016-17\", \"2017-18\", \"2018-19\", \"2019-20\"], \"xaxis\": \"x\", \"y\": [27.294390013713414, 28.24749416555842, 30.053353385612493, 33.25930797248078, 35.42473964640349, 35.91520904534584, 38.46228110166537], \"yaxis\": \"y\"}, {\"hovertemplate\": \"shot_type=midPCT<br>season=%{x}<br>PCT=%{y}<extra></extra>\", \"legendgroup\": \"midPCT\", \"line\": {\"color\": \"#EF553B\", \"dash\": \"solid\"}, \"mode\": \"lines\", \"name\": \"midPCT\", \"orientation\": \"v\", \"showlegend\": true, \"type\": \"scatter\", \"x\": [\"2013-14\", \"2014-15\", \"2015-16\", \"2016-17\", \"2017-18\", \"2018-19\", \"2019-20\"], \"xaxis\": \"x\", \"y\": [30.891163450357954, 30.100026390822205, 28.803666702474306, 26.32183326588426, 23.681076935496893, 19.788526557875734, 18.329266003379015], \"yaxis\": \"y\"}, {\"hovertemplate\": \"shot_type=shortPCT<br>season=%{x}<br>PCT=%{y}<extra></extra>\", \"legendgroup\": \"shortPCT\", \"line\": {\"color\": \"#00cc96\", \"dash\": \"solid\"}, \"mode\": \"lines\", \"name\": \"shortPCT\", \"orientation\": \"v\", \"showlegend\": true, \"type\": \"scatter\", \"x\": [\"2013-14\", \"2014-15\", \"2015-16\", \"2016-17\", \"2017-18\", \"2018-19\", \"2019-20\"], \"xaxis\": \"x\", \"y\": [41.81444653592863, 41.65247944361937, 41.1429799119132, 40.418858761634965, 40.89418341809962, 44.29626439677842, 43.20845289495562], \"yaxis\": \"y\"}],                        {\"legend\": {\"title\": {\"text\": \"shot_type\"}, \"tracegroupgap\": 0}, \"margin\": {\"t\": 60}, \"template\": {\"data\": {\"bar\": [{\"error_x\": {\"color\": \"#2a3f5f\"}, \"error_y\": {\"color\": \"#2a3f5f\"}, \"marker\": {\"line\": {\"color\": \"#E5ECF6\", \"width\": 0.5}}, \"type\": \"bar\"}], \"barpolar\": [{\"marker\": {\"line\": {\"color\": \"#E5ECF6\", \"width\": 0.5}}, \"type\": \"barpolar\"}], \"carpet\": [{\"aaxis\": {\"endlinecolor\": \"#2a3f5f\", \"gridcolor\": \"white\", \"linecolor\": \"white\", \"minorgridcolor\": \"white\", \"startlinecolor\": \"#2a3f5f\"}, \"baxis\": {\"endlinecolor\": \"#2a3f5f\", \"gridcolor\": \"white\", \"linecolor\": \"white\", \"minorgridcolor\": \"white\", \"startlinecolor\": \"#2a3f5f\"}, \"type\": \"carpet\"}], \"choropleth\": [{\"colorbar\": {\"outlinewidth\": 0, \"ticks\": \"\"}, \"type\": \"choropleth\"}], \"contour\": [{\"colorbar\": {\"outlinewidth\": 0, \"ticks\": \"\"}, \"colorscale\": [[0.0, \"#0d0887\"], [0.1111111111111111, \"#46039f\"], [0.2222222222222222, \"#7201a8\"], [0.3333333333333333, \"#9c179e\"], [0.4444444444444444, \"#bd3786\"], [0.5555555555555556, \"#d8576b\"], [0.6666666666666666, \"#ed7953\"], [0.7777777777777778, \"#fb9f3a\"], [0.8888888888888888, \"#fdca26\"], [1.0, \"#f0f921\"]], \"type\": \"contour\"}], \"contourcarpet\": [{\"colorbar\": {\"outlinewidth\": 0, \"ticks\": \"\"}, \"type\": \"contourcarpet\"}], \"heatmap\": [{\"colorbar\": {\"outlinewidth\": 0, \"ticks\": \"\"}, \"colorscale\": [[0.0, \"#0d0887\"], [0.1111111111111111, \"#46039f\"], [0.2222222222222222, \"#7201a8\"], [0.3333333333333333, \"#9c179e\"], [0.4444444444444444, \"#bd3786\"], [0.5555555555555556, \"#d8576b\"], [0.6666666666666666, \"#ed7953\"], [0.7777777777777778, \"#fb9f3a\"], [0.8888888888888888, \"#fdca26\"], [1.0, \"#f0f921\"]], \"type\": \"heatmap\"}], \"heatmapgl\": [{\"colorbar\": {\"outlinewidth\": 0, \"ticks\": \"\"}, \"colorscale\": [[0.0, \"#0d0887\"], [0.1111111111111111, \"#46039f\"], [0.2222222222222222, \"#7201a8\"], [0.3333333333333333, \"#9c179e\"], [0.4444444444444444, \"#bd3786\"], [0.5555555555555556, \"#d8576b\"], [0.6666666666666666, \"#ed7953\"], [0.7777777777777778, \"#fb9f3a\"], [0.8888888888888888, \"#fdca26\"], [1.0, \"#f0f921\"]], \"type\": \"heatmapgl\"}], \"histogram\": [{\"marker\": {\"colorbar\": {\"outlinewidth\": 0, \"ticks\": \"\"}}, \"type\": \"histogram\"}], \"histogram2d\": [{\"colorbar\": {\"outlinewidth\": 0, \"ticks\": \"\"}, \"colorscale\": [[0.0, \"#0d0887\"], [0.1111111111111111, \"#46039f\"], [0.2222222222222222, \"#7201a8\"], [0.3333333333333333, \"#9c179e\"], [0.4444444444444444, \"#bd3786\"], [0.5555555555555556, \"#d8576b\"], [0.6666666666666666, \"#ed7953\"], [0.7777777777777778, \"#fb9f3a\"], [0.8888888888888888, \"#fdca26\"], [1.0, \"#f0f921\"]], \"type\": \"histogram2d\"}], \"histogram2dcontour\": [{\"colorbar\": {\"outlinewidth\": 0, \"ticks\": \"\"}, \"colorscale\": [[0.0, \"#0d0887\"], [0.1111111111111111, \"#46039f\"], [0.2222222222222222, \"#7201a8\"], [0.3333333333333333, \"#9c179e\"], [0.4444444444444444, \"#bd3786\"], [0.5555555555555556, \"#d8576b\"], [0.6666666666666666, \"#ed7953\"], [0.7777777777777778, \"#fb9f3a\"], [0.8888888888888888, \"#fdca26\"], [1.0, \"#f0f921\"]], \"type\": \"histogram2dcontour\"}], \"mesh3d\": [{\"colorbar\": {\"outlinewidth\": 0, \"ticks\": \"\"}, \"type\": \"mesh3d\"}], \"parcoords\": [{\"line\": {\"colorbar\": {\"outlinewidth\": 0, \"ticks\": \"\"}}, \"type\": \"parcoords\"}], \"pie\": [{\"automargin\": true, \"type\": \"pie\"}], \"scatter\": [{\"marker\": {\"colorbar\": {\"outlinewidth\": 0, \"ticks\": \"\"}}, \"type\": \"scatter\"}], \"scatter3d\": [{\"line\": {\"colorbar\": {\"outlinewidth\": 0, \"ticks\": \"\"}}, \"marker\": {\"colorbar\": {\"outlinewidth\": 0, \"ticks\": \"\"}}, \"type\": \"scatter3d\"}], \"scattercarpet\": [{\"marker\": {\"colorbar\": {\"outlinewidth\": 0, \"ticks\": \"\"}}, \"type\": \"scattercarpet\"}], \"scattergeo\": [{\"marker\": {\"colorbar\": {\"outlinewidth\": 0, \"ticks\": \"\"}}, \"type\": \"scattergeo\"}], \"scattergl\": [{\"marker\": {\"colorbar\": {\"outlinewidth\": 0, \"ticks\": \"\"}}, \"type\": \"scattergl\"}], \"scattermapbox\": [{\"marker\": {\"colorbar\": {\"outlinewidth\": 0, \"ticks\": \"\"}}, \"type\": \"scattermapbox\"}], \"scatterpolar\": [{\"marker\": {\"colorbar\": {\"outlinewidth\": 0, \"ticks\": \"\"}}, \"type\": \"scatterpolar\"}], \"scatterpolargl\": [{\"marker\": {\"colorbar\": {\"outlinewidth\": 0, \"ticks\": \"\"}}, \"type\": \"scatterpolargl\"}], \"scatterternary\": [{\"marker\": {\"colorbar\": {\"outlinewidth\": 0, \"ticks\": \"\"}}, \"type\": \"scatterternary\"}], \"surface\": [{\"colorbar\": {\"outlinewidth\": 0, \"ticks\": \"\"}, \"colorscale\": [[0.0, \"#0d0887\"], [0.1111111111111111, \"#46039f\"], [0.2222222222222222, \"#7201a8\"], [0.3333333333333333, \"#9c179e\"], [0.4444444444444444, \"#bd3786\"], [0.5555555555555556, \"#d8576b\"], [0.6666666666666666, \"#ed7953\"], [0.7777777777777778, \"#fb9f3a\"], [0.8888888888888888, \"#fdca26\"], [1.0, \"#f0f921\"]], \"type\": \"surface\"}], \"table\": [{\"cells\": {\"fill\": {\"color\": \"#EBF0F8\"}, \"line\": {\"color\": \"white\"}}, \"header\": {\"fill\": {\"color\": \"#C8D4E3\"}, \"line\": {\"color\": \"white\"}}, \"type\": \"table\"}]}, \"layout\": {\"annotationdefaults\": {\"arrowcolor\": \"#2a3f5f\", \"arrowhead\": 0, \"arrowwidth\": 1}, \"coloraxis\": {\"colorbar\": {\"outlinewidth\": 0, \"ticks\": \"\"}}, \"colorscale\": {\"diverging\": [[0, \"#8e0152\"], [0.1, \"#c51b7d\"], [0.2, \"#de77ae\"], [0.3, \"#f1b6da\"], [0.4, \"#fde0ef\"], [0.5, \"#f7f7f7\"], [0.6, \"#e6f5d0\"], [0.7, \"#b8e186\"], [0.8, \"#7fbc41\"], [0.9, \"#4d9221\"], [1, \"#276419\"]], \"sequential\": [[0.0, \"#0d0887\"], [0.1111111111111111, \"#46039f\"], [0.2222222222222222, \"#7201a8\"], [0.3333333333333333, \"#9c179e\"], [0.4444444444444444, \"#bd3786\"], [0.5555555555555556, \"#d8576b\"], [0.6666666666666666, \"#ed7953\"], [0.7777777777777778, \"#fb9f3a\"], [0.8888888888888888, \"#fdca26\"], [1.0, \"#f0f921\"]], \"sequentialminus\": [[0.0, \"#0d0887\"], [0.1111111111111111, \"#46039f\"], [0.2222222222222222, \"#7201a8\"], [0.3333333333333333, \"#9c179e\"], [0.4444444444444444, \"#bd3786\"], [0.5555555555555556, \"#d8576b\"], [0.6666666666666666, \"#ed7953\"], [0.7777777777777778, \"#fb9f3a\"], [0.8888888888888888, \"#fdca26\"], [1.0, \"#f0f921\"]]}, \"colorway\": [\"#636efa\", \"#EF553B\", \"#00cc96\", \"#ab63fa\", \"#FFA15A\", \"#19d3f3\", \"#FF6692\", \"#B6E880\", \"#FF97FF\", \"#FECB52\"], \"font\": {\"color\": \"#2a3f5f\"}, \"geo\": {\"bgcolor\": \"white\", \"lakecolor\": \"white\", \"landcolor\": \"#E5ECF6\", \"showlakes\": true, \"showland\": true, \"subunitcolor\": \"white\"}, \"hoverlabel\": {\"align\": \"left\"}, \"hovermode\": \"closest\", \"mapbox\": {\"style\": \"light\"}, \"paper_bgcolor\": \"white\", \"plot_bgcolor\": \"#E5ECF6\", \"polar\": {\"angularaxis\": {\"gridcolor\": \"white\", \"linecolor\": \"white\", \"ticks\": \"\"}, \"bgcolor\": \"#E5ECF6\", \"radialaxis\": {\"gridcolor\": \"white\", \"linecolor\": \"white\", \"ticks\": \"\"}}, \"scene\": {\"xaxis\": {\"backgroundcolor\": \"#E5ECF6\", \"gridcolor\": \"white\", \"gridwidth\": 2, \"linecolor\": \"white\", \"showbackground\": true, \"ticks\": \"\", \"zerolinecolor\": \"white\"}, \"yaxis\": {\"backgroundcolor\": \"#E5ECF6\", \"gridcolor\": \"white\", \"gridwidth\": 2, \"linecolor\": \"white\", \"showbackground\": true, \"ticks\": \"\", \"zerolinecolor\": \"white\"}, \"zaxis\": {\"backgroundcolor\": \"#E5ECF6\", \"gridcolor\": \"white\", \"gridwidth\": 2, \"linecolor\": \"white\", \"showbackground\": true, \"ticks\": \"\", \"zerolinecolor\": \"white\"}}, \"shapedefaults\": {\"line\": {\"color\": \"#2a3f5f\"}}, \"ternary\": {\"aaxis\": {\"gridcolor\": \"white\", \"linecolor\": \"white\", \"ticks\": \"\"}, \"baxis\": {\"gridcolor\": \"white\", \"linecolor\": \"white\", \"ticks\": \"\"}, \"bgcolor\": \"#E5ECF6\", \"caxis\": {\"gridcolor\": \"white\", \"linecolor\": \"white\", \"ticks\": \"\"}}, \"title\": {\"x\": 0.05}, \"xaxis\": {\"automargin\": true, \"gridcolor\": \"white\", \"linecolor\": \"white\", \"ticks\": \"\", \"title\": {\"standoff\": 15}, \"zerolinecolor\": \"white\", \"zerolinewidth\": 2}, \"yaxis\": {\"automargin\": true, \"gridcolor\": \"white\", \"linecolor\": \"white\", \"ticks\": \"\", \"title\": {\"standoff\": 15}, \"zerolinecolor\": \"white\", \"zerolinewidth\": 2}}}, \"title\": {\"text\": \"Overall Shot Shares by Season\"}, \"xaxis\": {\"anchor\": \"y\", \"domain\": [0.0, 1.0], \"title\": {\"text\": \"season\"}}, \"yaxis\": {\"anchor\": \"x\", \"domain\": [0.0, 1.0], \"title\": {\"text\": \"PCT\"}}},                        {\"responsive\": true}                    ).then(function(){\n",
       "                            \n",
       "var gd = document.getElementById('04a6bc9b-9182-457f-a520-68eaa2d1bbfa');\n",
       "var x = new MutationObserver(function (mutations, observer) {{\n",
       "        var display = window.getComputedStyle(gd).display;\n",
       "        if (!display || display === 'none') {{\n",
       "            console.log([gd, 'removed!']);\n",
       "            Plotly.purge(gd);\n",
       "            observer.disconnect();\n",
       "        }}\n",
       "}});\n",
       "\n",
       "// Listen for the removal of the full notebook cells\n",
       "var notebookContainer = gd.closest('#notebook-container');\n",
       "if (notebookContainer) {{\n",
       "    x.observe(notebookContainer, {childList: true});\n",
       "}}\n",
       "\n",
       "// Listen for the clearing of the current output cell\n",
       "var outputEl = gd.closest('.output');\n",
       "if (outputEl) {{\n",
       "    x.observe(outputEl, {childList: true});\n",
       "}}\n",
       "\n",
       "                        })                };                });            </script>        </div>"
      ]
     },
     "metadata": {},
     "output_type": "display_data"
    }
   ],
   "source": [
    "plot_shot_share(player_df, 'overall')"
   ]
  },
  {
   "cell_type": "code",
   "execution_count": null,
   "metadata": {},
   "outputs": [],
   "source": []
  }
 ],
 "metadata": {
  "kernelspec": {
   "display_name": "nba_venv",
   "language": "python",
   "name": "nba_venv"
  },
  "language_info": {
   "codemirror_mode": {
    "name": "ipython",
    "version": 3
   },
   "file_extension": ".py",
   "mimetype": "text/x-python",
   "name": "python",
   "nbconvert_exporter": "python",
   "pygments_lexer": "ipython3",
   "version": "3.7.7"
  }
 },
 "nbformat": 4,
 "nbformat_minor": 4
}
